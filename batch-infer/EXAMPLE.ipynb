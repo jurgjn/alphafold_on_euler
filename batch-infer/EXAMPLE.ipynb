{
 "cells": [
  {
   "cell_type": "code",
   "execution_count": 1,
   "metadata": {
    "vscode": {
     "languageId": "shellscript"
    }
   },
   "outputs": [
    {
     "name": "stdout",
     "output_type": "stream",
     "text": [
      "-rw-r--r-- 1 jjaenes biol-imsb-beltrao  243 Jan 20 15:35 results/alphafold3_examples/config.yaml\n",
      "\n",
      "results/alphafold3_examples/alphafold3_jsons:\n",
      "total 20\n",
      "-rw-r--r-- 1 jjaenes biol-imsb-beltrao  282 Jan 14 14:25 atox1.json\n",
      "-rw-r--r-- 1 jjaenes biol-imsb-beltrao  569 Jan 14 14:24 dusp6.json\n",
      "-rw-r--r-- 1 jjaenes biol-imsb-beltrao  500 Jan 14 14:28 example_2pv7.json\n",
      "-rw-r--r-- 1 jjaenes biol-imsb-beltrao 1017 Jan 14 15:26 mapk1_dusp6.json\n",
      "-rw-r--r-- 1 jjaenes biol-imsb-beltrao  549 Jan 14 14:26 mapk1.json\n"
     ]
    }
   ],
   "source": [
    "# Input directory results/example_af3 with a subdirectory alphafold_jsons that has the input jsons:\n",
    "ls -l results/alphafold3_examples/*"
   ]
  },
  {
   "cell_type": "code",
   "execution_count": 2,
   "metadata": {
    "vscode": {
     "languageId": "shellscript"
    }
   },
   "outputs": [
    {
     "name": "stdout",
     "output_type": "stream",
     "text": [
      "# Edit to specify location of your AF3 model weights\n",
      "# Override other settings (public databases, docker image, etc) as needed; defaults set in workflow/config/defaults.yaml\n",
      "alphafold3_models: /cluster/work/beltrao/jjaenes/24.11.13_af3_models\n"
     ]
    }
   ],
   "source": [
    "# Edit config.yaml to specify location of model weights\n",
    "cat results/alphafold3_examples/config.yaml"
   ]
  },
  {
   "cell_type": "code",
   "execution_count": 3,
   "metadata": {
    "vscode": {
     "languageId": "shellscript"
    }
   },
   "outputs": [
    {
     "name": "stdout",
     "output_type": "stream",
     "text": [
      "Submitted batch job 21402979\n"
     ]
    }
   ],
   "source": [
    "# Start pipeline by specifying the input directory (results/example_af3) and piping to sbatch\n",
    "./batch-infer alphafold3 results/alphafold3_examples | sbatch"
   ]
  },
  {
   "cell_type": "code",
   "execution_count": 5,
   "metadata": {
    "vscode": {
     "languageId": "shellscript"
    }
   },
   "outputs": [
    {
     "name": "stdout",
     "output_type": "stream",
     "text": [
      "   JOBID  PARTITION    NAME                                      STATE    TIME  TIME_LIMIT  NODELIST(REASON)\n",
      "21402979  normal.120h  batch-infer:alphafold3=results-alphafold  RUNNING  0:35  7-00:00:00  eu-g9-038-4\n",
      "21403043  normal.4h    alphafold3_msas:id=mapk1                  RUNNING  0:01     4:00:00  eu-g5-003-4\n",
      "21403035  normal.4h    alphafold3_msas:id=atox1                  RUNNING  0:08     4:00:00  eu-g9-032-4\n",
      "21403037  normal.4h    alphafold3_msas:id=dusp6                  RUNNING  0:08     4:00:00  eu-g9-032-4\n",
      "21403022  normal.4h    alphafold3_msas:id=example_2pv7           RUNNING  0:17     4:00:00  eu-g9-029-4\n",
      "21403025  normal.4h    alphafold3_msas:id=mapk1_dusp6            RUNNING  0:17     4:00:00  eu-g9-034-2\n"
     ]
    }
   ],
   "source": [
    "# This will start the main snakemake job (batch-infer), and one MSA job per input json (alphafold3_msas)\n",
    "squeue --format=\"%.18i %.12P %.40j %.8T %.16M %.16l %40R\" | column -t --table-right 1,5,6"
   ]
  },
  {
   "cell_type": "code",
   "execution_count": 27,
   "metadata": {
    "vscode": {
     "languageId": "shellscript"
    }
   },
   "outputs": [
    {
     "name": "stdout",
     "output_type": "stream",
     "text": [
      "JOBID  PARTITION  NAME  STATE  TIME  TIME_LIMIT  NODELIST(REASON)\n"
     ]
    }
   ],
   "source": [
    "# After all MSAs have finished the batch structure prediction job (alphafold3_predictions) will start\n",
    "squeue --format=\"%.18i %.12P %.40j %.8T %.16M %.16l %40R\" | column -t --table-right 1,5,6"
   ]
  },
  {
   "cell_type": "code",
   "execution_count": 28,
   "metadata": {
    "vscode": {
     "languageId": "shellscript"
    }
   },
   "outputs": [
    {
     "name": "stdout",
     "output_type": "stream",
     "text": [
      "results/alphafold3_examples/alphafold3_predictions/atox1:\n",
      "total 1784\n",
      "-rw-r--r-- 1 jjaenes biol-imsb-beltrao   43453 Jan 20 16:12 atox1_confidences.json\n",
      "-rw-r--r-- 1 jjaenes biol-imsb-beltrao 1667912 Jan 20 16:12 atox1_data.json\n",
      "-rw-r--r-- 1 jjaenes biol-imsb-beltrao   46777 Jan 20 16:17 atox1_model.cif\n",
      "-rw-r--r-- 1 jjaenes biol-imsb-beltrao     245 Jan 20 16:12 atox1_summary_confidences.json\n",
      "-rw-r--r-- 1 jjaenes biol-imsb-beltrao     147 Jan 20 16:12 ranking_scores.csv\n",
      "drwxr-sr-x 2 jjaenes biol-imsb-beltrao    4096 Jan 20 16:12 seed-1_sample-0\n",
      "drwxr-sr-x 2 jjaenes biol-imsb-beltrao    4096 Jan 20 16:12 seed-1_sample-1\n",
      "drwxr-sr-x 2 jjaenes biol-imsb-beltrao    4096 Jan 20 16:12 seed-1_sample-2\n",
      "drwxr-sr-x 2 jjaenes biol-imsb-beltrao    4096 Jan 20 16:12 seed-1_sample-3\n",
      "drwxr-sr-x 2 jjaenes biol-imsb-beltrao    4096 Jan 20 16:12 seed-1_sample-4\n",
      "-rw-r--r-- 1 jjaenes biol-imsb-beltrao   13036 Jan 20 16:12 TERMS_OF_USE.md\n",
      "\n",
      "results/alphafold3_examples/alphafold3_predictions/dusp6:\n",
      "total 28004\n",
      "-rw-r--r-- 1 jjaenes biol-imsb-beltrao  1301908 Jan 20 16:14 dusp6_confidences.json\n",
      "-rw-r--r-- 1 jjaenes biol-imsb-beltrao 26955197 Jan 20 16:12 dusp6_data.json\n",
      "-rw-r--r-- 1 jjaenes biol-imsb-beltrao   248641 Jan 20 16:17 dusp6_model.cif\n",
      "-rw-r--r-- 1 jjaenes biol-imsb-beltrao      246 Jan 20 16:14 dusp6_summary_confidences.json\n",
      "-rw-r--r-- 1 jjaenes biol-imsb-beltrao      147 Jan 20 16:14 ranking_scores.csv\n",
      "drwxr-sr-x 2 jjaenes biol-imsb-beltrao     4096 Jan 20 16:14 seed-1_sample-0\n",
      "drwxr-sr-x 2 jjaenes biol-imsb-beltrao     4096 Jan 20 16:14 seed-1_sample-1\n",
      "drwxr-sr-x 2 jjaenes biol-imsb-beltrao     4096 Jan 20 16:14 seed-1_sample-2\n",
      "drwxr-sr-x 2 jjaenes biol-imsb-beltrao     4096 Jan 20 16:14 seed-1_sample-3\n",
      "drwxr-sr-x 2 jjaenes biol-imsb-beltrao     4096 Jan 20 16:14 seed-1_sample-4\n",
      "-rw-r--r-- 1 jjaenes biol-imsb-beltrao    13036 Jan 20 16:14 TERMS_OF_USE.md\n",
      "\n",
      "results/alphafold3_examples/alphafold3_predictions/example_2pv7:\n",
      "total 10660\n",
      "-rw-r--r-- 1 jjaenes biol-imsb-beltrao 3118089 Jan 20 16:15 example_2pv7_confidences.json\n",
      "-rw-r--r-- 1 jjaenes biol-imsb-beltrao 7301283 Jan 20 16:14 example_2pv7_data.json\n",
      "-rw-r--r-- 1 jjaenes biol-imsb-beltrao  394617 Jan 20 16:17 example_2pv7_model.cif\n",
      "-rw-r--r-- 1 jjaenes biol-imsb-beltrao     332 Jan 20 16:15 example_2pv7_summary_confidences.json\n",
      "-rw-r--r-- 1 jjaenes biol-imsb-beltrao     146 Jan 20 16:15 ranking_scores.csv\n",
      "drwxr-sr-x 2 jjaenes biol-imsb-beltrao    4096 Jan 20 16:15 seed-1_sample-0\n",
      "drwxr-sr-x 2 jjaenes biol-imsb-beltrao    4096 Jan 20 16:15 seed-1_sample-1\n",
      "drwxr-sr-x 2 jjaenes biol-imsb-beltrao    4096 Jan 20 16:15 seed-1_sample-2\n",
      "drwxr-sr-x 2 jjaenes biol-imsb-beltrao    4096 Jan 20 16:15 seed-1_sample-3\n",
      "drwxr-sr-x 2 jjaenes biol-imsb-beltrao    4096 Jan 20 16:15 seed-1_sample-4\n",
      "-rw-r--r-- 1 jjaenes biol-imsb-beltrao   13036 Jan 20 16:15 TERMS_OF_USE.md\n",
      "\n",
      "results/alphafold3_examples/alphafold3_predictions/mapk1:\n",
      "total 36044\n",
      "-rw-r--r-- 1 jjaenes biol-imsb-beltrao  1089892 Jan 20 16:16 mapk1_confidences.json\n",
      "-rw-r--r-- 1 jjaenes biol-imsb-beltrao 35364877 Jan 20 16:15 mapk1_data.json\n",
      "-rw-r--r-- 1 jjaenes biol-imsb-beltrao   243545 Jan 20 16:17 mapk1_model.cif\n",
      "-rw-r--r-- 1 jjaenes biol-imsb-beltrao      246 Jan 20 16:16 mapk1_summary_confidences.json\n",
      "-rw-r--r-- 1 jjaenes biol-imsb-beltrao      147 Jan 20 16:16 ranking_scores.csv\n",
      "drwxr-sr-x 2 jjaenes biol-imsb-beltrao     4096 Jan 20 16:16 seed-1_sample-0\n",
      "drwxr-sr-x 2 jjaenes biol-imsb-beltrao     4096 Jan 20 16:16 seed-1_sample-1\n",
      "drwxr-sr-x 2 jjaenes biol-imsb-beltrao     4096 Jan 20 16:16 seed-1_sample-2\n",
      "drwxr-sr-x 2 jjaenes biol-imsb-beltrao     4096 Jan 20 16:16 seed-1_sample-3\n",
      "drwxr-sr-x 2 jjaenes biol-imsb-beltrao     4096 Jan 20 16:16 seed-1_sample-4\n",
      "-rw-r--r-- 1 jjaenes biol-imsb-beltrao    13036 Jan 20 16:16 TERMS_OF_USE.md\n",
      "\n",
      "results/alphafold3_examples/alphafold3_predictions/mapk1_dusp6:\n",
      "total 66356\n",
      "-rw-r--r-- 1 jjaenes biol-imsb-beltrao  4820435 Jan 20 16:17 mapk1_dusp6_confidences.json\n",
      "-rw-r--r-- 1 jjaenes biol-imsb-beltrao 62319920 Jan 20 16:16 mapk1_dusp6_data.json\n",
      "-rw-r--r-- 1 jjaenes biol-imsb-beltrao   484623 Jan 20 16:17 mapk1_dusp6_model.cif\n",
      "-rw-r--r-- 1 jjaenes biol-imsb-beltrao      330 Jan 20 16:17 mapk1_dusp6_summary_confidences.json\n",
      "-rw-r--r-- 1 jjaenes biol-imsb-beltrao      147 Jan 20 16:17 ranking_scores.csv\n",
      "drwxr-sr-x 2 jjaenes biol-imsb-beltrao     4096 Jan 20 16:17 seed-1_sample-0\n",
      "drwxr-sr-x 2 jjaenes biol-imsb-beltrao     4096 Jan 20 16:17 seed-1_sample-1\n",
      "drwxr-sr-x 2 jjaenes biol-imsb-beltrao     4096 Jan 20 16:17 seed-1_sample-2\n",
      "drwxr-sr-x 2 jjaenes biol-imsb-beltrao     4096 Jan 20 16:17 seed-1_sample-3\n",
      "drwxr-sr-x 2 jjaenes biol-imsb-beltrao     4096 Jan 20 16:17 seed-1_sample-4\n",
      "-rw-r--r-- 1 jjaenes biol-imsb-beltrao    13036 Jan 20 16:17 TERMS_OF_USE.md\n"
     ]
    }
   ],
   "source": [
    "# Directory with final predictions etc\n",
    "ls -l results/alphafold3_examples/alphafold3_predictions/*"
   ]
  },
  {
   "cell_type": "code",
   "execution_count": 29,
   "metadata": {
    "vscode": {
     "languageId": "shellscript"
    }
   },
   "outputs": [
    {
     "name": "stdout",
     "output_type": "stream",
     "text": [
      " Wall-clock                      : 00:29:38\n",
      " Wall-clock                      : 00:34:21\n"
     ]
    }
   ],
   "source": [
    "# Runtimes for some MSAs\n",
    "cat results/alphafold3_examples/.snakemake-eu/myjobs/21403043.txt | grep \"Wall-clock\"\n",
    "cat results/alphafold3_examples/.snakemake-eu/myjobs/21403025.txt | grep \"Wall-clock\""
   ]
  },
  {
   "cell_type": "code",
   "execution_count": 30,
   "metadata": {
    "vscode": {
     "languageId": "shellscript"
    }
   },
   "outputs": [
    {
     "name": "stdout",
     "output_type": "stream",
     "text": [
      " Wall-clock                      : 00:05:37\n"
     ]
    }
   ],
   "source": [
    "# Runtime for structure prediction\n",
    "cat results/alphafold3_examples/.snakemake-eu/myjobs/21406440.txt | grep \"Wall-clock\""
   ]
  }
 ],
 "metadata": {
  "kernelspec": {
   "display_name": "Bash",
   "language": "bash",
   "name": "bash"
  },
  "language_info": {
   "codemirror_mode": "shell",
   "file_extension": ".sh",
   "mimetype": "text/x-sh",
   "name": "bash"
  }
 },
 "nbformat": 4,
 "nbformat_minor": 2
}
