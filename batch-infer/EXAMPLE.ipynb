{
 "cells": [
  {
   "cell_type": "code",
   "execution_count": 25,
   "metadata": {
    "vscode": {
     "languageId": "shellscript"
    }
   },
   "outputs": [
    {
     "name": "stdout",
     "output_type": "stream",
     "text": [
      "Submitted batch job 14191649\n"
     ]
    }
   ],
   "source": [
    "# Submit main snakemake job\n",
    "./batch-infer colabfold results/example_MAPK1_DUSP6 | sbatch"
   ]
  },
  {
   "cell_type": "code",
   "execution_count": 24,
   "metadata": {
    "vscode": {
     "languageId": "shellscript"
    }
   },
   "outputs": [
    {
     "name": "stdout",
     "output_type": "stream",
     "text": [
      "   JOBID  PARTITION   NAME             STATE       TIME  TIME_LIMIT  NODELIST(REASON)\n",
      "14157060  normal.24h  code-server-cpu  RUNNING  3:27:13    12:00:00  eu-g9-036-4\n"
     ]
    }
   ],
   "source": [
    "# Monitor all jobs\n",
    "squeue --format=\"%.18i %.12P %.40j %.8T %.16M %.16l %40R\" \\\n",
    "| column -t --table-right 1,5,6"
   ]
  },
  {
   "cell_type": "code",
   "execution_count": 14,
   "metadata": {
    "vscode": {
     "languageId": "shellscript"
    }
   },
   "outputs": [
    {
     "name": "stdout",
     "output_type": "stream",
     "text": [
      "      2 RUNNING\n"
     ]
    }
   ],
   "source": [
    "# Show jobs by status\n",
    "squeue --format=\"%.18i %.12P %.40j %.8T %.16M %.16l %40R\" --noheader \\\n",
    "| grep colabfold_predictions \\\n",
    "| awk '{print $4}' | sort | uniq -c"
   ]
  },
  {
   "cell_type": "code",
   "execution_count": 22,
   "metadata": {
    "vscode": {
     "languageId": "shellscript"
    }
   },
   "outputs": [
    {
     "name": "stdout",
     "output_type": "stream",
     "text": [
      "14186369 14186370 14185914 \n"
     ]
    }
   ],
   "source": [
    "# Get job ids on a single line\n",
    "squeue --format=\"%.18i %.12P %.40j %.8T %.16M %.16l %40R\" --noheader\\\n",
    "| grep 'batch-infer\\|colabfold_predictions' | awk '{print $1}' | tr '\\n' ' '"
   ]
  },
  {
   "cell_type": "code",
   "execution_count": 23,
   "metadata": {
    "vscode": {
     "languageId": "shellscript"
    }
   },
   "outputs": [],
   "source": [
    "# Cancel jobs\n",
    "scancel 14186369 14186370 14185914 "
   ]
  },
  {
   "cell_type": "code",
   "execution_count": null,
   "metadata": {
    "vscode": {
     "languageId": "shellscript"
    }
   },
   "outputs": [],
   "source": []
  }
 ],
 "metadata": {
  "kernelspec": {
   "display_name": "Bash",
   "language": "bash",
   "name": "bash"
  },
  "language_info": {
   "codemirror_mode": "shell",
   "file_extension": ".sh",
   "mimetype": "text/x-sh",
   "name": "bash"
  }
 },
 "nbformat": 4,
 "nbformat_minor": 2
}
