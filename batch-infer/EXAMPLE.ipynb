{
 "cells": [
  {
   "cell_type": "code",
   "execution_count": null,
   "metadata": {
    "vscode": {
     "languageId": "shellscript"
    }
   },
   "outputs": [
    {
     "name": "stdout",
     "output_type": "stream",
     "text": [
      "-rw-r--r-- 1 jjaenes biol-imsb-beltrao  353 Nov 15 14:24 results/example_af3/config.yaml\n",
      "\n",
      "results/example_af3/alphafold3_jsons:\n",
      "total 8\n",
      "-rw-r--r-- 1 jjaenes biol-imsb-beltrao 500 Nov 15 15:44 example_2pv7.json\n",
      "-rw-r--r-- 1 jjaenes biol-imsb-beltrao 290 Nov 14 15:55 example_atox1.json\n",
      "\n",
      "results/example_af3/alphafold3_msas:\n",
      "total 0\n"
     ]
    }
   ],
   "source": [
    "# Input directory results/example_af3 with a subdirectory alphafold_jsons that has the input jsons:\n",
    "ls -l results/example_af3/*"
   ]
  },
  {
   "cell_type": "code",
   "execution_count": null,
   "metadata": {
    "vscode": {
     "languageId": "shellscript"
    }
   },
   "outputs": [
    {
     "name": "stdout",
     "output_type": "stream",
     "text": [
      "Contents of results/example_af3/config.yaml:\n",
      "alphafold3_databases: /cluster/work/beltrao/jjaenes/24.11.11_af3_databases\n",
      "alphafold3_models: /cluster/work/beltrao/jjaenes/24.11.13_af3_models\n",
      "#alphafold3_docker: software/alphafold3/images/alphafold3.sif\n",
      "#alphafold3_docker: software/alphafold3/images/alphafold3-lowspec.sif\n",
      "alphafold3_docker: software/alphafold3/images/alphafold3-44e1fd5-lowspec.sif\n"
     ]
    }
   ],
   "source": [
    "# config.yaml has paths to Docker image/databases/model weights\n",
    "# Should be able to use the databases as is, but need to re-download the model weights by filling out the form (see af3 docs)\n",
    "echo \"Contents of results/example_af3/config.yaml:\"\n",
    "cat results/example_af3/config.yaml"
   ]
  },
  {
   "cell_type": "code",
   "execution_count": 3,
   "metadata": {
    "vscode": {
     "languageId": "shellscript"
    }
   },
   "outputs": [
    {
     "name": "stdout",
     "output_type": "stream",
     "text": [
      "Submitted batch job 15723413\n"
     ]
    }
   ],
   "source": [
    "# Start pipeline by specifying the input directory (results/example_af3) and piping to sbatch\n",
    "./batch-infer alphafold3 results/example_af3 | sbatch"
   ]
  },
  {
   "cell_type": "code",
   "execution_count": 11,
   "metadata": {
    "vscode": {
     "languageId": "shellscript"
    }
   },
   "outputs": [
    {
     "name": "stdout",
     "output_type": "stream",
     "text": [
      "   JOBID  PARTITION    NAME                                      STATE    TIME  TIME_LIMIT  NODELIST(REASON)\n",
      "15723413  normal.120h  batch-infer:alphafold3=results-example_a  RUNNING  4:35  7-00:00:00  eu-g9-048-4\n",
      "15723421  normal.4h    alphafold3_msas:id=example_2pv7           RUNNING  4:04     4:00:00  eu-g5-032-1\n",
      "15723420  normal.4h    alphafold3_msas:id=example_atox1          RUNNING  4:05     4:00:00  eu-g5-032-1\n"
     ]
    }
   ],
   "source": [
    "# This will start the main snakemake job (batch-infer), and one MSA job per input json (alphafold3_msas)\n",
    "squeue --format=\"%.18i %.12P %.40j %.8T %.16M %.16l %40R\" | column -t --table-right 1,5,6"
   ]
  },
  {
   "cell_type": "code",
   "execution_count": 30,
   "metadata": {
    "vscode": {
     "languageId": "shellscript"
    }
   },
   "outputs": [
    {
     "name": "stdout",
     "output_type": "stream",
     "text": [
      "   JOBID  PARTITION    NAME                                      STATE       TIME  TIME_LIMIT  NODELIST(REASON)\n",
      "15726911  gpupr.4h     alphafold3_predictions:                   RUNNING     2:31     4:00:00  eu-a65-04\n",
      "15723413  normal.120h  batch-infer:alphafold3=results-example_a  RUNNING  1:01:50  7-00:00:00  eu-g9-048-4\n"
     ]
    }
   ],
   "source": [
    "# After all MSAs have finished the batch structure prediction job (alphafold3_predictions) will start\n",
    "squeue --format=\"%.18i %.12P %.40j %.8T %.16M %.16l %40R\" | column -t --table-right 1,5,6"
   ]
  },
  {
   "cell_type": "code",
   "execution_count": 31,
   "metadata": {
    "vscode": {
     "languageId": "shellscript"
    }
   },
   "outputs": [
    {
     "name": "stdout",
     "output_type": "stream",
     "text": [
      "results/example_af3/alphafold3_predictions/example_2pv7:\n",
      "total 17820\n",
      "-rw-r--r-- 1 jjaenes biol-imsb-beltrao  3117212 Nov 18 15:32 example_2pv7_confidences.json\n",
      "-rw-r--r-- 1 jjaenes biol-imsb-beltrao 14602339 Nov 18 15:31 example_2pv7_data.json\n",
      "-rw-r--r-- 1 jjaenes biol-imsb-beltrao   394537 Nov 18 15:33 example_2pv7_model.cif\n",
      "-rw-r--r-- 1 jjaenes biol-imsb-beltrao      332 Nov 18 15:32 example_2pv7_summary_confidences.json\n",
      "-rw-r--r-- 1 jjaenes biol-imsb-beltrao      147 Nov 18 15:32 ranking_scores.csv\n",
      "drwxr-sr-x 2 jjaenes biol-imsb-beltrao     4096 Nov 18 15:32 seed-1_sample-0\n",
      "drwxr-sr-x 2 jjaenes biol-imsb-beltrao     4096 Nov 18 15:32 seed-1_sample-1\n",
      "drwxr-sr-x 2 jjaenes biol-imsb-beltrao     4096 Nov 18 15:32 seed-1_sample-2\n",
      "drwxr-sr-x 2 jjaenes biol-imsb-beltrao     4096 Nov 18 15:32 seed-1_sample-3\n",
      "drwxr-sr-x 2 jjaenes biol-imsb-beltrao     4096 Nov 18 15:32 seed-1_sample-4\n",
      "-rw-r--r-- 1 jjaenes biol-imsb-beltrao    13036 Nov 18 15:32 TERMS_OF_USE.md\n",
      "\n",
      "results/example_af3/alphafold3_predictions/example_atox1:\n",
      "total 1784\n",
      "-rw-r--r-- 1 jjaenes biol-imsb-beltrao   43464 Nov 18 15:31 example_atox1_confidences.json\n",
      "-rw-r--r-- 1 jjaenes biol-imsb-beltrao 1667906 Nov 18 15:30 example_atox1_data.json\n",
      "-rw-r--r-- 1 jjaenes biol-imsb-beltrao   46757 Nov 18 15:33 example_atox1_model.cif\n",
      "-rw-r--r-- 1 jjaenes biol-imsb-beltrao     245 Nov 18 15:31 example_atox1_summary_confidences.json\n",
      "-rw-r--r-- 1 jjaenes biol-imsb-beltrao     147 Nov 18 15:31 ranking_scores.csv\n",
      "drwxr-sr-x 2 jjaenes biol-imsb-beltrao    4096 Nov 18 15:31 seed-1_sample-0\n",
      "drwxr-sr-x 2 jjaenes biol-imsb-beltrao    4096 Nov 18 15:31 seed-1_sample-1\n",
      "drwxr-sr-x 2 jjaenes biol-imsb-beltrao    4096 Nov 18 15:31 seed-1_sample-2\n",
      "drwxr-sr-x 2 jjaenes biol-imsb-beltrao    4096 Nov 18 15:31 seed-1_sample-3\n",
      "drwxr-sr-x 2 jjaenes biol-imsb-beltrao    4096 Nov 18 15:31 seed-1_sample-4\n",
      "-rw-r--r-- 1 jjaenes biol-imsb-beltrao   13036 Nov 18 15:31 TERMS_OF_USE.md\n"
     ]
    }
   ],
   "source": [
    "# Directory with final predictions etc\n",
    "ls -l results/example_af3/alphafold3_predictions/*"
   ]
  },
  {
   "cell_type": "code",
   "execution_count": 32,
   "metadata": {
    "vscode": {
     "languageId": "shellscript"
    }
   },
   "outputs": [
    {
     "name": "stdout",
     "output_type": "stream",
     "text": [
      "   Wall-clock                      : 00:51:40\n",
      "   Wall-clock                      : 00:58:31\n"
     ]
    }
   ],
   "source": [
    "# Runtimes for MSA generation\n",
    "cat results/example_af3/.snakemake-eu/myjobs/15723420.txt | grep \"Wall-clock\"\n",
    "cat results/example_af3/.snakemake-eu/myjobs/15723421.txt | grep \"Wall-clock\""
   ]
  },
  {
   "cell_type": "code",
   "execution_count": 33,
   "metadata": {
    "vscode": {
     "languageId": "shellscript"
    }
   },
   "outputs": [
    {
     "name": "stdout",
     "output_type": "stream",
     "text": [
      "   Wall-clock                      : 00:02:56\n"
     ]
    }
   ],
   "source": [
    "# Runtime for structure prediction\n",
    "cat results/example_af3/.snakemake-eu/myjobs/15726911.txt | grep \"Wall-clock\""
   ]
  }
 ],
 "metadata": {
  "kernelspec": {
   "display_name": "Bash",
   "language": "bash",
   "name": "bash"
  },
  "language_info": {
   "codemirror_mode": "shell",
   "file_extension": ".sh",
   "mimetype": "text/x-sh",
   "name": "bash"
  }
 },
 "nbformat": 4,
 "nbformat_minor": 2
}
