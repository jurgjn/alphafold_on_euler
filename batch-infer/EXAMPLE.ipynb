{
 "cells": [
  {
   "cell_type": "code",
   "execution_count": 1,
   "metadata": {
    "vscode": {
     "languageId": "shellscript"
    }
   },
   "outputs": [
    {
     "name": "stdout",
     "output_type": "stream",
     "text": [
      "-rw-r--r-- 1 jjaenes biol-imsb-beltrao  353 Nov 15 14:24 results/example_af3/config.yaml\n",
      "\n",
      "results/example_af3/alphafold3_jsons:\n",
      "total 8\n",
      "-rw-r--r-- 1 jjaenes biol-imsb-beltrao 500 Nov 15 15:44 example_2pv7.json\n",
      "-rw-r--r-- 1 jjaenes biol-imsb-beltrao 290 Nov 14 15:55 example_atox1.json\n",
      "\n",
      "contents of results/example_af3/config.yaml:\n",
      "alphafold3_databases: /cluster/work/beltrao/jjaenes/24.11.11_af3_databases\n",
      "alphafold3_models: /cluster/work/beltrao/jjaenes/24.11.13_af3_models\n",
      "#alphafold3_docker: software/alphafold3/images/alphafold3.sif\n",
      "#alphafold3_docker: software/alphafold3/images/alphafold3-lowspec.sif\n",
      "alphafold3_docker: software/alphafold3/images/alphafold3-44e1fd5-lowspec.sif\n"
     ]
    }
   ],
   "source": [
    "# Input directory results/example_af3:\n",
    "# - subdirectory alphafold_json has the input jsons\n",
    "ls -l results/example_af3/*\n",
    "# - config.yaml has paths to Docker image/databases/model weights\n",
    "echo ''\n",
    "echo \"contents of results/example_af3/config.yaml:\"\n",
    "cat results/example_af3/config.yaml"
   ]
  },
  {
   "cell_type": "code",
   "execution_count": 2,
   "metadata": {
    "vscode": {
     "languageId": "shellscript"
    }
   },
   "outputs": [
    {
     "name": "stdout",
     "output_type": "stream",
     "text": [
      "Submitted batch job 15484186\n"
     ]
    }
   ],
   "source": [
    "# Start pipeline by specifying the input directory (results/example_af3) and piping to sbatch\n",
    "./batch-infer alphafold3 results/example_af3 | sbatch"
   ]
  },
  {
   "cell_type": "code",
   "execution_count": 4,
   "metadata": {
    "vscode": {
     "languageId": "shellscript"
    }
   },
   "outputs": [
    {
     "name": "stdout",
     "output_type": "stream",
     "text": [
      "   JOBID  PARTITION    NAME                                      STATE    TIME  TIME_LIMIT  NODELIST(REASON)\n",
      "15484186  normal.120h  batch-infer:alphafold3=results-example_a  RUNNING  0:20  7-00:00:00  eu-g9-047-2\n",
      "15484198  normal.4h    alphafold3_msas:id=example_atox1          RUNNING  0:06     4:00:00  eu-g9-036-1\n",
      "15484199  normal.4h    alphafold3_msas:id=example_2pv7           RUNNING  0:06     4:00:00  eu-g9-017-4\n"
     ]
    }
   ],
   "source": [
    "# This will start the main snakemake job (batch-infer), and one MSA job per input json (alphafold3_msas)\n",
    "squeue --format=\"%.18i %.12P %.40j %.8T %.16M %.16l %40R\" | column -t --table-right 1,5,6"
   ]
  },
  {
   "cell_type": "code",
   "execution_count": null,
   "metadata": {
    "vscode": {
     "languageId": "shellscript"
    }
   },
   "outputs": [],
   "source": [
    "# After all MSAs have finished the batch structure prediction job (alphafold3_predictions) will start\n",
    "squeue --format=\"%.18i %.12P %.40j %.8T %.16M %.16l %40R\" | column -t --table-right 1,5,6"
   ]
  },
  {
   "cell_type": "code",
   "execution_count": null,
   "metadata": {
    "vscode": {
     "languageId": "shellscript"
    }
   },
   "outputs": [],
   "source": [
    "# Directory with final predictions etc:\n",
    "ls -l results/example_af3/alphafold3_predictions/*"
   ]
  },
  {
   "cell_type": "code",
   "execution_count": null,
   "metadata": {
    "vscode": {
     "languageId": "shellscript"
    }
   },
   "outputs": [],
   "source": [
    "# Runtimes for MSA jobs\n",
    "cat results/example_af3/.snakemake-eu/myjobs/15477733.txt | grep \"Wall-clock\"\n",
    "cat results/example_af3/.snakemake-eu/myjobs/15477734.txt | grep \"Wall-clock\""
   ]
  },
  {
   "cell_type": "code",
   "execution_count": null,
   "metadata": {
    "vscode": {
     "languageId": "shellscript"
    }
   },
   "outputs": [],
   "source": [
    "# Runtime for structure prediction job\n",
    "cat results/example_af3/.snakemake-eu/myjobs/15482986.txt | grep \"Wall-clock\""
   ]
  },
  {
   "cell_type": "code",
   "execution_count": null,
   "metadata": {
    "vscode": {
     "languageId": "shellscript"
    }
   },
   "outputs": [],
   "source": []
  }
 ],
 "metadata": {
  "kernelspec": {
   "display_name": "Bash",
   "language": "bash",
   "name": "bash"
  },
  "language_info": {
   "codemirror_mode": "shell",
   "file_extension": ".sh",
   "mimetype": "text/x-sh",
   "name": "bash"
  }
 },
 "nbformat": 4,
 "nbformat_minor": 2
}
