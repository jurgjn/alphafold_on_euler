{
 "cells": [
  {
   "cell_type": "code",
   "execution_count": 1,
   "metadata": {
    "vscode": {
     "languageId": "shellscript"
    }
   },
   "outputs": [
    {
     "name": "stdout",
     "output_type": "stream",
     "text": [
      "/cluster/project/beltrao/jjaenes\n"
     ]
    }
   ],
   "source": [
    "# Install under the project storage area\n",
    "cd /cluster/project/beltrao/$USER\n",
    "pwd"
   ]
  },
  {
   "cell_type": "code",
   "execution_count": 2,
   "metadata": {
    "vscode": {
     "languageId": "shellscript"
    }
   },
   "outputs": [
    {
     "name": "stdout",
     "output_type": "stream",
     "text": [
      "Cloning into 'alphafold_on_euler'...\n",
      "remote: Enumerating objects: 460, done.        \n",
      "remote: Counting objects: 100% (460/460), done.        \n",
      "remote: Compressing objects: 100% (241/241), done.        \n",
      "remote: Total 460 (delta 221), reused 406 (delta 167), pack-reused 0 (from 0)        \n",
      "Receiving objects: 100% (460/460), 182.54 KiB | 651.00 KiB/s, done.\n",
      "Resolving deltas: 100% (221/221), done.\n",
      "Submodule 'batch-infer/software/smk-simple-slurm-eu' (git@github.com:jurgjn/smk-simple-slurm-eu.git) registered for path 'batch-infer/software/smk-simple-slurm-eu'\n",
      "Cloning into '/cluster/project/beltrao/jjaenes/alphafold_on_euler/batch-infer/software/smk-simple-slurm-eu'...\n",
      "remote: Enumerating objects: 548, done.        \n",
      "remote: Counting objects: 100% (117/117), done.        \n",
      "remote: Compressing objects: 100% (39/39), done.        \n",
      "remote: Total 548 (delta 96), reused 78 (delta 78), pack-reused 431 (from 1)        \n",
      "Receiving objects: 100% (548/548), 93.51 KiB | 390.00 KiB/s, done.\n",
      "Resolving deltas: 100% (277/277), done.\n",
      "Submodule path 'batch-infer/software/smk-simple-slurm-eu': checked out '10502a408a307c40b49f499224f85ef6b317daad'\n"
     ]
    }
   ],
   "source": [
    "# Clone repo including submodules\n",
    "git clone --recurse-submodules https://github.com/jurgjn/alphafold_on_euler"
   ]
  },
  {
   "cell_type": "code",
   "execution_count": 6,
   "metadata": {
    "vscode": {
     "languageId": "shellscript"
    }
   },
   "outputs": [
    {
     "name": "stdout",
     "output_type": "stream",
     "text": [
      "total 56\n",
      "-rwxr-xr-x 1 jjaenes biol-imsb-beltrao  1291 Oct 18 14:11 batch-infer\n",
      "-rw-r--r-- 1 jjaenes biol-imsb-beltrao 24815 Oct 18 14:11 batch-infer.ipynb\n",
      "drwxr-sr-x 2 jjaenes biol-imsb-beltrao  4096 Oct 18 14:11 config\n",
      "-rw-r--r-- 1 jjaenes biol-imsb-beltrao   942 Oct 18 14:11 README.md\n",
      "drwxr-sr-x 3 jjaenes biol-imsb-beltrao  4096 Oct 18 14:11 results\n",
      "drwxr-sr-x 4 jjaenes biol-imsb-beltrao  4096 Oct 18 14:11 software\n",
      "drwxr-sr-x 6 jjaenes biol-imsb-beltrao  4096 Oct 18 14:11 workflow\n"
     ]
    }
   ],
   "source": [
    "# Change to batch inference directory\n",
    "cd alphafold_on_euler/batch-infer\n",
    "ls -l"
   ]
  },
  {
   "cell_type": "code",
   "execution_count": 13,
   "metadata": {
    "vscode": {
     "languageId": "shellscript"
    }
   },
   "outputs": [
    {
     "name": "stdout",
     "output_type": "stream",
     "text": [
      "/cluster/project/beltrao/jjaenes/software/miniconda3/lib/python3.8/argparse.py:1874: FutureWarning: `remote_definition` is deprecated and will be removed in 25.9. Use `conda env create --file=URL` instead.\n",
      "  action(self, namespace, argument_values, option_string)\n",
      "Channels:\n",
      " - bioconda\n",
      " - conda-forge\n",
      " - defaults\n",
      "Platform: linux-64\n",
      "Collecting package metadata (repodata.json): done\n",
      "Solving environment: done\n",
      "\n",
      "Downloading and Extracting Packages:\n",
      "\n",
      "Preparing transaction: done\n",
      "Verifying transaction: done\n",
      "Executing transaction: done\n",
      "#\n",
      "# To activate this environment, use\n",
      "#\n",
      "#     $ conda activate batch-infer-env\n",
      "#\n",
      "# To deactivate an active environment, use\n",
      "#\n",
      "#     $ conda deactivate\n",
      "\n"
     ]
    }
   ],
   "source": [
    "# Create `batch-infer` conda environment containing snakemake & bulk download tools\n",
    "conda env create --file=workflow/envs/batch-infer.yaml"
   ]
  },
  {
   "cell_type": "code",
   "execution_count": 18,
   "metadata": {
    "vscode": {
     "languageId": "shellscript"
    }
   },
   "outputs": [
    {
     "name": "stdout",
     "output_type": "stream",
     "text": [
      "total 3021160\n",
      "lrwxrwxrwx 1 jjaenes biol-imsb-beltrao         97 Oct 18 14:37 cache -> /cluster/project/beltrao/jjaenes/22.05.30_alphafold_on_euler/batch-infer/software/colabfold/cache\n",
      "-rwxr-xr-x 2 jjaenes biol-imsb-beltrao 3081515008 Oct  2 18:24 colabfold_1.5.5-cuda11.8.0.sif\n",
      "lrwxrwxrwx 1 jjaenes biol-imsb-beltrao        100 Oct 18 14:37 database -> /cluster/project/beltrao/jjaenes/22.05.30_alphafold_on_euler/batch-infer/software/colabfold/database\n",
      "-rw-r--r-- 1 jjaenes biol-imsb-beltrao       1216 Oct 18 14:11 README.md\n"
     ]
    }
   ],
   "source": [
    "# Create symlinks to Singularity image, AF2 model parameters cache & sequence databases\n",
    "ln /cluster/project/beltrao/jjaenes/22.05.30_alphafold_on_euler/batch-infer/software/colabfold/colabfold_1.5.5-cuda11.8.0.sif software/colabfold/colabfold_1.5.5-cuda11.8.0.sif\n",
    "ln -sf /cluster/project/beltrao/jjaenes/22.05.30_alphafold_on_euler/batch-infer/software/colabfold/cache software/colabfold/cache\n",
    "ln -sf /cluster/project/beltrao/jjaenes/22.05.30_alphafold_on_euler/batch-infer/software/colabfold/database software/colabfold/database\n",
    "ls -l software/colabfold"
   ]
  }
 ],
 "metadata": {
  "kernelspec": {
   "display_name": "Bash",
   "language": "bash",
   "name": "bash"
  },
  "language_info": {
   "codemirror_mode": "shell",
   "file_extension": ".sh",
   "mimetype": "text/x-sh",
   "name": "bash"
  }
 },
 "nbformat": 4,
 "nbformat_minor": 2
}
