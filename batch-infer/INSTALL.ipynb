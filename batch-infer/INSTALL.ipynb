{
 "cells": [
  {
   "cell_type": "code",
   "execution_count": 3,
   "metadata": {
    "vscode": {
     "languageId": "shellscript"
    }
   },
   "outputs": [
    {
     "name": "stdout",
     "output_type": "stream",
     "text": [
      "/cluster/project/beltrao/jjaenes\n"
     ]
    }
   ],
   "source": [
    "# Install under the project storage area\n",
    "cd /cluster/project/beltrao/$USER\n",
    "pwd"
   ]
  },
  {
   "cell_type": "code",
   "execution_count": 4,
   "metadata": {
    "vscode": {
     "languageId": "shellscript"
    }
   },
   "outputs": [
    {
     "name": "stdout",
     "output_type": "stream",
     "text": [
      "Cloning into 'alphafold_on_euler'...\n",
      "remote: Enumerating objects: 719, done.        \n",
      "remote: Counting objects: 100% (98/98), done.        \n",
      "remote: Compressing objects: 100% (67/67), done.        \n",
      "remote: Total 719 (delta 42), reused 74 (delta 24), pack-reused 621 (from 1)        \n",
      "Receiving objects: 100% (719/719), 383.97 KiB | 1.19 MiB/s, done.\n",
      "Resolving deltas: 100% (356/356), done.\n",
      "Submodule 'batch-infer/software/smk-simple-slurm-eu' (git@github.com:jurgjn/smk-simple-slurm-eu.git) registered for path 'batch-infer/software/smk-simple-slurm-eu'\n",
      "Cloning into '/cluster/project/beltrao/jjaenes/alphafold_on_euler/batch-infer/software/smk-simple-slurm-eu'...\n",
      "remote: Enumerating objects: 566, done.        \n",
      "remote: Counting objects: 100% (135/135), done.        \n",
      "remote: Compressing objects: 100% (51/51), done.        \n",
      "remote: Total 566 (delta 104), reused 94 (delta 84), pack-reused 431 (from 1)        \n",
      "Receiving objects: 100% (566/566), 96.70 KiB | 518.00 KiB/s, done.\n",
      "Resolving deltas: 100% (285/285), done.\n",
      "Submodule path 'batch-infer/software/smk-simple-slurm-eu': checked out '1f4efe174184384d55e820ab728e5e9e83808d07'\n"
     ]
    }
   ],
   "source": [
    "# Clone repo including submodules\n",
    "git clone --recurse-submodules https://github.com/jurgjn/alphafold_on_euler"
   ]
  },
  {
   "cell_type": "code",
   "execution_count": 5,
   "metadata": {
    "vscode": {
     "languageId": "shellscript"
    }
   },
   "outputs": [
    {
     "name": "stdout",
     "output_type": "stream",
     "text": [
      "total 76\n",
      "-rwxr-xr-x 1 jjaenes biol-imsb-beltrao  1436 Nov 19 13:21 batch-infer\n",
      "-rw-r--r-- 1 jjaenes biol-imsb-beltrao  8064 Nov 19 13:21 EXAMPLE.ipynb\n",
      "-rw-r--r-- 1 jjaenes biol-imsb-beltrao 44736 Nov 19 13:21 INSTALL.ipynb\n",
      "-rw-r--r-- 1 jjaenes biol-imsb-beltrao  2506 Nov 19 13:21 README.md\n",
      "drwxr-sr-x 4 jjaenes biol-imsb-beltrao  4096 Nov 19 13:21 results\n",
      "drwxr-sr-x 7 jjaenes biol-imsb-beltrao  4096 Nov 19 13:21 software\n",
      "drwxr-sr-x 7 jjaenes biol-imsb-beltrao  4096 Nov 19 13:21 workflow\n"
     ]
    }
   ],
   "source": [
    "# Change to batch inference directory\n",
    "cd alphafold_on_euler/batch-infer\n",
    "ls -l"
   ]
  },
  {
   "cell_type": "code",
   "execution_count": null,
   "metadata": {
    "vscode": {
     "languageId": "shellscript"
    }
   },
   "outputs": [
    {
     "name": "stdout",
     "output_type": "stream",
     "text": [
      "alphafold3_databases: /cluster/work/beltrao/jjaenes/24.11.11_af3_databases\n",
      "alphafold3_models: /cluster/work/beltrao/jjaenes/24.11.13_af3_models\n",
      "alphafold3_docker: /cluster/project/beltrao/jjaenes/22.05.30_alphafold_on_euler/batch-infer/software/alphafold3/images/alphafold3-44e1fd5-lowspec.sif\n"
     ]
    }
   ],
   "source": [
    "# Show example config\n",
    "cat results/example_af3/config.yaml"
   ]
  },
  {
   "cell_type": "code",
   "execution_count": 8,
   "metadata": {
    "vscode": {
     "languageId": "shellscript"
    }
   },
   "outputs": [
    {
     "name": "stdout",
     "output_type": "stream",
     "text": [
      "total 656822892\n",
      "-rw-r--r-- 1 jjaenes biol-imsb-beltrao  18171626364 Nov 11 14:49 bfd-first_non_consensus_sequences.fasta\n",
      "-rw-r--r-- 1 jjaenes biol-imsb-beltrao 128579703018 Nov 11 15:50 mgy_clusters_2022_05.fa\n",
      "-rw-r--r-- 1 jjaenes biol-imsb-beltrao  80977012680 Nov 11 14:58 nt_rna_2023_02_23_clust_seq_id_90_cov_80_rep_seq.fasta\n",
      "-rw-r--r-- 1 jjaenes biol-imsb-beltrao 250266275840 Nov 11 15:37 pdb_2022_09_28_mmcif_files.tar\n",
      "-rw-r--r-- 1 jjaenes biol-imsb-beltrao    232899463 Nov 11 14:37 pdb_seqres_2022_09_28.fasta\n",
      "-rw-r--r-- 1 jjaenes biol-imsb-beltrao    228433680 Nov 11 14:37 rfam_14_9_clust_seq_id_90_cov_80_rep_seq.fasta\n",
      "-rw-r--r-- 1 jjaenes biol-imsb-beltrao  13860314914 Nov 11 14:42 rnacentral_active_seq_id_90_cov_80_linclust.fasta\n",
      "-rw-r--r-- 1 jjaenes biol-imsb-beltrao 108447942931 Nov 11 15:29 uniprot_all_2021_04.fa\n",
      "-rw-r--r-- 1 jjaenes biol-imsb-beltrao  71821260491 Nov 11 15:14 uniref90_2022_05.fa\n"
     ]
    }
   ],
   "source": [
    "# Check permissions to public databases\n",
    "ls -l /cluster/work/beltrao/jjaenes/24.11.11_af3_databases"
   ]
  },
  {
   "cell_type": "code",
   "execution_count": 9,
   "metadata": {
    "vscode": {
     "languageId": "shellscript"
    }
   },
   "outputs": [
    {
     "name": "stdout",
     "output_type": "stream",
     "text": [
      "-rwxr-xr-x 1 jjaenes jjaenes-group 5219565568 Nov 14 12:06 /cluster/project/beltrao/jjaenes/22.05.30_alphafold_on_euler/batch-infer/software/alphafold3/images/alphafold3-44e1fd5-lowspec.sif\n"
     ]
    }
   ],
   "source": [
    "# Check permissions for docker image\n",
    "ls -l /cluster/project/beltrao/jjaenes/22.05.30_alphafold_on_euler/batch-infer/software/alphafold3/images/alphafold3-44e1fd5-lowspec.sif"
   ]
  },
  {
   "cell_type": "code",
   "execution_count": null,
   "metadata": {
    "vscode": {
     "languageId": "shellscript"
    }
   },
   "outputs": [
    {
     "name": "stdout",
     "output_type": "stream",
     "text": [
      "total 996644\n",
      "-rwx------ 1 jjaenes biol-imsb-beltrao 1020558622 Nov 13 10:34 af3.bin.zst\n"
     ]
    }
   ],
   "source": [
    "# Check permissions/access for model weights; these are separate for every user and have to be downloaded directly from Google/DeepMind\n",
    "# There's a 3min form and it took ~2 days to get a response: https://github.com/google-deepmind/alphafold3/tree/main#obtaining-model-parameters\n",
    "ls -l /cluster/work/beltrao/jjaenes/24.11.13_af3_models"
   ]
  },
  {
   "cell_type": "code",
   "execution_count": null,
   "metadata": {
    "vscode": {
     "languageId": "shellscript"
    }
   },
   "outputs": [],
   "source": [
    "# Install done, try & run the example from EXAMPLE.ipynb\n",
    "# https://github.com/jurgjn/alphafold_on_euler/blob/main/batch-infer/EXAMPLE.ipynb"
   ]
  }
 ],
 "metadata": {
  "kernelspec": {
   "display_name": "Bash",
   "language": "bash",
   "name": "bash"
  },
  "language_info": {
   "codemirror_mode": "shell",
   "file_extension": ".sh",
   "mimetype": "text/x-sh",
   "name": "bash"
  }
 },
 "nbformat": 4,
 "nbformat_minor": 2
}
