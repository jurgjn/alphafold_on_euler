{
 "cells": [
  {
   "cell_type": "code",
   "execution_count": 1,
   "metadata": {
    "vscode": {
     "languageId": "shellscript"
    }
   },
   "outputs": [
    {
     "name": "stdout",
     "output_type": "stream",
     "text": [
      "/Users/jjaenes/24.11_alphafold_on_euler/batch-infer/software/alphafold3\n"
     ]
    }
   ],
   "source": [
    "#git clone https://github.com/google-deepmind/alphafold3.git\n",
    "pwd"
   ]
  },
  {
   "cell_type": "code",
   "execution_count": 2,
   "metadata": {
    "vscode": {
     "languageId": "shellscript"
    }
   },
   "outputs": [
    {
     "name": "stdout",
     "output_type": "stream",
     "text": [
      "#0 building with \"desktop-linux\" instance using docker driver\n",
      "\n",
      "#1 [internal] load build definition from Dockerfile\n",
      "#1 transferring dockerfile: 2.73kB done\n",
      "#1 DONE 0.0s\n",
      "\n",
      "#2 [internal] load metadata for docker.io/nvidia/cuda:12.6.0-base-ubuntu22.04\n",
      "#2 DONE 0.5s\n",
      "\n",
      "#3 [internal] load .dockerignore\n",
      "#3 transferring context: 2B done\n",
      "#3 DONE 0.0s\n",
      "\n",
      "#4 [ 1/10] FROM docker.io/nvidia/cuda:12.6.0-base-ubuntu22.04@sha256:5dca947f477ec8ea91624447bdad7cc5f6a0dfe038ef53642c884bf5416478a6\n",
      "#4 DONE 0.0s\n",
      "\n",
      "#5 [internal] load build context\n",
      "#5 transferring context: 14.28kB 0.0s done\n",
      "#5 DONE 0.0s\n",
      "\n",
      "#6 [ 6/10] COPY . /app/alphafold\n",
      "#6 CACHED\n",
      "\n",
      "#7 [ 3/10] RUN add-apt-repository ppa:deadsnakes/ppa     && DEBIAN_FRONTEND=noninteractive apt install --yes --quiet python3.11 python3-pip python3.11-venv python3.11-dev\n",
      "#7 CACHED\n",
      "\n",
      "#8 [ 4/10] RUN python3.11 -m venv /alphafold3_venv\n",
      "#8 CACHED\n",
      "\n",
      "#9 [ 5/10] RUN mkdir /hmmer_build /hmmer ;     wget http://eddylab.org/software/hmmer/hmmer-3.4.tar.gz --directory-prefix /hmmer_build ;     (cd /hmmer_build && tar zxf hmmer-3.4.tar.gz && rm hmmer-3.4.tar.gz) ;     (cd /hmmer_build/hmmer-3.4 && ./configure --prefix /hmmer) ;     (cd /hmmer_build/hmmer-3.4 && make -j8) ;     (cd /hmmer_build/hmmer-3.4 && make install) ;     (cd /hmmer_build/hmmer-3.4/easel && make install) ;     rm -R /hmmer_build\n",
      "#9 CACHED\n",
      "\n",
      "#10 [ 7/10] WORKDIR /app/alphafold\n",
      "#10 CACHED\n",
      "\n",
      "#11 [ 2/10] RUN apt update --quiet     && apt install --yes --quiet software-properties-common     && apt install --yes --quiet git wget\n",
      "#11 CACHED\n",
      "\n",
      "#12 [ 8/10] RUN pip3 install -r dev-requirements.txt\n",
      "#12 CACHED\n",
      "\n",
      "#13 [ 9/10] RUN pip3 install --no-deps .\n",
      "#13 0.644 Processing /app/alphafold\n",
      "#13 0.648   Installing build dependencies: started\n",
      "#13 7.403   Installing build dependencies: finished with status 'done'\n",
      "#13 7.404   Getting requirements to build wheel: started\n",
      "#13 7.589   Getting requirements to build wheel: finished with status 'done'\n",
      "#13 7.597   Preparing metadata (pyproject.toml): started\n",
      "#13 7.893   Preparing metadata (pyproject.toml): finished with status 'done'\n",
      "#13 7.902 Building wheels for collected packages: alphafold3\n",
      "#13 7.903   Building wheel for alphafold3 (pyproject.toml): started\n",
      "#13 68.24   Building wheel for alphafold3 (pyproject.toml): still running...\n",
      "#13 128.2   Building wheel for alphafold3 (pyproject.toml): still running...\n",
      "#13 217.5   Building wheel for alphafold3 (pyproject.toml): still running...\n",
      "#13 217.6   Building wheel for alphafold3 (pyproject.toml): finished with status 'done'\n",
      "#13 218.2   Created wheel for alphafold3: filename=alphafold3-3.0.0-cp311-cp311-linux_x86_64.whl size=218682474 sha256=d9eace4ce73eaf19c282b0350221fab141a44cd489af98c7fd595a65efec6a6f\n",
      "#13 218.2   Stored in directory: /tmp/pip-ephem-wheel-cache-66wc3ug8/wheels/f0/a6/a0/7d24ef250155b87d3859ef36a8a2b1c5ddcf193d7939f5c233\n",
      "#13 218.2 Successfully built alphafold3\n",
      "#13 218.2 Installing collected packages: alphafold3\n",
      "#13 222.0 Successfully installed alphafold3-3.0.0\n",
      "#13 222.0 \n",
      "#13 222.0 [notice] A new release of pip is available: 24.0 -> 24.3.1\n",
      "#13 222.0 [notice] To update, run: pip install --upgrade pip\n",
      "#13 DONE 222.4s\n",
      "\n",
      "#14 [10/10] RUN build_data\n",
      "#14 0.251 Parsing /alphafold3_venv/lib/python3.11/site-packages/share/libcifpp/components.cif\n",
      "100%|██████████| 44689/44689 [00:03<00:00, 12098.58it/s]\n",
      "#14 7.751 Writing /alphafold3_venv/lib/python3.11/site-packages/alphafold3/constants/converters/ccd.pickle\n",
      "#14 19.41 Done\n",
      "#14 19.95 Loading /alphafold3_venv/lib/python3.11/site-packages/alphafold3/constants/converters/ccd.pickle\n",
      "#14 25.73 Finding ions and glycans\n",
      "100%|██████████| 44689/44689 [00:00<00:00, 293559.57it/s]\n",
      "#14 25.88 writing to /alphafold3_venv/lib/python3.11/site-packages/alphafold3/constants/converters/chemical_component_sets.pickle\n",
      "#14 25.89 Done\n",
      "#14 DONE 26.6s\n",
      "\n",
      "#15 exporting to image\n",
      "#15 exporting layers\n",
      "#15 exporting layers 11.2s done\n",
      "#15 writing image sha256:de9169bdbfeb49d6d33423bd6dd0f727df89a7042ac1464ff75f132186e1f27e\n",
      "#15 writing image sha256:de9169bdbfeb49d6d33423bd6dd0f727df89a7042ac1464ff75f132186e1f27e done\n",
      "#15 naming to docker.io/library/alphafold3 done\n",
      "#15 DONE 11.2s\n",
      "\n",
      "View build details: \u001b]8;;docker-desktop://dashboard/build/desktop-linux/desktop-linux/kr3xa2lzqk73ch92cjmqxkksc\u001b\\docker-desktop://dashboard/build/desktop-linux/desktop-linux/kr3xa2lzqk73ch92cjmqxkksc\u001b]8;;\u001b\\\n",
      "/Users/jjaenes/24.11_alphafold_on_euler/batch-infer/software/alphafold3\n"
     ]
    }
   ],
   "source": [
    "cd alphafold3\n",
    "docker buildx build --platform=linux/amd64 --progress plain -t alphafold3 -f docker/Dockerfile .\n",
    "cd -"
   ]
  },
  {
   "cell_type": "code",
   "execution_count": 3,
   "metadata": {
    "vscode": {
     "languageId": "shellscript"
    }
   },
   "outputs": [
    {
     "name": "stdout",
     "output_type": "stream",
     "text": [
      "REPOSITORY   TAG       IMAGE ID       CREATED         SIZE\n",
      "alphafold3   latest    de9169bdbfeb   3 minutes ago   9.06GB\n"
     ]
    }
   ],
   "source": [
    "docker image ls\n",
    "#docker image rm 5b031e7d28fc\n",
    "#mkdir -p images\n",
    "docker save de9169bdbfeb -o images/alphafold3.tar"
   ]
  },
  {
   "cell_type": "code",
   "execution_count": null,
   "metadata": {
    "vscode": {
     "languageId": "shellscript"
    }
   },
   "outputs": [],
   "source": [
    "SRC='./images'\n",
    "DEST='euler.ethz.ch:~/batch-infer/software/alphafold3/images'\n",
    "rsync -azv --progress $SRC $DEST"
   ]
  },
  {
   "cell_type": "code",
   "execution_count": null,
   "metadata": {
    "vscode": {
     "languageId": "shellscript"
    }
   },
   "outputs": [],
   "source": []
  }
 ],
 "metadata": {
  "kernelspec": {
   "display_name": "Bash",
   "language": "bash",
   "name": "bash"
  },
  "language_info": {
   "codemirror_mode": "shell",
   "file_extension": ".sh",
   "mimetype": "text/x-sh",
   "name": "bash"
  }
 },
 "nbformat": 4,
 "nbformat_minor": 2
}
