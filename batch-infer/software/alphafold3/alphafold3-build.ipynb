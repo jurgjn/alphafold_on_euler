{
 "cells": [
  {
   "cell_type": "code",
   "execution_count": 2,
   "metadata": {
    "vscode": {
     "languageId": "shellscript"
    }
   },
   "outputs": [
    {
     "name": "stdout",
     "output_type": "stream",
     "text": [
      "/Users/jjaenes/24.11_alphafold_on_euler/batch-infer/software/alphafold3\n"
     ]
    }
   ],
   "source": [
    "#git clone https://github.com/google-deepmind/alphafold3.git\n",
    "pwd"
   ]
  },
  {
   "cell_type": "code",
   "execution_count": 3,
   "metadata": {
    "vscode": {
     "languageId": "shellscript"
    }
   },
   "outputs": [
    {
     "name": "stdout",
     "output_type": "stream",
     "text": [
      "#0 building with \"desktop-linux\" instance using docker driver\n",
      "\n",
      "#1 [internal] load build definition from Dockerfile\n",
      "#1 transferring dockerfile: 2.73kB done\n",
      "#1 DONE 0.0s\n",
      "\n",
      "#2 [internal] load metadata for docker.io/nvidia/cuda:12.6.0-base-ubuntu22.04\n",
      "#2 DONE 1.0s\n",
      "\n",
      "#3 [internal] load .dockerignore\n",
      "#3 transferring context: 2B done\n",
      "#3 DONE 0.0s\n",
      "\n",
      "#4 [ 1/10] FROM docker.io/nvidia/cuda:12.6.0-base-ubuntu22.04@sha256:5dca947f477ec8ea91624447bdad7cc5f6a0dfe038ef53642c884bf5416478a6\n",
      "#4 DONE 0.0s\n",
      "\n",
      "#5 [internal] load build context\n",
      "#5 transferring context: 14.28kB 0.0s done\n",
      "#5 DONE 0.0s\n",
      "\n",
      "#6 [ 8/10] RUN pip3 install -r dev-requirements.txt\n",
      "#6 CACHED\n",
      "\n",
      "#7 [ 7/10] WORKDIR /app/alphafold\n",
      "#7 CACHED\n",
      "\n",
      "#8 [ 5/10] RUN mkdir /hmmer_build /hmmer ;     wget http://eddylab.org/software/hmmer/hmmer-3.4.tar.gz --directory-prefix /hmmer_build ;     (cd /hmmer_build && tar zxf hmmer-3.4.tar.gz && rm hmmer-3.4.tar.gz) ;     (cd /hmmer_build/hmmer-3.4 && ./configure --prefix /hmmer) ;     (cd /hmmer_build/hmmer-3.4 && make -j8) ;     (cd /hmmer_build/hmmer-3.4 && make install) ;     (cd /hmmer_build/hmmer-3.4/easel && make install) ;     rm -R /hmmer_build\n",
      "#8 CACHED\n",
      "\n",
      "#9 [ 2/10] RUN apt update --quiet     && apt install --yes --quiet software-properties-common     && apt install --yes --quiet git wget\n",
      "#9 CACHED\n",
      "\n",
      "#10 [ 3/10] RUN add-apt-repository ppa:deadsnakes/ppa     && DEBIAN_FRONTEND=noninteractive apt install --yes --quiet python3.11 python3-pip python3.11-venv python3.11-dev\n",
      "#10 CACHED\n",
      "\n",
      "#11 [ 9/10] RUN pip3 install --no-deps .\n",
      "#11 CACHED\n",
      "\n",
      "#12 [ 4/10] RUN python3.11 -m venv /alphafold3_venv\n",
      "#12 CACHED\n",
      "\n",
      "#13 [ 6/10] COPY . /app/alphafold\n",
      "#13 CACHED\n",
      "\n",
      "#14 [10/10] RUN build_data\n",
      "#14 CACHED\n",
      "\n",
      "#15 exporting to image\n",
      "#15 exporting layers done\n",
      "#15 writing image sha256:de9169bdbfeb49d6d33423bd6dd0f727df89a7042ac1464ff75f132186e1f27e done\n",
      "#15 naming to docker.io/library/alphafold3 done\n",
      "#15 DONE 0.0s\n",
      "\n",
      "View build details: \u001b]8;;docker-desktop://dashboard/build/desktop-linux/desktop-linux/1zpqcixvcsf2bbo4b74yvqu1i\u001b\\docker-desktop://dashboard/build/desktop-linux/desktop-linux/1zpqcixvcsf2bbo4b74yvqu1i\u001b]8;;\u001b\\\n",
      "/Users/jjaenes/24.11_alphafold_on_euler/batch-infer/software/alphafold3\n"
     ]
    }
   ],
   "source": [
    "cd alphafold3\n",
    "docker buildx build --platform=linux/amd64 --progress plain -t alphafold3 -f docker/Dockerfile .\n",
    "cd -"
   ]
  },
  {
   "cell_type": "code",
   "execution_count": 4,
   "metadata": {
    "vscode": {
     "languageId": "shellscript"
    }
   },
   "outputs": [
    {
     "name": "stdout",
     "output_type": "stream",
     "text": [
      "REPOSITORY   TAG       IMAGE ID       CREATED        SIZE\n",
      "alphafold3   latest    de9169bdbfeb   13 hours ago   9.06GB\n"
     ]
    }
   ],
   "source": [
    "docker image ls\n",
    "#docker image rm 5b031e7d28fc\n",
    "#mkdir -p images\n",
    "docker save de9169bdbfeb -o images/alphafold3.tar"
   ]
  },
  {
   "cell_type": "code",
   "execution_count": 8,
   "metadata": {
    "vscode": {
     "languageId": "shellscript"
    }
   },
   "outputs": [
    {
     "name": "stdout",
     "output_type": "stream",
     "text": [
      "building file list ... \n",
      "2 files to consider\n",
      "created directory /cluster/home/jjaenes/batch-infer/software/alphafold3/images\n",
      "./\n",
      "alphafold3.tar\n",
      "  9086549504 100%   29.01MB/s    0:04:58 (xfer#1, to-check=0/2)\n",
      "\n",
      "sent 5308659836 bytes  received 48 bytes  17549288.87 bytes/sec\n",
      "total size is 9086549504  speedup is 1.71\n"
     ]
    }
   ],
   "source": [
    "SRC='./images/'\n",
    "DEST='euler.ethz.ch:~/batch-infer/software/alphafold3/images'\n",
    "rsync -azv --progress $SRC $DEST"
   ]
  }
 ],
 "metadata": {
  "kernelspec": {
   "display_name": "Bash",
   "language": "bash",
   "name": "bash"
  },
  "language_info": {
   "codemirror_mode": "shell",
   "file_extension": ".sh",
   "mimetype": "text/x-sh",
   "name": "bash"
  }
 },
 "nbformat": 4,
 "nbformat_minor": 2
}
