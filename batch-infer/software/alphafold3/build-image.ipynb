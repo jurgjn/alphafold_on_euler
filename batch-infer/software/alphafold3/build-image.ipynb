{
 "cells": [
  {
   "cell_type": "code",
   "execution_count": 1,
   "metadata": {
    "vscode": {
     "languageId": "shellscript"
    }
   },
   "outputs": [
    {
     "name": "stdout",
     "output_type": "stream",
     "text": [
      "ea04034\n",
      "/Users/jjaenes/24.11_alphafold_on_euler/batch-infer/software/alphafold3\n"
     ]
    }
   ],
   "source": [
    "cd alphafold3\n",
    "#git stash\n",
    "#git pull\n",
    "#git clone https://github.com/google-deepmind/alphafold3.git\n",
    "#git stash\n",
    "#git pull\n",
    "#git stash pop\n",
    "SHORT_HASH=`git rev-parse --short HEAD`\n",
    "echo $SHORT_HASH\n",
    "git diff\n",
    "cd -"
   ]
  },
  {
   "cell_type": "code",
   "execution_count": 2,
   "metadata": {
    "vscode": {
     "languageId": "shellscript"
    }
   },
   "outputs": [
    {
     "name": "stdout",
     "output_type": "stream",
     "text": [
      "#0 building with \"desktop-linux\" instance using docker driver\n",
      "\n",
      "#1 [internal] load build definition from Dockerfile\n",
      "#1 transferring dockerfile: 3.49kB done\n",
      "#1 DONE 0.0s\n",
      "\n",
      "#2 [internal] load metadata for docker.io/nvidia/cuda:12.6.0-base-ubuntu22.04\n",
      "#2 DONE 4.7s\n",
      "\n",
      "#3 [internal] load .dockerignore\n",
      "#3 transferring context: 2B done\n",
      "#3 DONE 0.0s\n",
      "\n",
      "#4 [ 1/11] FROM docker.io/nvidia/cuda:12.6.0-base-ubuntu22.04@sha256:5dca947f477ec8ea91624447bdad7cc5f6a0dfe038ef53642c884bf5416478a6\n",
      "#4 DONE 0.0s\n",
      "\n",
      "#5 [internal] load build context\n",
      "#5 transferring context: 20.82kB 0.0s done\n",
      "#5 DONE 0.0s\n",
      "\n",
      "#6 [ 3/11] RUN add-apt-repository ppa:deadsnakes/ppa     && DEBIAN_FRONTEND=noninteractive apt install --yes --quiet python3.11 python3-pip python3.11-venv python3.11-dev\n",
      "#6 CACHED\n",
      "\n",
      "#7 [ 9/11] RUN pip3 install -r dev-requirements.txt\n",
      "#7 CACHED\n",
      "\n",
      "#8 [ 6/11] RUN mkdir /hmmer_build /hmmer ;     wget http://eddylab.org/software/hmmer/hmmer-3.4.tar.gz --directory-prefix /hmmer_build ;     (cd /hmmer_build && tar zxf hmmer-3.4.tar.gz && rm hmmer-3.4.tar.gz) ;     (cd /hmmer_build/hmmer-3.4 && ./configure --prefix /hmmer) ;     (cd /hmmer_build/hmmer-3.4 && make -j8) ;     (cd /hmmer_build/hmmer-3.4 && make install) ;     (cd /hmmer_build/hmmer-3.4/easel && make install) ;     rm -R /hmmer_build\n",
      "#8 CACHED\n",
      "\n",
      "#9 [ 2/11] RUN apt update --quiet     && apt install --yes --quiet software-properties-common     && apt install --yes --quiet git wget gcc g++ make zlib1g-dev zstd\n",
      "#9 CACHED\n",
      "\n",
      "#10 [ 8/11] WORKDIR /app/alphafold\n",
      "#10 CACHED\n",
      "\n",
      "#11 [ 4/11] RUN python3.11 -m venv /alphafold3_venv\n",
      "#11 CACHED\n",
      "\n",
      "#12 [ 5/11] RUN pip3 install --upgrade pip\n",
      "#12 CACHED\n",
      "\n",
      "#13 [ 7/11] COPY . /app/alphafold\n",
      "#13 CACHED\n",
      "\n",
      "#14 [10/11] RUN pip3 install --no-deps .\n",
      "#14 CACHED\n",
      "\n",
      "#15 [11/11] RUN build_data\n",
      "#15 0.314 Parsing /alphafold3_venv/lib/python3.11/site-packages/share/libcifpp/components.cif\n",
      "100%|██████████| 45322/45322 [00:04<00:00, 9164.31it/s]\n",
      "#15 10.11 Writing /alphafold3_venv/lib/python3.11/site-packages/alphafold3/constants/converters/ccd.pickle\n",
      "#15 21.44 Done\n",
      "#15 21.93 Loading /alphafold3_venv/lib/python3.11/site-packages/alphafold3/constants/converters/ccd.pickle\n",
      "#15 26.64 Finding ions and glycans\n",
      "100%|██████████| 45322/45322 [00:00<00:00, 271231.92it/s]\n",
      "#15 26.81 writing to /alphafold3_venv/lib/python3.11/site-packages/alphafold3/constants/converters/chemical_component_sets.pickle\n",
      "#15 26.81 Done\n",
      "#15 DONE 27.5s\n",
      "\n",
      "#16 exporting to image\n",
      "#16 exporting layers\n",
      "#16 exporting layers 12.9s done\n",
      "#16 writing image sha256:3425d10d09cebe65af58a3129dae2cea18c44670b4e3a99f21fbeb59135c100b\n",
      "#16 writing image sha256:3425d10d09cebe65af58a3129dae2cea18c44670b4e3a99f21fbeb59135c100b done\n",
      "#16 naming to docker.io/library/alphafold3-ea04034 done\n",
      "#16 DONE 12.9s\n",
      "\n",
      "View build details: \u001b]8;;docker-desktop://dashboard/build/desktop-linux/desktop-linux/o5vcrumc3zzv2v3ein5l72gct\u001b\\docker-desktop://dashboard/build/desktop-linux/desktop-linux/o5vcrumc3zzv2v3ein5l72gct\u001b]8;;\u001b\\\n",
      "/Users/jjaenes/24.11_alphafold_on_euler/batch-infer/software/alphafold3\n"
     ]
    }
   ],
   "source": [
    "cd alphafold3\n",
    "docker buildx build --platform=linux/amd64 --progress plain -t alphafold3-$SHORT_HASH -f docker/Dockerfile .\n",
    "cd -"
   ]
  },
  {
   "cell_type": "code",
   "execution_count": null,
   "metadata": {
    "vscode": {
     "languageId": "shellscript"
    }
   },
   "outputs": [
    {
     "name": "stdout",
     "output_type": "stream",
     "text": [
      "REPOSITORY           TAG       IMAGE ID       CREATED          SIZE\n",
      "alphafold3-ea04034   latest    3425d10d09ce   21 seconds ago   9.1GB\n",
      "mutfunc-23770bd      latest    d1b9b9e2ec7a   4 weeks ago      1.56GB\n"
     ]
    }
   ],
   "source": [
    "docker image ls\n",
    "#docker image rm 5b031e7d28fc\n",
    "#docker system prune --all --force --volumes"
   ]
  },
  {
   "cell_type": "code",
   "execution_count": 4,
   "metadata": {
    "vscode": {
     "languageId": "shellscript"
    }
   },
   "outputs": [],
   "source": [
    "#mkdir -p images\n",
    "#docker save de9169bdbfeb -o images/alphafold3.tar\n",
    "docker save 3425d10d09ce -o images/alphafold3-$SHORT_HASH.tar"
   ]
  },
  {
   "cell_type": "code",
   "execution_count": 7,
   "metadata": {
    "vscode": {
     "languageId": "shellscript"
    }
   },
   "outputs": [
    {
     "name": "stdout",
     "output_type": "stream",
     "text": [
      "building file list ... \n",
      "2 files to consider\n",
      "./\n",
      "alphafold3-ea04034.tar\n",
      "  9130358784 100%   29.49MB/s    0:04:55 (xfer#1, to-check=0/2)\n",
      "\n",
      "sent 5355883875 bytes  received 48 bytes  17942659.71 bytes/sec\n",
      "total size is 9130358784  speedup is 1.70\n"
     ]
    }
   ],
   "source": [
    "SRC='./images/'\n",
    "DEST='euler.ethz.ch:/cluster/project/beltrao/shared/alphafold3/images'\n",
    "rsync -azv --progress $SRC $DEST"
   ]
  },
  {
   "cell_type": "code",
   "execution_count": 15,
   "metadata": {
    "vscode": {
     "languageId": "shellscript"
    }
   },
   "outputs": [
    {
     "name": "stdout",
     "output_type": "stream",
     "text": [
      "      ____________________   ___\n",
      "     /  ________   ___   /__/  /\n",
      "    /  _____/  /  /  /  ___   /\n",
      "   /_______/  /__/  /__/  /__/\n",
      "   Eidgenoessische Technische Hochschule Zuerich\n",
      "   Swiss Federal Institute of Technology Zurich\n",
      "   -------------------------------------------------------------------------\n",
      "                                                    E U L E R  C L U S T E R\n",
      "                .-.\n",
      "          .-'``(|||)\n",
      "       ,`\\ \\    `-`.               88                         88\n",
      "      /   \\ '``-.   `              88                         88\n",
      "    .-.  ,       `___:    88   88  88,888,  88   88  ,88888, 88888  88   88\n",
      "   (:::) :        ___     88   88  88   88  88   88  88   88  88    88   88\n",
      "    `-`  `       ,   :    88   88  88   88  88   88  88   88  88    88   88\n",
      "      \\   / ,..-`   ,     88   88  88   88  88   88  88   88  88    88   88\n",
      "       `./ /    .-.`      '88888'  '88888'  '88888'  88   88  '8888 '88888'\n",
      "          `-..-(   )\n",
      "                `-`\n",
      "\n",
      "   Documentation:  https://scicomp.ethz.ch\n",
      "   User support:   https://smartdesk.ethz.ch / cluster-support@id.ethz.ch\n",
      "   Helpdesk:       https://scicomp.ethz.ch/wiki/Euler_Helpdesk\n",
      "   Mailing list:   https://sympa.ethz.ch/sympa/info/cluster-news\n",
      "   -------------------------------------------------------------------------\n",
      "\n",
      "WARNING: 'nodev' mount option set on /tmp, it could be a source of failure during build process\n",
      "INFO:    Starting build...\n",
      "Copying blob sha256:d8c4901c19b6684ff6d980a1b3ef8bf4f49ce022e24ad356c542b5e2a974ad31\n",
      "Copying blob sha256:1e9c40c384ef892c8b044b8deea344d77213ef86e5e2e10556b176e3b66cd7e3\n",
      "Copying blob sha256:931b7ff0cb6f494b27d31a4cbec3efe62ac54676add9c7469560302f1541ecaf\n",
      "Copying blob sha256:cc51bf61b66d15057d4c73ba89e3c3ba387cdeaac86d594c98a042b55455ee17\n",
      "Copying blob sha256:2591292aa496711009497eef309bd42371956b22e56756c512c18b326162f9c3\n",
      "Copying blob sha256:3b6bc3c2c74bad1746ed46ebdcf13c564d4efd61b1198ca172bfaebea05f8843\n",
      "Copying blob sha256:7380ac0e3e03f9ee58dfb1f26aaf0d08cfaf20d969834978ac1fd1ca630e5557\n",
      "Copying blob sha256:fc6daf9bc7f6c3522bacde1888cb4d32e259f78c997c7df87ab1f617d9cb767d\n",
      "Copying blob sha256:9c92bb060f9668343c123f88e5f29a569d65f1ba8f1360e5cdff4b9eb1b0db84\n",
      "Copying blob sha256:0bfd9eb87c582d7b029361d753755e49090960df30742131b06ea2c6fc700458\n",
      "Copying blob sha256:61e15e49b3062c4192739e7fad51a985b3e14238180ca19b26b1defffa25214a\n",
      "Copying blob sha256:5f70bf18a086007016e948b04aed3b82103a36bea41755b6cddfaf10ace3c6ef\n",
      "Copying blob sha256:0c3926ff18be22ca2d4931d9927d970021a61e0abb3ddb571f808a5aee62c810\n",
      "Copying blob sha256:a5c951662f2ac89fb36b90f77518f667c2bad1673550d43970333ce7b8a5d066\n",
      "Copying blob sha256:b9e40c0e67bcd47cf4996916afb85d90f37d823e4690beb6553e82f51f38daa2\n",
      "Copying config sha256:792bd639daa09ca6d5dde9d1cd7e7a5930bb4cf62731f88ae26d5b9f37dd1cc9\n",
      "Writing manifest to image destination\n",
      "2025/01/10 15:18:34  info unpack layer: sha256:9fd4f971e399980969cd8a1fde15e80c5de8d14ef85f5741803a9d9795695107\n",
      "2025/01/10 15:18:43  info unpack layer: sha256:92e799be7c2fd42f6cf8257e82b1f0f624d7a9ebf49407a074f98a441a0f29da\n",
      "2025/01/10 15:18:45  info unpack layer: sha256:9ce8b0eefb9dcd20b42695bc9767542e27720c13f343e256cc70e24e5d71b02e\n",
      "2025/01/10 15:19:00  info unpack layer: sha256:749b953b18cc2a0decca3a045d4f2482b38aeaebbf89c1bc0cba615f283ee39e\n",
      "2025/01/10 15:19:00  info unpack layer: sha256:730406db7775f6c187e1020329fe3c381641c05a51b5cadb0bd0c7cf8ea40690\n",
      "2025/01/10 15:19:00  info unpack layer: sha256:b3d27fb81a3209b25d94647181ffc66e83ac5a0d2d40bf0f5d0e180c1dc41c50\n",
      "2025/01/10 15:19:28  warn rootless{usr/lib/x86_64-linux-gnu/gstreamer1.0/gstreamer-1.0/gst-ptp-helper} ignoring (usually) harmless EPERM on setxattr \"security.capability\"\n",
      "2025/01/10 15:19:54  info unpack layer: sha256:da1fc0b68787c23cc18bbe68f5b1d1da97f28119c1a46a73d92117e716c52696\n",
      "2025/01/10 15:20:04  info unpack layer: sha256:1e9f3a0752970d4b6ccd48bb51df93e295d9d9e791f8b7f82fc14d6cf569cea7\n",
      "2025/01/10 15:20:08  info unpack layer: sha256:1a33c2b51d69e34a6a7c83112ac250bf3d3ad56bcb923c6da6d1089bee90eeca\n",
      "2025/01/10 15:20:10  info unpack layer: sha256:10d14855a4b689ec3c26365f06103d931c7a756985eb12a48f3f8c38c97e22cf\n",
      "2025/01/10 15:20:12  info unpack layer: sha256:b4e7ffac258711a33b5885274d5b27f4a49091f05dbbbee1ffba5fb6b49c99d5\n",
      "2025/01/10 15:20:15  info unpack layer: sha256:bd9ddc54bea929a22b334e73e026d4136e5b73f5cc29942896c72e4ece69b13d\n",
      "2025/01/10 15:20:15  info unpack layer: sha256:08e54754399465b114567b2cd04749beee5fc62e452badc05ef7040f4ab271c9\n",
      "2025/01/10 15:29:26  info unpack layer: sha256:223f9f6c71d8fa320575b7f05deb8fc5da563402c1c58c889450a8e3fe59235c\n",
      "2025/01/10 15:30:30  info unpack layer: sha256:28ee587d6b0e23cbd7a5f5ee2eb82313f0cfe94b6b5ed1e7ded7d77c89f9c638\n",
      "INFO:    Creating SIF file...\n",
      "INFO:    Build complete: alphafold3-ea04034.sif\n",
      "\n",
      "real\t92m43.042s\n",
      "user\t43m42.089s\n",
      "sys\t2m35.838s\n"
     ]
    }
   ],
   "source": [
    "ssh -T euler.ethz.ch << EOF\n",
    "cd /cluster/project/beltrao/shared/alphafold3/images\n",
    "time singularity build alphafold3-ea04034.sif docker-archive://alphafold3-ea04034.tar\n",
    "EOF"
   ]
  },
  {
   "cell_type": "code",
   "execution_count": 16,
   "metadata": {
    "vscode": {
     "languageId": "shellscript"
    }
   },
   "outputs": [
    {
     "name": "stdout",
     "output_type": "stream",
     "text": [
      "      ____________________   ___\n",
      "     /  ________   ___   /__/  /\n",
      "    /  _____/  /  /  /  ___   /\n",
      "   /_______/  /__/  /__/  /__/\n",
      "   Eidgenoessische Technische Hochschule Zuerich\n",
      "   Swiss Federal Institute of Technology Zurich\n",
      "   -------------------------------------------------------------------------\n",
      "                                                    E U L E R  C L U S T E R\n",
      "                .-.\n",
      "          .-'``(|||)\n",
      "       ,`\\ \\    `-`.               88                         88\n",
      "      /   \\ '``-.   `              88                         88\n",
      "    .-.  ,       `___:    88   88  88,888,  88   88  ,88888, 88888  88   88\n",
      "   (:::) :        ___     88   88  88   88  88   88  88   88  88    88   88\n",
      "    `-`  `       ,   :    88   88  88   88  88   88  88   88  88    88   88\n",
      "      \\   / ,..-`   ,     88   88  88   88  88   88  88   88  88    88   88\n",
      "       `./ /    .-.`      '88888'  '88888'  '88888'  88   88  '8888 '88888'\n",
      "          `-..-(   )\n",
      "                `-`\n",
      "\n",
      "   Documentation:  https://scicomp.ethz.ch\n",
      "   User support:   https://smartdesk.ethz.ch / cluster-support@id.ethz.ch\n",
      "   Helpdesk:       https://scicomp.ethz.ch/wiki/Euler_Helpdesk\n",
      "   Mailing list:   https://sympa.ethz.ch/sympa/info/cluster-news\n",
      "   -------------------------------------------------------------------------\n",
      "\n",
      "total 9.8G\n",
      "-rwxr-xr-x 1 jjaenes biol-imsb-beltrao 4.9G Nov 20 14:21 alphafold3-44e1fd5-lowspec.sif\n",
      "-rwxr-xr-x 1 jjaenes jjaenes-group     4.9G Jan 10 16:33 alphafold3-ea04034.sif\n"
     ]
    }
   ],
   "source": [
    "ssh -T euler.ethz.ch << EOF\n",
    "cd /cluster/project/beltrao/shared/alphafold3/images\n",
    "rm alphafold3-ea04034.tar\n",
    "ls -lh\n",
    "EOF"
   ]
  }
 ],
 "metadata": {
  "kernelspec": {
   "display_name": "Bash",
   "language": "bash",
   "name": "bash"
  },
  "language_info": {
   "codemirror_mode": "shell",
   "file_extension": ".sh",
   "mimetype": "text/x-sh",
   "name": "bash"
  }
 },
 "nbformat": 4,
 "nbformat_minor": 2
}
