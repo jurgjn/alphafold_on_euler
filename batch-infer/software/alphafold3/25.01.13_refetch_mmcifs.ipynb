{
 "cells": [
  {
   "cell_type": "code",
   "execution_count": 1,
   "metadata": {
    "vscode": {
     "languageId": "shellscript"
    }
   },
   "outputs": [
    {
     "name": "stdout",
     "output_type": "stream",
     "text": [
      "Submitted batch job 20721265\n"
     ]
    }
   ],
   "source": [
    "sbatch <<EOF\n",
    "#!/usr/bin/env bash\n",
    "#SBATCH --job-name=25.01.13_refetch_mmcifs\n",
    "#SBATCH --ntasks=1\n",
    "#SBATCH --mem-per-cpu=16G\n",
    "#SBATCH --time=1-00:00:00\n",
    "#SBATCH --output=25.01.13_refetch_mmcifs.txt\n",
    "source \\$HOME/.bashrc\n",
    "module load eth_proxy\n",
    "\n",
    "# https://github.com/google-deepmind/alphafold3/blob/main/fetch_databases.sh\n",
    "readonly SOURCE=https://storage.googleapis.com/alphafold-databases/v3.0\n",
    "echo \\$SOURCE\n",
    "\n",
    "export db_dir=/cluster/work/beltrao/jjaenes/24.11.11_af3_databases\n",
    "echo \\$db_dir\n",
    "\n",
    "echo \"Start Fetching and Untarring 'pdb_2022_09_28_mmcif_files.tar'\"\n",
    "wget --quiet --output-document=- \\\n",
    "    \"\\${SOURCE}/pdb_2022_09_28_mmcif_files.tar.zst\" | \\\n",
    "    tar --no-same-owner --no-same-permissions \\\n",
    "    --use-compress-program=zstd -xf - --directory=\"\\${db_dir}\"\n",
    "\n",
    "myjobs -j \\$SLURM_JOB_ID\n",
    "EOF"
   ]
  },
  {
   "cell_type": "code",
   "execution_count": null,
   "metadata": {
    "vscode": {
     "languageId": "shellscript"
    }
   },
   "outputs": [],
   "source": [
    "#rm -rf /cluster/work/beltrao/jjaenes/24.11.11_af3_databases/mmcif_files\n",
    "#squeue --me\n",
    "du -s --inodes /cluster/work/beltrao/jjaenes/24.11.11_af3_databases/mmcif_files"
   ]
  }
 ],
 "metadata": {
  "kernelspec": {
   "display_name": "Bash",
   "language": "bash",
   "name": "bash"
  },
  "language_info": {
   "codemirror_mode": "shell",
   "file_extension": ".sh",
   "mimetype": "text/x-sh",
   "name": "bash"
  }
 },
 "nbformat": 4,
 "nbformat_minor": 2
}
