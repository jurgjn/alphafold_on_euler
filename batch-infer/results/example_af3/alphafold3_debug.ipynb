{
 "cells": [
  {
   "cell_type": "code",
   "execution_count": 1,
   "metadata": {},
   "outputs": [],
   "source": [
    "import os, os.path, json\n",
    "import pandas as pd"
   ]
  },
  {
   "cell_type": "code",
   "execution_count": 2,
   "metadata": {},
   "outputs": [
    {
     "data": {
      "text/html": [
       "<div>\n",
       "<style scoped>\n",
       "    .dataframe tbody tr th:only-of-type {\n",
       "        vertical-align: middle;\n",
       "    }\n",
       "\n",
       "    .dataframe tbody tr th {\n",
       "        vertical-align: top;\n",
       "    }\n",
       "\n",
       "    .dataframe thead th {\n",
       "        text-align: right;\n",
       "    }\n",
       "</style>\n",
       "<table border=\"1\" class=\"dataframe\">\n",
       "  <thead>\n",
       "    <tr style=\"text-align: right;\">\n",
       "      <th></th>\n",
       "      <th>gpu</th>\n",
       "      <th>ranking_score</th>\n",
       "    </tr>\n",
       "  </thead>\n",
       "  <tbody>\n",
       "    <tr>\n",
       "      <th>0</th>\n",
       "      <td>rtx_2080_ti</td>\n",
       "      <td>-99.68</td>\n",
       "    </tr>\n",
       "    <tr>\n",
       "      <th>1</th>\n",
       "      <td>rtx_3090</td>\n",
       "      <td>0.67</td>\n",
       "    </tr>\n",
       "    <tr>\n",
       "      <th>2</th>\n",
       "      <td>rtx_4090</td>\n",
       "      <td>0.67</td>\n",
       "    </tr>\n",
       "    <tr>\n",
       "      <th>3</th>\n",
       "      <td>titan_rtx</td>\n",
       "      <td>-99.78</td>\n",
       "    </tr>\n",
       "    <tr>\n",
       "      <th>4</th>\n",
       "      <td>quadro_rtx_6000</td>\n",
       "      <td>-99.74</td>\n",
       "    </tr>\n",
       "    <tr>\n",
       "      <th>5</th>\n",
       "      <td>v100</td>\n",
       "      <td>-99.78</td>\n",
       "    </tr>\n",
       "    <tr>\n",
       "      <th>6</th>\n",
       "      <td>a100_pcie_40gb</td>\n",
       "      <td>0.67</td>\n",
       "    </tr>\n",
       "    <tr>\n",
       "      <th>7</th>\n",
       "      <td>a100_80gb</td>\n",
       "      <td>0.67</td>\n",
       "    </tr>\n",
       "  </tbody>\n",
       "</table>\n",
       "</div>"
      ],
      "text/plain": [
       "               gpu  ranking_score\n",
       "0      rtx_2080_ti         -99.68\n",
       "1         rtx_3090           0.67\n",
       "2         rtx_4090           0.67\n",
       "3        titan_rtx         -99.78\n",
       "4  quadro_rtx_6000         -99.74\n",
       "5             v100         -99.78\n",
       "6   a100_pcie_40gb           0.67\n",
       "7        a100_80gb           0.67"
      ]
     },
     "execution_count": 2,
     "metadata": {},
     "output_type": "execute_result"
    }
   ],
   "source": [
    "gpus = [\n",
    "    'alphafold3_predictions_rtx_2080_ti',\n",
    "    'alphafold3_predictions_rtx_3090',\n",
    "    'alphafold3_predictions_rtx_4090',\n",
    "    'alphafold3_predictions_titan_rtx',\n",
    "    'alphafold3_predictions_quadro_rtx_6000',\n",
    "    'alphafold3_predictions_v100',\n",
    "    'alphafold3_predictions_a100_pcie_40gb',\n",
    "    'alphafold3_predictions_a100_80gb',\n",
    "]\n",
    "\n",
    "def score_(fp_):\n",
    "    with open(fp_, 'r') as fh:\n",
    "        js = json.load(fh)\n",
    "        return js['ranking_score']\n",
    "\n",
    "df_ = pd.DataFrame({'step': gpus})\n",
    "df_['gpu'] = df_['step'].str.removeprefix('alphafold3_predictions_')\n",
    "df_['json'] = df_['step'].map(lambda gpu: f'{gpu}/example_2pv7/example_2pv7_summary_confidences.json')\n",
    "df_['isfile'] = df_['json'].map(os.path.isfile)\n",
    "df_['ranking_score'] = df_['json'].map(score_)\n",
    "df_[['gpu', 'ranking_score']]"
   ]
  },
  {
   "cell_type": "code",
   "execution_count": 3,
   "metadata": {},
   "outputs": [],
   "source": [
    "df_[['gpu', 'ranking_score']].to_markdown('alphafold3_debug_summary.md', index=False)"
   ]
  }
 ],
 "metadata": {
  "kernelspec": {
   "display_name": "af2genomics-env2",
   "language": "python",
   "name": "python3"
  },
  "language_info": {
   "codemirror_mode": {
    "name": "ipython",
    "version": 3
   },
   "file_extension": ".py",
   "mimetype": "text/x-python",
   "name": "python",
   "nbconvert_exporter": "python",
   "pygments_lexer": "ipython3",
   "version": "3.12.7"
  }
 },
 "nbformat": 4,
 "nbformat_minor": 2
}
