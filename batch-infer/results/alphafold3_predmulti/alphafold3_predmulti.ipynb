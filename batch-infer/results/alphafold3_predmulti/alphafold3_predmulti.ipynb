{
 "cells": [
  {
   "cell_type": "code",
   "execution_count": 4,
   "metadata": {
    "vscode": {
     "languageId": "shellscript"
    }
   },
   "outputs": [],
   "source": [
    "cd -P ~/batch-infer"
   ]
  },
  {
   "cell_type": "code",
   "execution_count": 17,
   "metadata": {
    "vscode": {
     "languageId": "shellscript"
    }
   },
   "outputs": [
    {
     "name": "stdout",
     "output_type": "stream",
     "text": [
      "   JOBID  PARTITION    NAME                                                STATE       TIME  TIME_LIMIT  NODELIST(REASON)\n",
      "29003434  normal.120h  batch-infer:alphafold3_msas_only=projects-af3_mgen  RUNNING  2:51:01  7-00:00:00  eu-g5-025-3\n",
      "29003395  normal.24h   code                                                RUNNING  1:58:57     8:00:00  eu-a2p-057\n",
      "29003480  normal.4h    alphafold3_msas:id=aac71258.1                       RUNNING  2:49:17     4:00:00  eu-a2p-141\n",
      "2\n"
     ]
    }
   ],
   "source": [
    "#./batch-infer alphafold3_predmulti results/alphafold3_predmulti | sbatch\n",
    "my_squeue\n",
    "#my_scounts\n",
    "ls -1 ~/batch-infer/results/alphafold3_predmulti/alphafold3_predmulti/*/*_model.cif.gz | wc -l"
   ]
  },
  {
   "cell_type": "code",
   "execution_count": null,
   "metadata": {
    "vscode": {
     "languageId": "shellscript"
    }
   },
   "outputs": [],
   "source": []
  }
 ],
 "metadata": {
  "kernelspec": {
   "display_name": "Bash",
   "language": "bash",
   "name": "bash"
  },
  "language_info": {
   "codemirror_mode": "shell",
   "file_extension": ".sh",
   "mimetype": "text/x-sh",
   "name": "bash"
  }
 },
 "nbformat": 4,
 "nbformat_minor": 2
}
