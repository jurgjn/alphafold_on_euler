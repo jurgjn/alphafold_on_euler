{
 "cells": [
  {
   "cell_type": "markdown",
   "metadata": {},
   "source": [
    "We ran `2PV7` on our GPUs\n",
    "[as above](https://github.com/google-deepmind/alphafold3/issues/59#issuecomment-2482720962)\n",
    "with commit `ea04034` of the alphafold3 repository.\n",
    "Ranking scores are now between 0.64 and 0.67, and the predicted structures generally align/match in pymol.\n",
    "\n",
    "* We use the\n",
    "[following script](https://github.com/jurgjn/alphafold_on_euler/blob/main/batch-infer/workflow/scripts/run_alphafold.sh)\n",
    "to fix GPU capability 7.x, and enable unified memory + adjust shard spec for <40GB-ish GPU RAM\n",
    "* Pre-Ampere GPUs (`rtx_2080_ti`, `titan_rtx`, `quadro_rtx_6000`, `v100`) only run with `--flash_attention_implementation=xla`\n",
    "* Our `rtx_2080_ti` has 11GB GPU RAM, we are only able to run the example by forcing the compilation bucket to match the example size (`--buckets=596`). The predicted structure has a different orientation (predictions from all other GPUs are ordered identically), but does align to the A100 prediction (RMSD=4.2)."
   ]
  },
  {
   "cell_type": "code",
   "execution_count": 1,
   "metadata": {},
   "outputs": [],
   "source": [
    "import os, os.path, json\n",
    "import pandas as pd"
   ]
  },
  {
   "cell_type": "code",
   "execution_count": 2,
   "metadata": {},
   "outputs": [
    {
     "data": {
      "text/html": [
       "<div>\n",
       "<style scoped>\n",
       "    .dataframe tbody tr th:only-of-type {\n",
       "        vertical-align: middle;\n",
       "    }\n",
       "\n",
       "    .dataframe tbody tr th {\n",
       "        vertical-align: top;\n",
       "    }\n",
       "\n",
       "    .dataframe thead th {\n",
       "        text-align: right;\n",
       "    }\n",
       "</style>\n",
       "<table border=\"1\" class=\"dataframe\">\n",
       "  <thead>\n",
       "    <tr style=\"text-align: right;\">\n",
       "      <th></th>\n",
       "      <th>gpu</th>\n",
       "      <th>ranking_score</th>\n",
       "    </tr>\n",
       "  </thead>\n",
       "  <tbody>\n",
       "    <tr>\n",
       "      <th>0</th>\n",
       "      <td>rtx_2080_ti</td>\n",
       "      <td>0.64</td>\n",
       "    </tr>\n",
       "    <tr>\n",
       "      <th>1</th>\n",
       "      <td>rtx_3090</td>\n",
       "      <td>0.67</td>\n",
       "    </tr>\n",
       "    <tr>\n",
       "      <th>2</th>\n",
       "      <td>rtx_4090</td>\n",
       "      <td>0.67</td>\n",
       "    </tr>\n",
       "    <tr>\n",
       "      <th>3</th>\n",
       "      <td>titan_rtx</td>\n",
       "      <td>0.67</td>\n",
       "    </tr>\n",
       "    <tr>\n",
       "      <th>4</th>\n",
       "      <td>quadro_rtx_6000</td>\n",
       "      <td>0.67</td>\n",
       "    </tr>\n",
       "    <tr>\n",
       "      <th>5</th>\n",
       "      <td>v100</td>\n",
       "      <td>0.66</td>\n",
       "    </tr>\n",
       "    <tr>\n",
       "      <th>6</th>\n",
       "      <td>a100_pcie_40gb</td>\n",
       "      <td>0.66</td>\n",
       "    </tr>\n",
       "    <tr>\n",
       "      <th>7</th>\n",
       "      <td>a100_80gb</td>\n",
       "      <td>0.66</td>\n",
       "    </tr>\n",
       "  </tbody>\n",
       "</table>\n",
       "</div>"
      ],
      "text/plain": [
       "               gpu  ranking_score\n",
       "0      rtx_2080_ti           0.64\n",
       "1         rtx_3090           0.67\n",
       "2         rtx_4090           0.67\n",
       "3        titan_rtx           0.67\n",
       "4  quadro_rtx_6000           0.67\n",
       "5             v100           0.66\n",
       "6   a100_pcie_40gb           0.66\n",
       "7        a100_80gb           0.66"
      ]
     },
     "execution_count": 2,
     "metadata": {},
     "output_type": "execute_result"
    }
   ],
   "source": [
    "gpus = [\n",
    "    'alphafold3_predictions_rtx_2080_ti',\n",
    "    'alphafold3_predictions_rtx_3090',\n",
    "    'alphafold3_predictions_rtx_4090',\n",
    "    'alphafold3_predictions_titan_rtx',\n",
    "    'alphafold3_predictions_quadro_rtx_6000',\n",
    "    'alphafold3_predictions_v100',\n",
    "    'alphafold3_predictions_a100_pcie_40gb',\n",
    "    'alphafold3_predictions_a100_80gb',\n",
    "]\n",
    "\n",
    "def score_(fp_):\n",
    "    with open(fp_, 'r') as fh:\n",
    "        js = json.load(fh)\n",
    "        return js['ranking_score']\n",
    "\n",
    "df_ = pd.DataFrame({'step': gpus})\n",
    "df_['gpu'] = df_['step'].str.removeprefix('alphafold3_predictions_')\n",
    "df_['json'] = df_['step'].map(lambda gpu: f'{gpu}/example_2pv7/example_2pv7_summary_confidences.json')\n",
    "df_['isfile'] = df_['json'].map(os.path.isfile)\n",
    "df_['ranking_score'] = df_['json'].map(score_)\n",
    "df_[['gpu', 'ranking_score']]"
   ]
  },
  {
   "cell_type": "code",
   "execution_count": 3,
   "metadata": {},
   "outputs": [],
   "source": [
    "df_[['gpu', 'ranking_score']].to_markdown('summary.md', index=False)"
   ]
  }
 ],
 "metadata": {
  "kernelspec": {
   "display_name": "af2genomics-env2",
   "language": "python",
   "name": "python3"
  },
  "language_info": {
   "codemirror_mode": {
    "name": "ipython",
    "version": 3
   },
   "file_extension": ".py",
   "mimetype": "text/x-python",
   "name": "python",
   "nbconvert_exporter": "python",
   "pygments_lexer": "ipython3",
   "version": "3.12.7"
  }
 },
 "nbformat": 4,
 "nbformat_minor": 2
}
