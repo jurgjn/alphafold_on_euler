{
 "cells": [
  {
   "cell_type": "code",
   "execution_count": 1,
   "metadata": {
    "vscode": {
     "languageId": "shellscript"
    }
   },
   "outputs": [
    {
     "name": "stdout",
     "output_type": "stream",
     "text": [
      "HEAD is now at 4f52a3b Initial release of AlphaFold 3\n",
      "/Users/jjaenes/25.06_batch-infer/software/alphafold3\n"
     ]
    }
   ],
   "source": [
    "cd alphafold3\n",
    "#git clone https://github.com/google-deepmind/alphafold3.git\n",
    "#git stash\n",
    "#git pull\n",
    "#git stash pop\n",
    "#SHORT_HASH=`git rev-parse --short HEAD`\n",
    "#echo $SHORT_HASH\n",
    "#git tag --list\n",
    "VERSION='v3.0.0'\n",
    "git checkout $VERSION\n",
    "#echo git diff:\n",
    "#git diff\n",
    "cd -"
   ]
  },
  {
   "cell_type": "code",
   "execution_count": 2,
   "metadata": {
    "vscode": {
     "languageId": "shellscript"
    }
   },
   "outputs": [
    {
     "name": "stdout",
     "output_type": "stream",
     "text": [
      "#0 building with \"desktop-linux\" instance using docker driver\n",
      "\n",
      "#1 [internal] load build definition from Dockerfile\n",
      "#1 transferring dockerfile: 2.73kB done\n",
      "#1 DONE 0.0s\n",
      "\n",
      "#2 [internal] load metadata for docker.io/nvidia/cuda:12.6.0-base-ubuntu22.04\n",
      "#2 DONE 1.0s\n",
      "\n",
      "#3 [internal] load .dockerignore\n",
      "#3 transferring context: 2B done\n",
      "#3 DONE 0.0s\n",
      "\n",
      "#4 [ 1/10] FROM docker.io/nvidia/cuda:12.6.0-base-ubuntu22.04@sha256:5dca947f477ec8ea91624447bdad7cc5f6a0dfe038ef53642c884bf5416478a6\n",
      "#4 DONE 0.0s\n",
      "\n",
      "#5 [internal] load build context\n",
      "#5 transferring context: 117.33MB 0.6s done\n",
      "#5 DONE 0.6s\n",
      "\n",
      "#6 [ 3/10] RUN add-apt-repository ppa:deadsnakes/ppa     && DEBIAN_FRONTEND=noninteractive apt install --yes --quiet python3.11 python3-pip python3.11-venv python3.11-dev\n",
      "#6 CACHED\n",
      "\n",
      "#7 [ 4/10] RUN python3.11 -m venv /alphafold3_venv\n",
      "#7 CACHED\n",
      "\n",
      "#8 [ 2/10] RUN apt update --quiet     && apt install --yes --quiet software-properties-common     && apt install --yes --quiet git wget\n",
      "#8 CACHED\n",
      "\n",
      "#9 [ 5/10] RUN mkdir /hmmer_build /hmmer ;     wget http://eddylab.org/software/hmmer/hmmer-3.4.tar.gz --directory-prefix /hmmer_build ;     (cd /hmmer_build && tar zxf hmmer-3.4.tar.gz && rm hmmer-3.4.tar.gz) ;     (cd /hmmer_build/hmmer-3.4 && ./configure --prefix /hmmer) ;     (cd /hmmer_build/hmmer-3.4 && make -j8) ;     (cd /hmmer_build/hmmer-3.4 && make install) ;     (cd /hmmer_build/hmmer-3.4/easel && make install) ;     rm -R /hmmer_build\n",
      "#9 CACHED\n",
      "\n",
      "#10 [ 6/10] COPY . /app/alphafold\n",
      "#10 DONE 0.3s\n",
      "\n",
      "#11 [ 7/10] WORKDIR /app/alphafold\n",
      "#11 DONE 0.0s\n",
      "\n",
      "#12 [ 8/10] RUN pip3 install -r dev-requirements.txt\n",
      "#12 0.841 Collecting absl-py==2.1.0 (from -r dev-requirements.txt (line 7))\n",
      "#12 0.969   Downloading absl_py-2.1.0-py3-none-any.whl (133 kB)\n",
      "#12 1.005      ━━━━━━━━━━━━━━━━━━━━━━━━━━━━━━━━━━━━━━━ 133.7/133.7 kB 4.5 MB/s eta 0:00:00\n",
      "#12 1.041 Collecting chex==0.1.87 (from -r dev-requirements.txt (line 15))\n",
      "#12 1.055   Downloading chex-0.1.87-py3-none-any.whl (99 kB)\n",
      "#12 1.071      ━━━━━━━━━━━━━━━━━━━━━━━━━━━━━━━━━━━━━━━━ 99.4/99.4 kB 6.7 MB/s eta 0:00:00\n",
      "#12 1.098 Collecting dm-haiku==0.0.13 (from -r dev-requirements.txt (line 19))\n",
      "#12 1.114   Downloading dm_haiku-0.0.13-py3-none-any.whl (373 kB)\n",
      "#12 1.164      ━━━━━━━━━━━━━━━━━━━━━━━━━━━━━━━━━━━━━━━ 373.9/373.9 kB 7.6 MB/s eta 0:00:00\n",
      "#12 1.206 Collecting dm-tree==0.1.8 (from -r dev-requirements.txt (line 23))\n",
      "#12 1.222   Downloading dm_tree-0.1.8-cp311-cp311-manylinux_2_17_x86_64.manylinux2014_x86_64.whl (152 kB)\n",
      "#12 1.240      ━━━━━━━━━━━━━━━━━━━━━━━━━━━━━━━━━━━━━━━ 152.8/152.8 kB 9.0 MB/s eta 0:00:00\n",
      "#12 1.278 Collecting filelock==3.16.1 (from -r dev-requirements.txt (line 71))\n",
      "#12 1.294   Downloading filelock-3.16.1-py3-none-any.whl (16 kB)\n",
      "#12 1.343 Collecting jax==0.4.34 (from jax[cuda12]==0.4.34->-r dev-requirements.txt (line 75))\n",
      "#12 1.360   Downloading jax-0.4.34-py3-none-any.whl (2.1 MB)\n",
      "#12 1.520      ━━━━━━━━━━━━━━━━━━━━━━━━━━━━━━━━━━━━━━━━ 2.1/2.1 MB 13.5 MB/s eta 0:00:00\n",
      "#12 1.556 Collecting jax-cuda12-pjrt==0.4.34 (from -r dev-requirements.txt (line 82))\n",
      "#12 1.571   Downloading jax_cuda12_pjrt-0.4.34-py3-none-manylinux2014_x86_64.whl (100.3 MB)\n",
      "#12 3.833      ━━━━━━━━━━━━━━━━━━━━━━━━━━━━━━━━━━━━━━ 100.3/100.3 MB 17.2 MB/s eta 0:00:00\n",
      "#12 4.157 Collecting jax-cuda12-plugin==0.4.34 (from jax-cuda12-plugin[with-cuda]==0.4.34->-r dev-requirements.txt (line 86))\n",
      "#12 4.171   Downloading jax_cuda12_plugin-0.4.34-cp311-cp311-manylinux2014_x86_64.whl (14.9 MB)\n",
      "#12 4.800      ━━━━━━━━━━━━━━━━━━━━━━━━━━━━━━━━━━━━━━━━ 14.9/14.9 MB 21.1 MB/s eta 0:00:00\n",
      "#12 4.964 Collecting jax-triton==0.2.0 (from -r dev-requirements.txt (line 96))\n",
      "#12 4.979   Downloading jax_triton-0.2.0-py3-none-any.whl (27 kB)\n",
      "#12 5.058 Collecting jaxlib==0.4.34 (from -r dev-requirements.txt (line 100))\n",
      "#12 5.073   Downloading jaxlib-0.4.34-cp311-cp311-manylinux2014_x86_64.whl (86.1 MB)\n",
      "#12 7.324      ━━━━━━━━━━━━━━━━━━━━━━━━━━━━━━━━━━━━━━━━ 86.1/86.1 MB 28.3 MB/s eta 0:00:00\n",
      "#12 7.610 Collecting jaxtyping==0.2.34 (from -r dev-requirements.txt (line 124))\n",
      "#12 7.624   Downloading jaxtyping-0.2.34-py3-none-any.whl (42 kB)\n",
      "#12 7.629      ━━━━━━━━━━━━━━━━━━━━━━━━━━━━━━━━━━━━━━━━ 42.4/42.4 kB 10.5 MB/s eta 0:00:00\n",
      "#12 7.654 Collecting jmp==0.0.4 (from -r dev-requirements.txt (line 128))\n",
      "#12 7.668   Downloading jmp-0.0.4-py3-none-any.whl (18 kB)\n",
      "#12 7.707 Collecting ml-dtypes==0.5.0 (from -r dev-requirements.txt (line 132))\n",
      "#12 7.722   Downloading ml_dtypes-0.5.0-cp311-cp311-manylinux_2_17_x86_64.manylinux2014_x86_64.whl (4.5 MB)\n",
      "#12 7.864      ━━━━━━━━━━━━━━━━━━━━━━━━━━━━━━━━━━━━━━━━ 4.5/4.5 MB 32.0 MB/s eta 0:00:00\n",
      "#12 8.062 Collecting numpy==2.1.3 (from -r dev-requirements.txt (line 157))\n",
      "#12 8.080   Downloading numpy-2.1.3-cp311-cp311-manylinux_2_17_x86_64.manylinux2014_x86_64.whl (16.3 MB)\n",
      "#12 8.562      ━━━━━━━━━━━━━━━━━━━━━━━━━━━━━━━━━━━━━━━━ 16.3/16.3 MB 33.2 MB/s eta 0:00:00\n",
      "#12 8.645 Collecting nvidia-cublas-cu12==12.6.3.3 (from -r dev-requirements.txt (line 223))\n",
      "#12 8.659   Downloading nvidia_cublas_cu12-12.6.3.3-py3-none-manylinux2014_x86_64.whl (393.1 MB)\n",
      "#12 18.57      ━━━━━━━━━━━━━━━━━━━━━━━━━━━━━━━━━━━━━━ 393.1/393.1 MB 16.8 MB/s eta 0:00:00\n",
      "#12 19.72 Collecting nvidia-cuda-cupti-cu12==12.6.80 (from -r dev-requirements.txt (line 231))\n",
      "#12 19.73   Downloading nvidia_cuda_cupti_cu12-12.6.80-py3-none-manylinux2014_x86_64.whl (8.9 MB)\n",
      "#12 19.98      ━━━━━━━━━━━━━━━━━━━━━━━━━━━━━━━━━━━━━━━━ 8.9/8.9 MB 36.2 MB/s eta 0:00:00\n",
      "#12 20.04 Collecting nvidia-cuda-nvcc-cu12==12.6.77 (from -r dev-requirements.txt (line 236))\n",
      "#12 20.05   Downloading nvidia_cuda_nvcc_cu12-12.6.77-py3-none-manylinux2014_x86_64.whl (21.2 MB)\n",
      "#12 20.66      ━━━━━━━━━━━━━━━━━━━━━━━━━━━━━━━━━━━━━━━━ 21.2/21.2 MB 33.5 MB/s eta 0:00:00\n",
      "#12 20.75 Collecting nvidia-cuda-runtime-cu12==12.6.77 (from -r dev-requirements.txt (line 241))\n",
      "#12 20.77   Downloading nvidia_cuda_runtime_cu12-12.6.77-py3-none-manylinux2014_x86_64.whl (897 kB)\n",
      "#12 20.79      ━━━━━━━━━━━━━━━━━━━━━━━━━━━━━━━━━━━━━━ 897.7/897.7 kB 35.6 MB/s eta 0:00:00\n",
      "#12 20.83 Collecting nvidia-cudnn-cu12==9.5.1.17 (from -r dev-requirements.txt (line 246))\n",
      "#12 20.84   Downloading nvidia_cudnn_cu12-9.5.1.17-py3-none-manylinux_2_28_x86_64.whl (571.0 MB)\n",
      "#12 37.23      ━━━━━━━━━━━━━━━━━━━━━━━━━━━━━━━━━━━━━━━ 571.0/571.0 MB 8.8 MB/s eta 0:00:00\n",
      "#12 38.90 Collecting nvidia-cufft-cu12==11.3.0.4 (from -r dev-requirements.txt (line 251))\n",
      "#12 38.91   Downloading nvidia_cufft_cu12-11.3.0.4-py3-none-manylinux2014_x86_64.whl (200.2 MB)\n",
      "#12 43.54      ━━━━━━━━━━━━━━━━━━━━━━━━━━━━━━━━━━━━━━ 200.2/200.2 MB 26.1 MB/s eta 0:00:00\n",
      "#12 44.15 Collecting nvidia-cusolver-cu12==11.7.1.2 (from -r dev-requirements.txt (line 256))\n",
      "#12 44.16   Downloading nvidia_cusolver_cu12-11.7.1.2-py3-none-manylinux2014_x86_64.whl (158.2 MB)\n",
      "#12 48.29      ━━━━━━━━━━━━━━━━━━━━━━━━━━━━━━━━━━━━━━ 158.2/158.2 MB 22.7 MB/s eta 0:00:00\n",
      "#12 48.78 Collecting nvidia-cusparse-cu12==12.5.4.2 (from -r dev-requirements.txt (line 261))\n",
      "#12 48.79   Downloading nvidia_cusparse_cu12-12.5.4.2-py3-none-manylinux2014_x86_64.whl (216.6 MB)\n",
      "#12 54.51      ━━━━━━━━━━━━━━━━━━━━━━━━━━━━━━━━━━━━━━ 216.6/216.6 MB 21.3 MB/s eta 0:00:00\n",
      "#12 55.17 Collecting nvidia-nccl-cu12==2.23.4 (from -r dev-requirements.txt (line 268))\n",
      "#12 55.19   Downloading nvidia_nccl_cu12-2.23.4-py3-none-manylinux2014_x86_64.whl (199.0 MB)\n",
      "#12 59.98      ━━━━━━━━━━━━━━━━━━━━━━━━━━━━━━━━━━━━━━ 199.0/199.0 MB 20.2 MB/s eta 0:00:00\n",
      "#12 60.59 Collecting nvidia-nvjitlink-cu12==12.6.77 (from -r dev-requirements.txt (line 272))\n",
      "#12 60.61   Downloading nvidia_nvjitlink_cu12-12.6.77-py3-none-manylinux2014_x86_64.whl (19.7 MB)\n",
      "#12 61.11      ━━━━━━━━━━━━━━━━━━━━━━━━━━━━━━━━━━━━━━━━ 19.7/19.7 MB 37.4 MB/s eta 0:00:00\n",
      "#12 61.19 Collecting opt-einsum==3.4.0 (from -r dev-requirements.txt (line 281))\n",
      "#12 61.21   Downloading opt_einsum-3.4.0-py3-none-any.whl (71 kB)\n",
      "#12 61.21      ━━━━━━━━━━━━━━━━━━━━━━━━━━━━━━━━━━━━━━━━ 71.9/71.9 kB 19.6 MB/s eta 0:00:00\n",
      "#12 61.37 Collecting pillow==11.0.0 (from -r dev-requirements.txt (line 285))\n",
      "#12 61.38   Downloading pillow-11.0.0-cp311-cp311-manylinux_2_28_x86_64.whl (4.4 MB)\n",
      "#12 61.50      ━━━━━━━━━━━━━━━━━━━━━━━━━━━━━━━━━━━━━━━━ 4.4/4.4 MB 37.2 MB/s eta 0:00:00\n",
      "#12 61.57 Collecting rdkit==2024.3.5 (from -r dev-requirements.txt (line 362))\n",
      "#12 61.59   Downloading rdkit-2024.3.5-cp311-cp311-manylinux_2_28_x86_64.whl (33.1 MB)\n",
      "#12 62.33      ━━━━━━━━━━━━━━━━━━━━━━━━━━━━━━━━━━━━━━━━ 33.1/33.1 MB 39.1 MB/s eta 0:00:00\n",
      "#12 62.55 Collecting scipy==1.14.1 (from -r dev-requirements.txt (line 389))\n",
      "#12 62.56   Downloading scipy-1.14.1-cp311-cp311-manylinux_2_17_x86_64.manylinux2014_x86_64.whl (41.2 MB)\n",
      "#12 63.48      ━━━━━━━━━━━━━━━━━━━━━━━━━━━━━━━━━━━━━━━━ 41.2/41.2 MB 33.4 MB/s eta 0:00:00\n",
      "#12 63.65 Collecting tabulate==0.9.0 (from -r dev-requirements.txt (line 426))\n",
      "#12 63.66   Downloading tabulate-0.9.0-py3-none-any.whl (35 kB)\n",
      "#12 63.69 Collecting toolz==1.0.0 (from -r dev-requirements.txt (line 430))\n",
      "#12 63.70   Downloading toolz-1.0.0-py3-none-any.whl (56 kB)\n",
      "#12 63.71      ━━━━━━━━━━━━━━━━━━━━━━━━━━━━━━━━━━━━━━━━ 56.4/56.4 kB 10.7 MB/s eta 0:00:00\n",
      "#12 63.76 Collecting tqdm==4.67.0 (from -r dev-requirements.txt (line 434))\n",
      "#12 63.78   Downloading tqdm-4.67.0-py3-none-any.whl (78 kB)\n",
      "#12 63.78      ━━━━━━━━━━━━━━━━━━━━━━━━━━━━━━━━━━━━━━━━ 78.6/78.6 kB 23.8 MB/s eta 0:00:00\n",
      "#12 63.81 Collecting triton==3.1.0 (from -r dev-requirements.txt (line 438))\n",
      "#12 63.82   Downloading triton-3.1.0-cp311-cp311-manylinux_2_17_x86_64.manylinux2014_x86_64.whl (209.5 MB)\n",
      "#12 69.22      ━━━━━━━━━━━━━━━━━━━━━━━━━━━━━━━━━━━━━━ 209.5/209.5 MB 18.4 MB/s eta 0:00:00\n",
      "#12 69.85 Collecting typeguard==2.13.3 (from -r dev-requirements.txt (line 447))\n",
      "#12 69.86   Downloading typeguard-2.13.3-py3-none-any.whl (17 kB)\n",
      "#12 69.90 Collecting typing-extensions==4.12.2 (from -r dev-requirements.txt (line 451))\n",
      "#12 69.91   Downloading typing_extensions-4.12.2-py3-none-any.whl (37 kB)\n",
      "#12 69.98 Collecting zstandard==0.23.0 (from -r dev-requirements.txt (line 455))\n",
      "#12 69.99   Downloading zstandard-0.23.0-cp311-cp311-manylinux_2_17_x86_64.manylinux2014_x86_64.whl (5.4 MB)\n",
      "#12 70.18      ━━━━━━━━━━━━━━━━━━━━━━━━━━━━━━━━━━━━━━━━ 5.4/5.4 MB 30.1 MB/s eta 0:00:00\n",
      "#12 70.55 Installing collected packages: jax-cuda12-pjrt, dm-tree, zstandard, typing-extensions, typeguard, tqdm, toolz, tabulate, pillow, opt-einsum, nvidia-nvjitlink-cu12, nvidia-nccl-cu12, nvidia-cuda-runtime-cu12, nvidia-cuda-nvcc-cu12, nvidia-cuda-cupti-cu12, nvidia-cublas-cu12, numpy, jax-cuda12-plugin, filelock, absl-py, triton, scipy, rdkit, nvidia-cusparse-cu12, nvidia-cufft-cu12, nvidia-cudnn-cu12, ml-dtypes, jmp, jaxtyping, nvidia-cusolver-cu12, jaxlib, dm-haiku, jax, jax-triton, chex\n",
      "#12 101.6 Successfully installed absl-py-2.1.0 chex-0.1.87 dm-haiku-0.0.13 dm-tree-0.1.8 filelock-3.16.1 jax-0.4.34 jax-cuda12-pjrt-0.4.34 jax-cuda12-plugin-0.4.34 jax-triton-0.2.0 jaxlib-0.4.34 jaxtyping-0.2.34 jmp-0.0.4 ml-dtypes-0.5.0 numpy-2.1.3 nvidia-cublas-cu12-12.6.3.3 nvidia-cuda-cupti-cu12-12.6.80 nvidia-cuda-nvcc-cu12-12.6.77 nvidia-cuda-runtime-cu12-12.6.77 nvidia-cudnn-cu12-9.5.1.17 nvidia-cufft-cu12-11.3.0.4 nvidia-cusolver-cu12-11.7.1.2 nvidia-cusparse-cu12-12.5.4.2 nvidia-nccl-cu12-2.23.4 nvidia-nvjitlink-cu12-12.6.77 opt-einsum-3.4.0 pillow-11.0.0 rdkit-2024.3.5 scipy-1.14.1 tabulate-0.9.0 toolz-1.0.0 tqdm-4.67.0 triton-3.1.0 typeguard-2.13.3 typing-extensions-4.12.2 zstandard-0.23.0\n",
      "#12 101.7 \n",
      "#12 101.7 [notice] A new release of pip is available: 24.0 -> 25.1.1\n",
      "#12 101.7 [notice] To update, run: pip install --upgrade pip\n",
      "#12 DONE 103.0s\n",
      "\n",
      "#13 [ 9/10] RUN pip3 install --no-deps .\n",
      "#13 0.674 Processing /app/alphafold\n",
      "#13 0.678   Installing build dependencies: started\n",
      "#13 5.920   Installing build dependencies: finished with status 'done'\n",
      "#13 5.921   Getting requirements to build wheel: started\n",
      "#13 6.122   Getting requirements to build wheel: finished with status 'done'\n",
      "#13 6.135   Preparing metadata (pyproject.toml): started\n",
      "#13 6.446   Preparing metadata (pyproject.toml): finished with status 'done'\n",
      "#13 6.454 Building wheels for collected packages: alphafold3\n",
      "#13 6.455   Building wheel for alphafold3 (pyproject.toml): started\n",
      "#13 66.65   Building wheel for alphafold3 (pyproject.toml): still running...\n",
      "#13 140.2   Building wheel for alphafold3 (pyproject.toml): still running...\n",
      "#13 173.2   Building wheel for alphafold3 (pyproject.toml): finished with status 'done'\n",
      "#13 173.8   Created wheel for alphafold3: filename=alphafold3-3.0.0-cp311-cp311-linux_x86_64.whl size=230803550 sha256=96a179d40ffb8008c882547a253301e2e680d6c91fce3f7dcca2a3a688de6045\n",
      "#13 173.8   Stored in directory: /tmp/pip-ephem-wheel-cache-4ccg7ysx/wheels/f0/a6/a0/7d24ef250155b87d3859ef36a8a2b1c5ddcf193d7939f5c233\n",
      "#13 173.8 Successfully built alphafold3\n",
      "#13 173.8 Installing collected packages: alphafold3\n",
      "#13 177.7 Successfully installed alphafold3-3.0.0\n",
      "#13 177.7 \n",
      "#13 177.7 [notice] A new release of pip is available: 24.0 -> 25.1.1\n",
      "#13 177.7 [notice] To update, run: pip install --upgrade pip\n",
      "#13 DONE 178.4s\n",
      "\n",
      "#14 [10/10] RUN build_data\n",
      "#14 0.275 Parsing /alphafold3_venv/lib/python3.11/site-packages/share/libcifpp/components.cif\n",
      "100%|██████████| 47310/47310 [00:04<00:00, 10886.42it/s]\n",
      "#14 8.912 Writing /alphafold3_venv/lib/python3.11/site-packages/alphafold3/constants/converters/ccd.pickle\n",
      "#14 20.21 Done\n",
      "#14 20.85 Loading /alphafold3_venv/lib/python3.11/site-packages/alphafold3/constants/converters/ccd.pickle\n",
      "#14 25.85 Finding ions and glycans\n",
      "100%|██████████| 47310/47310 [00:00<00:00, 276407.68it/s]\n",
      "#14 26.02 writing to /alphafold3_venv/lib/python3.11/site-packages/alphafold3/constants/converters/chemical_component_sets.pickle\n",
      "#14 26.02 Done\n",
      "#14 DONE 27.0s\n",
      "\n",
      "#15 exporting to image\n",
      "#15 exporting layers\n",
      "#15 exporting layers 11.8s done\n",
      "#15 writing image sha256:0078250bd3529a8cc8ff840cf20b30af4d7afb0c85e9e0c7c89a3124bfd60434 done\n",
      "#15 naming to docker.io/library/alphafold3-v3.0.0 done\n",
      "#15 DONE 11.8s\n",
      "\n",
      "View build details: \u001b]8;;docker-desktop://dashboard/build/desktop-linux/desktop-linux/3cfho8riomi7m9zi56xkfqxs5\u001b\\docker-desktop://dashboard/build/desktop-linux/desktop-linux/3cfho8riomi7m9zi56xkfqxs5\u001b]8;;\u001b\\\n",
      "\n",
      "real\t5m22.503s\n",
      "user\t0m0.627s\n",
      "sys\t0m0.916s\n",
      "/Users/jjaenes/25.06_batch-infer/software/alphafold3\n"
     ]
    }
   ],
   "source": [
    "cd alphafold3\n",
    "time docker buildx build --platform=linux/amd64 --progress plain -t alphafold3-$VERSION -f docker/Dockerfile .\n",
    "cd -"
   ]
  },
  {
   "cell_type": "code",
   "execution_count": 3,
   "metadata": {
    "vscode": {
     "languageId": "shellscript"
    }
   },
   "outputs": [
    {
     "name": "stdout",
     "output_type": "stream",
     "text": [
      "alphafold3-v3.0.0                        latest            0078250bd352   12 minutes ago   9.26GB\n"
     ]
    }
   ],
   "source": [
    "docker image ls | grep alphafold3-$VERSION"
   ]
  },
  {
   "cell_type": "code",
   "execution_count": 4,
   "metadata": {
    "vscode": {
     "languageId": "shellscript"
    }
   },
   "outputs": [],
   "source": [
    "mkdir -p images\n",
    "docker save 0078250bd352 -o images/alphafold3-$VERSION.tar"
   ]
  },
  {
   "cell_type": "code",
   "execution_count": 5,
   "metadata": {
    "vscode": {
     "languageId": "shellscript"
    }
   },
   "outputs": [
    {
     "name": "stdout",
     "output_type": "stream",
     "text": [
      "Untagged: alphafold3-v3.0.0:latest\n",
      "Deleted: sha256:0078250bd3529a8cc8ff840cf20b30af4d7afb0c85e9e0c7c89a3124bfd60434\n"
     ]
    }
   ],
   "source": [
    "docker image rm 0078250bd352"
   ]
  },
  {
   "cell_type": "code",
   "execution_count": 6,
   "metadata": {
    "vscode": {
     "languageId": "shellscript"
    }
   },
   "outputs": [
    {
     "name": "stdout",
     "output_type": "stream",
     "text": [
      "Transfer starting: 2 files\n",
      "./\n",
      "alphafold3-v3.0.0.tar\n",
      "     9282132480 100%   25.34MB/s   00:05:49 (xfer#1, to-check=1/2)\n",
      "\n",
      "sent 5430060070 bytes  received 48 bytes  15539760 bytes/sec\n",
      "total size is 9282132480  speedup is 1.71\n"
     ]
    }
   ],
   "source": [
    "SRC='./images/'\n",
    "DEST='euler.ethz.ch:/cluster/project/beltrao/shared/alphafold3/images'\n",
    "rsync -azv --progress $SRC $DEST"
   ]
  },
  {
   "cell_type": "code",
   "execution_count": 7,
   "metadata": {
    "vscode": {
     "languageId": "shellscript"
    }
   },
   "outputs": [
    {
     "name": "stdout",
     "output_type": "stream",
     "text": [
      "      ____________________   ___\n",
      "     /  ________   ___   /__/  /\n",
      "    /  _____/  /  /  /  ___   /\n",
      "   /_______/  /__/  /__/  /__/\n",
      "   Eidgenoessische Technische Hochschule Zuerich\n",
      "   Swiss Federal Institute of Technology Zurich\n",
      "   -------------------------------------------------------------------------\n",
      "                                                    E U L E R  C L U S T E R\n",
      "                .-.\n",
      "          .-'``(|||)\n",
      "       ,`\\ \\    `-`.               88                         88\n",
      "      /   \\ '``-.   `              88                         88\n",
      "    .-.  ,       `___:    88   88  88,888,  88   88  ,88888, 88888  88   88\n",
      "   (:::) :        ___     88   88  88   88  88   88  88   88  88    88   88\n",
      "    `-`  `       ,   :    88   88  88   88  88   88  88   88  88    88   88\n",
      "      \\   / ,..-`   ,     88   88  88   88  88   88  88   88  88    88   88\n",
      "       `./ /    .-.`      '88888'  '88888'  '88888'  88   88  '8888 '88888'\n",
      "          `-..-(   )\n",
      "                `-`\n",
      "\n",
      "   Documentation:  https://scicomp.ethz.ch\n",
      "   User support:   https://smartdesk.ethz.ch / cluster-support@id.ethz.ch\n",
      "   Helpdesk:       https://scicomp.ethz.ch/wiki/Euler_Helpdesk\n",
      "   Mailing list:   https://sympa.ethz.ch/sympa/info/cluster-news\n",
      "   -------------------------------------------------------------------------\n",
      "\n",
      "WARNING: 'nodev' mount option set on /tmp, it could be a source of failure during build process\n",
      "INFO:    Starting build...\n",
      "Copying blob sha256:2591292aa496711009497eef309bd42371956b22e56756c512c18b326162f9c3\n",
      "Copying blob sha256:4643dede719e93ad8512a92dfb06d53fbb1e2c2a609d4e92308d1ba6156f307a\n",
      "Copying blob sha256:931b7ff0cb6f494b27d31a4cbec3efe62ac54676add9c7469560302f1541ecaf\n",
      "Copying blob sha256:1e9c40c384ef892c8b044b8deea344d77213ef86e5e2e10556b176e3b66cd7e3\n",
      "Copying blob sha256:3b6bc3c2c74bad1746ed46ebdcf13c564d4efd61b1198ca172bfaebea05f8843\n",
      "Copying blob sha256:cc51bf61b66d15057d4c73ba89e3c3ba387cdeaac86d594c98a042b55455ee17\n",
      "Copying blob sha256:5367f684b3d213141baf76ce1ab1ffdb4453fd7b8abaa60b8ab67d83b3c30d0a\n",
      "Copying blob sha256:39bb753832e5025b81f3104616e51e50dde0795305cc8f23cf961c5053024065\n",
      "Copying blob sha256:84cf63400738bd7ae2f50eeb3b8dd27255ef706e07c5e0ea7a85386f8941e40a\n",
      "Copying blob sha256:5fd7326f09649a659109cc905e7ac9d2fe3352978d7fdf87349da2684fe35510\n",
      "Copying blob sha256:5f70bf18a086007016e948b04aed3b82103a36bea41755b6cddfaf10ace3c6ef\n",
      "Copying blob sha256:2acf6ef5f6092c988f73db1e564d485f0664fabb1dada1d11a6af84741fed8bd\n",
      "Copying blob sha256:553c8ef3129255ea52da9ccab2ed0e141843eea1f60b9707b6838ff6c058d512\n",
      "Copying blob sha256:bb2360ef8c17d7ba65df752f0fa9fa292b4f3856e17bd47bed5f5a493160a70e\n",
      "Copying config sha256:34e553a2f7bcd9b4544b4112accf448d9dbb02c2427abfec8864c0fa4e9e815d\n",
      "Writing manifest to image destination\n",
      "2025/06/30 11:51:47  info unpack layer: sha256:9fd4f971e399980969cd8a1fde15e80c5de8d14ef85f5741803a9d9795695107\n",
      "2025/06/30 11:51:51  info unpack layer: sha256:92e799be7c2fd42f6cf8257e82b1f0f624d7a9ebf49407a074f98a441a0f29da\n",
      "2025/06/30 11:51:51  info unpack layer: sha256:9ce8b0eefb9dcd20b42695bc9767542e27720c13f343e256cc70e24e5d71b02e\n",
      "2025/06/30 11:51:55  info unpack layer: sha256:749b953b18cc2a0decca3a045d4f2482b38aeaebbf89c1bc0cba615f283ee39e\n",
      "2025/06/30 11:51:55  info unpack layer: sha256:730406db7775f6c187e1020329fe3c381641c05a51b5cadb0bd0c7cf8ea40690\n",
      "2025/06/30 11:51:55  info unpack layer: sha256:0118155c9b1cf2f8faadee4c50429e4ce93d381a24908fdc1b82ec16e62c9e08\n",
      "2025/06/30 11:51:59  warn rootless{usr/lib/x86_64-linux-gnu/gstreamer1.0/gstreamer-1.0/gst-ptp-helper} ignoring (usually) harmless EPERM on setxattr \"security.capability\"\n",
      "2025/06/30 11:52:08  info unpack layer: sha256:2eb53c8583b6052edb1a98b10218ce147ec719fc411c5679c524ef45b07859bd\n",
      "2025/06/30 11:52:22  info unpack layer: sha256:d001810a0ebe55af75469a48d135c8f05b1ef8af7c533fb6ee9933bdf7f3687b\n",
      "2025/06/30 11:52:24  info unpack layer: sha256:6121773c6043c2644f7405667fe69bd51d92991e2b4464f50c3163138c866050\n",
      "2025/06/30 11:52:24  info unpack layer: sha256:28e24055e5ad27a5ee37b25c8c7f221b5c49406318ac81b146354c35fa5ffd41\n",
      "2025/06/30 11:52:28  info unpack layer: sha256:bd9ddc54bea929a22b334e73e026d4136e5b73f5cc29942896c72e4ece69b13d\n",
      "2025/06/30 11:52:28  info unpack layer: sha256:130521b42833affa56e35969ccb0422161dbb0b3ea41175fe4a85dbd2835fbb6\n",
      "2025/06/30 11:55:40  info unpack layer: sha256:48305ff6e897ebab4668ac07db61f112788b4fe6751390836d652428808d996b\n",
      "2025/06/30 11:56:05  info unpack layer: sha256:dfee064f19141cdbd6935527ede596722dd7e650420f99b1e56aeed37a4ac3ab\n",
      "INFO:    Creating SIF file...\n",
      "INFO:    Build complete: alphafold3-v3.0.0.sif\n",
      "\n",
      "real\t44m52.105s\n",
      "user\t21m7.796s\n",
      "sys\t1m13.539s\n",
      "55805d2bf9f3ad44a275703b2c680cbe  alphafold3-v3.0.0.sif\n"
     ]
    }
   ],
   "source": [
    "ssh -T euler.ethz.ch << EOF\n",
    "cd /cluster/project/beltrao/shared/alphafold3/images\n",
    "time singularity build alphafold3-$VERSION.sif docker-archive://alphafold3-$VERSION.tar\n",
    "md5sum alphafold3-$VERSION.sif\n",
    "EOF"
   ]
  },
  {
   "cell_type": "code",
   "execution_count": 8,
   "metadata": {
    "vscode": {
     "languageId": "shellscript"
    }
   },
   "outputs": [
    {
     "name": "stdout",
     "output_type": "stream",
     "text": [
      "      ____________________   ___\n",
      "     /  ________   ___   /__/  /\n",
      "    /  _____/  /  /  /  ___   /\n",
      "   /_______/  /__/  /__/  /__/\n",
      "   Eidgenoessische Technische Hochschule Zuerich\n",
      "   Swiss Federal Institute of Technology Zurich\n",
      "   -------------------------------------------------------------------------\n",
      "                                                    E U L E R  C L U S T E R\n",
      "                .-.\n",
      "          .-'``(|||)\n",
      "       ,`\\ \\    `-`.               88                         88\n",
      "      /   \\ '``-.   `              88                         88\n",
      "    .-.  ,       `___:    88   88  88,888,  88   88  ,88888, 88888  88   88\n",
      "   (:::) :        ___     88   88  88   88  88   88  88   88  88    88   88\n",
      "    `-`  `       ,   :    88   88  88   88  88   88  88   88  88    88   88\n",
      "      \\   / ,..-`   ,     88   88  88   88  88   88  88   88  88    88   88\n",
      "       `./ /    .-.`      '88888'  '88888'  '88888'  88   88  '8888 '88888'\n",
      "          `-..-(   )\n",
      "                `-`\n",
      "\n",
      "   Documentation:  https://scicomp.ethz.ch\n",
      "   User support:   https://smartdesk.ethz.ch / cluster-support@id.ethz.ch\n",
      "   Helpdesk:       https://scicomp.ethz.ch/wiki/Euler_Helpdesk\n",
      "   Mailing list:   https://sympa.ethz.ch/sympa/info/cluster-news\n",
      "   -------------------------------------------------------------------------\n",
      "\n",
      "total 33G\n",
      "-rwxr-xr-x 1 jjaenes biol-imsb-beltrao 4.9G Nov 20  2024 alphafold3-44e1fd5-lowspec.sif\n",
      "-rwxr-xr-x 1 jjaenes jjaenes-group     4.9G Jan 10 16:33 alphafold3-ea04034.sif\n",
      "lrwxrwxrwx 1 jjaenes jjaenes-group       22 Jan 20 12:50 alphafold3.sif -> alphafold3-ea04034.sif\n",
      "-rwxr-xr-x 1 jjaenes jjaenes-group     5.0G Jun 30 12:29 alphafold3-v3.0.0.sif\n",
      "-rwxr-xr-x 1 jjaenes jjaenes-group     4.9G Jan 28 14:18 alphafold3-v3.0.1.sif\n",
      "-rwxr-xr-x 1 jjaenes jjaenes-group     3.4G Jun 20 14:26 boltz-2.1.1.sif\n",
      "-rwxr-xr-x 1 jjaenes jjaenes-group     2.9G Jun 23 15:01 colabfold-1.5.5-cuda11.8.0.sif\n",
      "-rwxr-xr-x 1 jjaenes jjaenes-group     2.9G Jun 23 15:39 colabfold-1.5.5-cuda12.2.2.sif\n",
      "-rwxr-xr-x 1 jjaenes jjaenes-group     3.4G Jun 23 14:59 strong-docking-baseline-8dc916a.sif\n"
     ]
    }
   ],
   "source": [
    "ssh -T euler.ethz.ch << EOF\n",
    "cd /cluster/project/beltrao/shared/alphafold3/images\n",
    "rm alphafold3-$VERSION.tar\n",
    "ls -lh\n",
    "EOF"
   ]
  },
  {
   "cell_type": "code",
   "execution_count": null,
   "metadata": {
    "vscode": {
     "languageId": "shellscript"
    }
   },
   "outputs": [],
   "source": []
  }
 ],
 "metadata": {
  "kernelspec": {
   "display_name": "Bash",
   "language": "bash",
   "name": "bash"
  },
  "language_info": {
   "codemirror_mode": "shell",
   "file_extension": ".sh",
   "mimetype": "text/x-sh",
   "name": "bash"
  }
 },
 "nbformat": 4,
 "nbformat_minor": 2
}
