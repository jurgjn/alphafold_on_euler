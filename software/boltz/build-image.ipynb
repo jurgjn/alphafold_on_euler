{
 "cells": [
  {
   "cell_type": "code",
   "execution_count": 1,
   "metadata": {
    "vscode": {
     "languageId": "shellscript"
    }
   },
   "outputs": [
    {
     "name": "stdout",
     "output_type": "stream",
     "text": [
      "#0 building with \"desktop-linux\" instance using docker driver\n",
      "\n",
      "#1 [internal] load build definition from Dockerfile\n",
      "#1 transferring dockerfile: 843B done\n",
      "#1 DONE 0.0s\n",
      "\n",
      "#2 [internal] load metadata for docker.io/nvidia/cuda:12.8.0-base-ubuntu24.04\n",
      "#2 DONE 0.9s\n",
      "\n",
      "#3 [internal] load .dockerignore\n",
      "#3 transferring context: 2B done\n",
      "#3 DONE 0.0s\n",
      "\n",
      "#4 [1/5] FROM docker.io/nvidia/cuda:12.8.0-base-ubuntu24.04@sha256:e778509d37d66475120929671500377524f7278478ba08131b07ef3ffcc0dce0\n",
      "#4 DONE 0.0s\n",
      "\n",
      "#5 [2/5] RUN DEBIAN_FRONTEND=noninteractive     apt-get update --quiet     && apt-get install --yes --quiet python3.12 python3-pip python3.12-venv python3.12-dev     && apt-get install --yes --quiet git wget gcc g++ make zlib1g-dev zstd\n",
      "#5 CACHED\n",
      "\n",
      "#6 [3/5] RUN python3 -m venv /boltz_venv\n",
      "#6 CACHED\n",
      "\n",
      "#7 [4/5] RUN pip3 install --no-cache-dir --upgrade pip\n",
      "#7 CACHED\n",
      "\n",
      "#8 [5/5] RUN pip3 install --no-cache-dir setuptools     && pip3 install --no-cache-dir boltz==2.1.1\n",
      "#8 CACHED\n",
      "\n",
      "#9 exporting to image\n",
      "#9 exporting layers done\n",
      "#9 writing image sha256:82a2dd581b2cb330824a661ce5fcde8cb4d8936a1c3b2940aa5a1b27c5eda7be done\n",
      "#9 naming to docker.io/library/boltz-2.1.1 done\n",
      "#9 DONE 0.0s\n",
      "\n",
      "View build details: \u001b]8;;docker-desktop://dashboard/build/desktop-linux/desktop-linux/jwo2czirbgdvw79crau05g74a\u001b\\docker-desktop://dashboard/build/desktop-linux/desktop-linux/jwo2czirbgdvw79crau05g74a\u001b]8;;\u001b\\\n"
     ]
    }
   ],
   "source": [
    "BOLTZ_VERSION='2.1.1'\n",
    "docker buildx build --platform=linux/amd64 --progress plain -t boltz-$BOLTZ_VERSION --build-arg BOLTZ_VERSION=\"$BOLTZ_VERSION\" ."
   ]
  },
  {
   "cell_type": "code",
   "execution_count": 2,
   "metadata": {
    "vscode": {
     "languageId": "shellscript"
    }
   },
   "outputs": [
    {
     "name": "stdout",
     "output_type": "stream",
     "text": [
      "boltz-2.1.1                              latest            82a2dd581b2c   4 minutes ago   7.15GB\n"
     ]
    }
   ],
   "source": [
    "docker image ls | grep boltz-${BOLTZ_VERSION}"
   ]
  },
  {
   "cell_type": "code",
   "execution_count": 3,
   "metadata": {
    "vscode": {
     "languageId": "shellscript"
    }
   },
   "outputs": [],
   "source": [
    "mkdir -p images\n",
    "docker save 82a2dd581b2c -o images/boltz-${BOLTZ_VERSION}.tar"
   ]
  },
  {
   "cell_type": "code",
   "execution_count": null,
   "metadata": {
    "vscode": {
     "languageId": "shellscript"
    }
   },
   "outputs": [
    {
     "name": "stdout",
     "output_type": "stream",
     "text": [
      "Transfer starting: 2 files\n",
      "./\n",
      "boltz-2.1.1.tar\n",
      "     7190905856 100%   22.84MB/s   00:05:00 (xfer#1, to-check=1/2)\n",
      "\n",
      "sent 3601171832 bytes  received 48 bytes  11879798 bytes/sec\n",
      "total size is 7190905856  speedup is 2.00\n"
     ]
    }
   ],
   "source": [
    "SRC='./images/'\n",
    "DEST='euler.ethz.ch:/cluster/project/beltrao/shared/alphafold3/images'\n",
    "time rsync -azv --progress $SRC $DEST"
   ]
  },
  {
   "cell_type": "code",
   "execution_count": 5,
   "metadata": {
    "vscode": {
     "languageId": "shellscript"
    }
   },
   "outputs": [
    {
     "name": "stdout",
     "output_type": "stream",
     "text": [
      "      ____________________   ___\n",
      "     /  ________   ___   /__/  /\n",
      "    /  _____/  /  /  /  ___   /\n",
      "   /_______/  /__/  /__/  /__/\n",
      "   Eidgenoessische Technische Hochschule Zuerich\n",
      "   Swiss Federal Institute of Technology Zurich\n",
      "   -------------------------------------------------------------------------\n",
      "                                                    E U L E R  C L U S T E R\n",
      "                .-.\n",
      "          .-'``(|||)\n",
      "       ,`\\ \\    `-`.               88                         88\n",
      "      /   \\ '``-.   `              88                         88\n",
      "    .-.  ,       `___:    88   88  88,888,  88   88  ,88888, 88888  88   88\n",
      "   (:::) :        ___     88   88  88   88  88   88  88   88  88    88   88\n",
      "    `-`  `       ,   :    88   88  88   88  88   88  88   88  88    88   88\n",
      "      \\   / ,..-`   ,     88   88  88   88  88   88  88   88  88    88   88\n",
      "       `./ /    .-.`      '88888'  '88888'  '88888'  88   88  '8888 '88888'\n",
      "          `-..-(   )\n",
      "                `-`\n",
      "\n",
      "   Documentation:  https://scicomp.ethz.ch\n",
      "   User support:   https://smartdesk.ethz.ch / cluster-support@id.ethz.ch\n",
      "   Helpdesk:       https://scicomp.ethz.ch/wiki/Euler_Helpdesk\n",
      "   Mailing list:   https://sympa.ethz.ch/sympa/info/cluster-news\n",
      "   -------------------------------------------------------------------------\n",
      "\n",
      "WARNING: 'nodev' mount option set on /tmp, it could be a source of failure during build process\n",
      "INFO:    Starting build...\n",
      "Copying blob sha256:0f3680eb7d9d83d54c49065f61ddebd1265e630d2462fd6b9c16d60dae3ad3a9\n",
      "Copying blob sha256:bca7eab180bcdb39ce11ba7fd2f952901c39aed09f3e69b191a69ceef3a438a8\n",
      "Copying blob sha256:eb101ea3cc525fd60335048e2b590c297c8cf15081ae2d079944d745902e1ae3\n",
      "Copying blob sha256:4c4d7f3e79044e0bd1a6e3c3ac515dc6fc20c1a2f6834666c1f7991c51773a5a\n",
      "Copying blob sha256:687d50f2f6a697da02e05f2b2b9cb05c1d551f37c404ebe55fdec44b0ae8aa5c\n",
      "Copying blob sha256:2f78c715c25604b415e26f7560720d3209d0b12c57a2c609fd92aedbfb3a3458\n",
      "Copying blob sha256:e47e72aac795fabf08755052e64bf9a4f37337f2cd7ca2c1c3dd6b17d7e8e34f\n",
      "Copying blob sha256:5c98565520d1eaf1ba32bcb7c8d0dde7545b99c55d6cedc377b335fa62bd52c6\n",
      "Copying blob sha256:a13e102e18f6bb34d823daff875b3d4043e2c21949e4d5345a110f2142b47d8c\n",
      "Copying config sha256:4ad9f08f111424cc35dc9b5026af739020c0e3b0bf4d11390403f4439b0708a1\n",
      "Writing manifest to image destination\n",
      "2025/06/20 13:49:50  info unpack layer: sha256:c0ebd94ba22a4cbd7290426480dd61deadbb1fe8be79d082ccbe09708df65f70\n",
      "2025/06/20 13:49:53  info unpack layer: sha256:2ba818ceb361e6ac4846468faa3c278e96829334ee49a253197a89c18ff47618\n",
      "2025/06/20 13:49:53  info unpack layer: sha256:7ee1d72fec3f816afbd42ac968f636678cc81fff0441deef49b9a9fe21c9f7d6\n",
      "2025/06/20 13:49:58  info unpack layer: sha256:467085b23999316fff7bfa0a9fb4f9f57370c9d5929bfb7fe6b4e09cb010a60d\n",
      "2025/06/20 13:49:58  info unpack layer: sha256:16a04c09740524ed7f01b19a66b6c1b421309c14929c16c4e0d20af9d85b2974\n",
      "2025/06/20 13:49:58  info unpack layer: sha256:82b5b29d1cb7c0a63c898495c4c07956c2629992372a054ce42cdeb3efbefa67\n",
      "2025/06/20 13:50:16  info unpack layer: sha256:2c42ef5edc0651d5dbd6406ccbe895e76e3b88f1691625eeab53055f83a3d301\n",
      "2025/06/20 13:50:17  info unpack layer: sha256:99c4b06a94ea9477ae95bab90e28e8df6cde90b1d27d219bea3b917161e707b9\n",
      "2025/06/20 13:50:17  info unpack layer: sha256:a3e1b3c8bc40b3a390d65c341384118a7c0f07f6c735b0ed7bdcbcfdff73fcd6\n",
      "INFO:    Creating SIF file...\n",
      "INFO:    Build complete: boltz-2.1.1.sif\n",
      "\n",
      "real\t73m12.764s\n",
      "user\t19m37.619s\n",
      "sys\t0m58.981s\n"
     ]
    }
   ],
   "source": [
    "ssh -T euler.ethz.ch << EOF\n",
    "cd /cluster/project/beltrao/shared/alphafold3/images\n",
    "time singularity build boltz-${BOLTZ_VERSION}.sif docker-archive://boltz-${BOLTZ_VERSION}.tar\n",
    "EOF"
   ]
  }
 ],
 "metadata": {
  "kernelspec": {
   "display_name": "Bash",
   "language": "bash",
   "name": "bash"
  },
  "language_info": {
   "codemirror_mode": "shell",
   "file_extension": ".sh",
   "mimetype": "text/x-sh",
   "name": "bash"
  }
 },
 "nbformat": 4,
 "nbformat_minor": 2
}
