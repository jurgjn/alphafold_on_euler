{
 "cells": [
  {
   "cell_type": "code",
   "execution_count": 1,
   "metadata": {},
   "outputs": [
    {
     "name": "stdout",
     "output_type": "stream",
     "text": [
      "prody not found; if needed, install with: conda install conda-forge::prody\n"
     ]
    }
   ],
   "source": [
    "%run ~/af2genomics/notebooks/__init__.ipynb"
   ]
  },
  {
   "cell_type": "code",
   "execution_count": 2,
   "metadata": {},
   "outputs": [
    {
     "data": {
      "text/html": [
       "<div>\n",
       "<style scoped>\n",
       "    .dataframe tbody tr th:only-of-type {\n",
       "        vertical-align: middle;\n",
       "    }\n",
       "\n",
       "    .dataframe tbody tr th {\n",
       "        vertical-align: top;\n",
       "    }\n",
       "\n",
       "    .dataframe thead th {\n",
       "        text-align: right;\n",
       "    }\n",
       "</style>\n",
       "<table border=\"1\" class=\"dataframe\">\n",
       "  <thead>\n",
       "    <tr style=\"text-align: right;\">\n",
       "      <th></th>\n",
       "      <th>id</th>\n",
       "      <th>uniprot_id1</th>\n",
       "      <th>uniprot_id2</th>\n",
       "      <th>seq1</th>\n",
       "      <th>seq2</th>\n",
       "      <th>sequence</th>\n",
       "    </tr>\n",
       "  </thead>\n",
       "  <tbody>\n",
       "    <tr>\n",
       "      <th>0</th>\n",
       "      <td>MAPK1_DUSP6</td>\n",
       "      <td>P28482</td>\n",
       "      <td>Q16828</td>\n",
       "      <td>MAAAAAAGAGPEMVRGQVFDVGPRYTNLSYIGEGAYGMVCSAYDNV...</td>\n",
       "      <td>MIDTLRPVPFASEMAISKTVAWLNEQLELGNERLLLMDCRPQELYE...</td>\n",
       "      <td>MAAAAAAGAGPEMVRGQVFDVGPRYTNLSYIGEGAYGMVCSAYDNV...</td>\n",
       "    </tr>\n",
       "    <tr>\n",
       "      <th>1</th>\n",
       "      <td>FGFR1_FGFR2</td>\n",
       "      <td>Q6I6M7</td>\n",
       "      <td>P09038</td>\n",
       "      <td>EITTFAALTERFNLPNGNYQRPKLLYCSNGGHFLRILPDGKVDGTR...</td>\n",
       "      <td>MVGVGGGDVEDVTPRPGGCQISGRGARGCNGIPGAAAWEAALPRRR...</td>\n",
       "      <td>EITTFAALTERFNLPNGNYQRPKLLYCSNGGHFLRILPDGKVDGTR...</td>\n",
       "    </tr>\n",
       "  </tbody>\n",
       "</table>\n",
       "</div>"
      ],
      "text/plain": [
       "            id uniprot_id1 uniprot_id2  \\\n",
       "0  MAPK1_DUSP6      P28482      Q16828   \n",
       "1  FGFR1_FGFR2      Q6I6M7      P09038   \n",
       "\n",
       "                                                seq1  \\\n",
       "0  MAAAAAAGAGPEMVRGQVFDVGPRYTNLSYIGEGAYGMVCSAYDNV...   \n",
       "1  EITTFAALTERFNLPNGNYQRPKLLYCSNGGHFLRILPDGKVDGTR...   \n",
       "\n",
       "                                                seq2  \\\n",
       "0  MIDTLRPVPFASEMAISKTVAWLNEQLELGNERLLLMDCRPQELYE...   \n",
       "1  MVGVGGGDVEDVTPRPGGCQISGRGARGCNGIPGAAAWEAALPRRR...   \n",
       "\n",
       "                                            sequence  \n",
       "0  MAAAAAAGAGPEMVRGQVFDVGPRYTNLSYIGEGAYGMVCSAYDNV...  \n",
       "1  EITTFAALTERFNLPNGNYQRPKLLYCSNGGHFLRILPDGKVDGTR...  "
      ]
     },
     "execution_count": 2,
     "metadata": {},
     "output_type": "execute_result"
    }
   ],
   "source": [
    "df_ = pd.DataFrame.from_records([\n",
    "    ('MAPK1_DUSP6', 'P28482', 'Q16828',),\n",
    "    ('FGFR1_FGFR2', 'Q6I6M7', 'P09038',),\n",
    "], columns=['id', 'uniprot_id1', 'uniprot_id2'])\n",
    "df_['seq1'] = df_['uniprot_id1'].map(get_uniprot_sequence)\n",
    "df_['seq2'] = df_['uniprot_id2'].map(get_uniprot_sequence)\n",
    "df_['sequence'] = [ ':'.join([seq1, seq2]) for seq1, seq2 in zip(df_['seq1'], df_['seq2']) ]\n",
    "df_"
   ]
  },
  {
   "cell_type": "code",
   "execution_count": 3,
   "metadata": {},
   "outputs": [
    {
     "name": "stdout",
     "output_type": "stream",
     "text": [
      "3 colabfold_input.csv\n"
     ]
    }
   ],
   "source": [
    "df_[['id', 'sequence']].to_csv('colabfold_input.csv', sep=',', index=False, header=True)\n",
    "!wc -l colabfold_input.csv"
   ]
  }
 ],
 "metadata": {
  "kernelspec": {
   "display_name": "af2genomics-envA",
   "language": "python",
   "name": "python3"
  },
  "language_info": {
   "codemirror_mode": {
    "name": "ipython",
    "version": 3
   },
   "file_extension": ".py",
   "mimetype": "text/x-python",
   "name": "python",
   "nbconvert_exporter": "python",
   "pygments_lexer": "ipython3",
   "version": "3.12.4"
  }
 },
 "nbformat": 4,
 "nbformat_minor": 2
}
