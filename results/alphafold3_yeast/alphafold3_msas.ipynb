{
 "cells": [
  {
   "cell_type": "code",
   "execution_count": 3,
   "metadata": {
    "vscode": {
     "languageId": "shellscript"
    }
   },
   "outputs": [],
   "source": [
    "# Change to directory with the batch-infer script\n",
    "cd ~/batch-infer"
   ]
  },
  {
   "cell_type": "code",
   "execution_count": 4,
   "metadata": {
    "vscode": {
     "languageId": "shellscript"
    }
   },
   "outputs": [
    {
     "name": "stdout",
     "output_type": "stream",
     "text": [
      "Submitted batch job 34979517\n"
     ]
    }
   ],
   "source": [
    "# Start all data pipeline jobs\n",
    "./batch-infer alphafold3_msas_only results/alphafold3_yeast | sbatch"
   ]
  },
  {
   "cell_type": "code",
   "execution_count": 5,
   "metadata": {
    "vscode": {
     "languageId": "shellscript"
    }
   },
   "outputs": [
    {
     "name": "stdout",
     "output_type": "stream",
     "text": [
      "   JOBID  PARTITION    NAME                                                        STATE    TIME  TIME_LIMIT  NODELIST(REASON)\n",
      "34979411  gpupr.120h   alphafold3_predictions:                                     RUNNING  2:19  3-00:00:00  eu-a65-06\n",
      "34979517  normal.120h  batch-infer:alphafold3_msas_only=results-alphafold3_yeast   PENDING  0:00  7-00:00:00  (Priority)\n",
      "34979358  normal.120h  batch-infer:alphafold3_onegpu=results-alphafold3_yeast_ppi  RUNNING  2:50  7-00:00:00  eu-g5-045-3\n"
     ]
    }
   ],
   "source": [
    "# ~300 data pipeline jobs running at the same time\n",
    "my_squeue\n",
    "#my_scounts"
   ]
  },
  {
   "cell_type": "code",
   "execution_count": 2,
   "metadata": {
    "vscode": {
     "languageId": "shellscript"
    }
   },
   "outputs": [
    {
     "name": "stdout",
     "output_type": "stream",
     "text": [
      "6039\n",
      "6038\n"
     ]
    }
   ],
   "source": [
    "ls -1 results/alphafold3_yeast/alphafold3_jsons/*.json | wc -l\n",
    "ls -1 results/alphafold3_yeast/alphafold3_msas/*.json.gz | wc -l"
   ]
  }
 ],
 "metadata": {
  "kernelspec": {
   "display_name": "Bash",
   "language": "bash",
   "name": "bash"
  },
  "language_info": {
   "codemirror_mode": "shell",
   "file_extension": ".sh",
   "mimetype": "text/x-sh",
   "name": "bash"
  }
 },
 "nbformat": 4,
 "nbformat_minor": 2
}
