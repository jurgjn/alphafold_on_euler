{
 "cells": [
  {
   "cell_type": "code",
   "execution_count": 1,
   "id": "1fcdd764",
   "metadata": {},
   "outputs": [],
   "source": [
    "%run ../../workflow/rules/common.py"
   ]
  },
  {
   "cell_type": "code",
   "execution_count": 2,
   "id": "c25d6f2e",
   "metadata": {},
   "outputs": [
    {
     "data": {
      "text/html": [
       "<div>\n",
       "<style scoped>\n",
       "    .dataframe tbody tr th:only-of-type {\n",
       "        vertical-align: middle;\n",
       "    }\n",
       "\n",
       "    .dataframe tbody tr th {\n",
       "        vertical-align: top;\n",
       "    }\n",
       "\n",
       "    .dataframe thead th {\n",
       "        text-align: right;\n",
       "    }\n",
       "</style>\n",
       "<table border=\"1\" class=\"dataframe\">\n",
       "  <thead>\n",
       "    <tr style=\"text-align: right;\">\n",
       "      <th></th>\n",
       "      <th>id</th>\n",
       "      <th>seq</th>\n",
       "      <th>af3_id</th>\n",
       "    </tr>\n",
       "  </thead>\n",
       "  <tbody>\n",
       "    <tr>\n",
       "      <th>0</th>\n",
       "      <td>A0A023PYF4</td>\n",
       "      <td>MAILLPLKSILPWCCITFSFLLSSSGSISHSTASSSITLTKSSKPT...</td>\n",
       "      <td>a0a023pyf4</td>\n",
       "    </tr>\n",
       "    <tr>\n",
       "      <th>1</th>\n",
       "      <td>A0A023PZB3</td>\n",
       "      <td>MYYFSRVAARTFCCCIFFCLATAYSRPDRNPRKIEKKDKKFFGASK...</td>\n",
       "      <td>a0a023pzb3</td>\n",
       "    </tr>\n",
       "    <tr>\n",
       "      <th>2</th>\n",
       "      <td>A0A023PZE8</td>\n",
       "      <td>MSETCSSSLALLHKILHIHSHTPSVYYNICISVRILTSERLQCFFF...</td>\n",
       "      <td>a0a023pze8</td>\n",
       "    </tr>\n",
       "    <tr>\n",
       "      <th>3</th>\n",
       "      <td>A0A023PZF2</td>\n",
       "      <td>MNTLLKKYRKQRYAWLRFLLFSKIEGSLPVALRILLSLQPFCCNIY...</td>\n",
       "      <td>a0a023pzf2</td>\n",
       "    </tr>\n",
       "    <tr>\n",
       "      <th>4</th>\n",
       "      <td>A0A023PZG4</td>\n",
       "      <td>MHTICLRSPIDESSPLPYKSIRQPLENAHSCQALCSLMAVLCASAA...</td>\n",
       "      <td>a0a023pzg4</td>\n",
       "    </tr>\n",
       "    <tr>\n",
       "      <th>...</th>\n",
       "      <td>...</td>\n",
       "      <td>...</td>\n",
       "      <td>...</td>\n",
       "    </tr>\n",
       "    <tr>\n",
       "      <th>6034</th>\n",
       "      <td>Q9ZZX0</td>\n",
       "      <td>MLMLLMMILTNNKVFMETLYYYLMFNFQLMSPFGVPVPGPAPETKD...</td>\n",
       "      <td>q9zzx0</td>\n",
       "    </tr>\n",
       "    <tr>\n",
       "      <th>6035</th>\n",
       "      <td>Q9ZZX1</td>\n",
       "      <td>MVQRWLYSTNAKDIAVLYFMLAIFSGMAGTAMSLIIRLELAAPGSQ...</td>\n",
       "      <td>q9zzx1</td>\n",
       "    </tr>\n",
       "    <tr>\n",
       "      <th>6036</th>\n",
       "      <td>Q9ZZX7</td>\n",
       "      <td>MLMMYMLFIMMKTYPMLSYHMMSYHIMLYTIMWYMKYSTYMRLWLL...</td>\n",
       "      <td>q9zzx7</td>\n",
       "    </tr>\n",
       "    <tr>\n",
       "      <th>6037</th>\n",
       "      <td>Q9ZZX8</td>\n",
       "      <td>MCATYMFNITVIITHPTPTLRTRGPGFVRNRDLYIYKYKSNLINNL...</td>\n",
       "      <td>q9zzx8</td>\n",
       "    </tr>\n",
       "    <tr>\n",
       "      <th>6038</th>\n",
       "      <td>Q9ZZX9</td>\n",
       "      <td>MYYIMFLYNMLLIIILIFYSIVGVPIIIFNNNYYWDPDIFLFIIYY...</td>\n",
       "      <td>q9zzx9</td>\n",
       "    </tr>\n",
       "  </tbody>\n",
       "</table>\n",
       "<p>6039 rows × 3 columns</p>\n",
       "</div>"
      ],
      "text/plain": [
       "              id                                                seq  \\\n",
       "0     A0A023PYF4  MAILLPLKSILPWCCITFSFLLSSSGSISHSTASSSITLTKSSKPT...   \n",
       "1     A0A023PZB3  MYYFSRVAARTFCCCIFFCLATAYSRPDRNPRKIEKKDKKFFGASK...   \n",
       "2     A0A023PZE8  MSETCSSSLALLHKILHIHSHTPSVYYNICISVRILTSERLQCFFF...   \n",
       "3     A0A023PZF2  MNTLLKKYRKQRYAWLRFLLFSKIEGSLPVALRILLSLQPFCCNIY...   \n",
       "4     A0A023PZG4  MHTICLRSPIDESSPLPYKSIRQPLENAHSCQALCSLMAVLCASAA...   \n",
       "...          ...                                                ...   \n",
       "6034      Q9ZZX0  MLMLLMMILTNNKVFMETLYYYLMFNFQLMSPFGVPVPGPAPETKD...   \n",
       "6035      Q9ZZX1  MVQRWLYSTNAKDIAVLYFMLAIFSGMAGTAMSLIIRLELAAPGSQ...   \n",
       "6036      Q9ZZX7  MLMMYMLFIMMKTYPMLSYHMMSYHIMLYTIMWYMKYSTYMRLWLL...   \n",
       "6037      Q9ZZX8  MCATYMFNITVIITHPTPTLRTRGPGFVRNRDLYIYKYKSNLINNL...   \n",
       "6038      Q9ZZX9  MYYIMFLYNMLLIIILIFYSIVGVPIIIFNNNYYWDPDIFLFIIYY...   \n",
       "\n",
       "          af3_id  \n",
       "0     a0a023pyf4  \n",
       "1     a0a023pzb3  \n",
       "2     a0a023pze8  \n",
       "3     a0a023pzf2  \n",
       "4     a0a023pzg4  \n",
       "...          ...  \n",
       "6034      q9zzx0  \n",
       "6035      q9zzx1  \n",
       "6036      q9zzx7  \n",
       "6037      q9zzx8  \n",
       "6038      q9zzx9  \n",
       "\n",
       "[6039 rows x 3 columns]"
      ]
     },
     "execution_count": 2,
     "metadata": {},
     "output_type": "execute_result"
    }
   ],
   "source": [
    "df_ = read_fasta('af2.esm_score_missense_mutations.fasta', stop=None)\n",
    "df_['af3_id'] = df_['id'].map(alphafold3_jobname)\n",
    "df_"
   ]
  },
  {
   "cell_type": "code",
   "execution_count": 3,
   "id": "2ffc9d33",
   "metadata": {},
   "outputs": [
    {
     "name": "stdout",
     "output_type": "stream",
     "text": [
      "6039\n"
     ]
    }
   ],
   "source": [
    "# Write input .json-s for every monomer\n",
    "!mkdir -p alphafold3_jsons\n",
    "print(len(list(map(alphafold3_write_monomer, df_['af3_id'], df_['seq']))))"
   ]
  },
  {
   "cell_type": "code",
   "execution_count": 4,
   "id": "d9c48239",
   "metadata": {},
   "outputs": [
    {
     "name": "stdout",
     "output_type": "stream",
     "text": [
      "6039\n"
     ]
    }
   ],
   "source": [
    "# Check number of input .json-s equals number of sequences in the proteome table\n",
    "!ls -1 alphafold3_jsons/*.json | wc -l"
   ]
  }
 ],
 "metadata": {
  "kernelspec": {
   "display_name": "af2genomics-env2",
   "language": "python",
   "name": "python3"
  },
  "language_info": {
   "codemirror_mode": {
    "name": "ipython",
    "version": 3
   },
   "file_extension": ".py",
   "mimetype": "text/x-python",
   "name": "python",
   "nbconvert_exporter": "python",
   "pygments_lexer": "ipython3",
   "version": "3.12.7"
  }
 },
 "nbformat": 4,
 "nbformat_minor": 5
}
