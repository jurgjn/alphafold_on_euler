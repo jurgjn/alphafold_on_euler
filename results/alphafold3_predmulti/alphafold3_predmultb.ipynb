{
 "cells": [
  {
   "cell_type": "code",
   "execution_count": 1,
   "metadata": {
    "vscode": {
     "languageId": "shellscript"
    }
   },
   "outputs": [],
   "source": [
    "# af2genomics-env\n",
    "import glob, functools, json, os, os.path, numpy as np, pandas as pd, gzip\n",
    "from snakemake.io import glob_wildcards\n",
    "from pprint import pprint\n",
    "\n",
    "import IPython, IPython.display\n",
    "def dispall(frame, max_rows=500, max_columns=None, max_colwidth=None):\n",
    "    with pd.option_context('display.max_rows', max_rows, 'display.max_columns', max_columns, 'display.max_colwidth', max_colwidth):\n",
    "        IPython.display.display(frame)"
   ]
  },
  {
   "cell_type": "code",
   "execution_count": 2,
   "metadata": {
    "vscode": {
     "languageId": "shellscript"
    }
   },
   "outputs": [],
   "source": [
    "def uf(x):\n",
    "    return '{:,}'.format(x)\n",
    "\n",
    "def ul(x):\n",
    "    return uf(len(x))\n",
    "\n",
    "def printsrc(*args, **kwargs):\n",
    "    \"\"\"\n",
    "        https://stackoverflow.com/questions/3056048/filename-and-line-number-of-python-script\n",
    "        https://stackoverflow.com/questions/3711184/how-to-use-inspect-to-get-the-callers-info-from-callee-in-python\n",
    "        https://github.com/snakemake/snakemake/blob/main/snakemake/exceptions.py#L17\n",
    "    \"\"\"\n",
    "    #pprint(dir(inspect.currentframe().f_back))\n",
    "    #pprint(dir(inspect.getframeinfo(inspect.currentframe().f_back)))\n",
    "    frameinfo_ = inspect.getframeinfo(inspect.currentframe().f_back)\n",
    "    #pprint(frameinfo_)\n",
    "    #pprint(dir(frameinfo_))\n",
    "    filename = frameinfo_.filename\n",
    "    lineno = frameinfo_.lineno\n",
    "    #lineno = workflow.linemaps[filename][ frameinfo_.lineno ]\n",
    "    print(f'{os.path.basename(filename)}:{lineno}', *args, **kwargs)\n",
    "\n",
    "def printlen(x, *args, **kwargs):\n",
    "    name_ = inspect.stack()[1][3] #https://stackoverflow.com/questions/5067604/determine-function-name-from-within-that-function-without-using-traceback\n",
    "    if name_ != '<module>':\n",
    "        print(f'{name_}:', uf(len(x)), *args, **kwargs)\n",
    "    else:\n",
    "        print(uf(len(x)), *args, **kwargs)\n",
    "\n",
    "def workpath(path):\n",
    "    dir_ = os.path.dirname(os.path.abspath(config['sequences']))\n",
    "    return os.path.join(dir_, path)\n",
    "\n",
    "def scratchpath(path):\n",
    "    # https://scicomp.ethz.ch/wiki/Storage_systems#Local_scratch_.28on_each_compute_node.29\n",
    "    #dir_ = os.environ['TMPDIR']\n",
    "    #return os.path.join(dir_, path)\n",
    "    return f'$TMPDIR/{path}' # Use value of $TMPDIR from the compute node (vs submission node)\n",
    "\n",
    "def runtime_eu(wildcards, attempt):\n",
    "    return ['4h', '1d', '3d', '1w'][attempt - 1]\n",
    "\n",
    "def format_pct(x):\n",
    "    return '({:.2f}%)'.format(x)\n",
    "\n",
    "def printlenq(frame, q, *args, **kwargs):\n",
    "    n_q = len(frame.query(q))\n",
    "    n = len(frame)\n",
    "    f = n_q / n\n",
    "    print(uf(n_q), 'of', uf(n), format_pct(100*f),  *args, **kwargs)\n",
    "\n",
    "def root_path(path):\n",
    "    \"\"\"\n",
    "    https://snakemake.readthedocs.io/en/stable/project_info/faq.html#how-does-snakemake-interpret-relative-paths\n",
    "    https://github.com/snakemake/snakemake/issues/1805\n",
    "    \"\"\"\n",
    "    return os.path.join(os.path.abspath(f'{workflow.basedir}/../..'), path)"
   ]
  },
  {
   "cell_type": "code",
   "execution_count": 3,
   "metadata": {
    "vscode": {
     "languageId": "shellscript"
    }
   },
   "outputs": [
    {
     "name": "stdout",
     "output_type": "stream",
     "text": [
      "2 of 2 (100.00%) sequences where predictions can be run:\n",
      "          no_of_sequences  predicted_runtime\n",
      "batch_id                                    \n",
      "0                       2           0.025297\n"
     ]
    },
    {
     "data": {
      "text/html": [
       "<div>\n",
       "<style scoped>\n",
       "    .dataframe tbody tr th:only-of-type {\n",
       "        vertical-align: middle;\n",
       "    }\n",
       "\n",
       "    .dataframe tbody tr th {\n",
       "        vertical-align: top;\n",
       "    }\n",
       "\n",
       "    .dataframe thead th {\n",
       "        text-align: right;\n",
       "    }\n",
       "</style>\n",
       "<table border=\"1\" class=\"dataframe\">\n",
       "  <thead>\n",
       "    <tr style=\"text-align: right;\">\n",
       "      <th></th>\n",
       "      <th>id</th>\n",
       "      <th>tokens</th>\n",
       "      <th>tokens_check</th>\n",
       "      <th>weight</th>\n",
       "      <th>weight_cumsum</th>\n",
       "      <th>batch_id</th>\n",
       "    </tr>\n",
       "  </thead>\n",
       "  <tbody>\n",
       "    <tr>\n",
       "      <th>0</th>\n",
       "      <td>dusp6_mapk1</td>\n",
       "      <td>741</td>\n",
       "      <td>True</td>\n",
       "      <td>0.012648</td>\n",
       "      <td>0.012648</td>\n",
       "      <td>0</td>\n",
       "    </tr>\n",
       "    <tr>\n",
       "      <th>1</th>\n",
       "      <td>mapk1_dusp6</td>\n",
       "      <td>741</td>\n",
       "      <td>True</td>\n",
       "      <td>0.012648</td>\n",
       "      <td>0.025297</td>\n",
       "      <td>0</td>\n",
       "    </tr>\n",
       "  </tbody>\n",
       "</table>\n",
       "</div>"
      ],
      "text/plain": [
       "            id  tokens  tokens_check    weight  weight_cumsum  batch_id\n",
       "0  dusp6_mapk1     741          True  0.012648       0.012648         0\n",
       "1  mapk1_dusp6     741          True  0.012648       0.025297         0"
      ]
     },
     "metadata": {},
     "output_type": "display_data"
    }
   ],
   "source": [
    "def est_tokens_(file):\n",
    "    with gzip.open(file, 'rt') as fh:\n",
    "        sequences = json.load(fh)['sequences']\n",
    "        n_tokens = 0\n",
    "        for seq in sequences:\n",
    "            #print(seq)\n",
    "            n_tokens += len(seq['protein']['sequence'])\n",
    "    return n_tokens\n",
    "\n",
    "def msasm_tokens_(ids):\n",
    "    df_ = pd.DataFrame({'id': ids.split('_')})\n",
    "    df_['data'] = df_['id'].map(lambda id: f'alphafold3_msas/{id}_data.json.gz')\n",
    "    df_['data_isfile'] = df_['data'].map(os.path.isfile)\n",
    "    df_['tokens'] = df_['data'].map(est_tokens_)\n",
    "    return df_['tokens'].sum()\n",
    "\n",
    "def alphafold3_predictions_batches(ids, batch_runtime_hrs=3, c_or_r=[ 1.44451398e-04, -1.18261348e-01,  5.38503478e+01]):\n",
    "    #ids, = glob_wildcards('alphafold3_jsons/{id}.json')\n",
    "    df_ = pd.DataFrame({'id': ids})\n",
    "    df_['tokens'] = df_['id'].map(msasm_tokens_)\n",
    "    df_['pred'] = df_['id'].map(lambda id: f'alphafold3_predictions/{id}/{id}_model.cif.gz')\n",
    "\n",
    "    df_['tokens_check'] = (16 < df_['tokens']) & (df_['tokens'] <= 5000)\n",
    "    df_['pred_isfile'] = df_['pred'].map(os.path.isfile)\n",
    "\n",
    "    q_ = 'tokens_check & ~pred_isfile'\n",
    "    printlenq(df_, q_, 'sequences where predictions can be run:')\n",
    "\n",
    "    df_ = df_.query(q_).sort_values('tokens').reset_index(drop=True)\n",
    "    predict_runtime = np.poly1d(c_or_r) / (60 * 60)\n",
    "    df_['weight'] = df_['tokens'].map(predict_runtime)\n",
    "    df_['weight_cumsum'] = df_['weight'].cumsum()\n",
    "    df_['batch_id'] = df_['weight_cumsum'].astype(int) // batch_runtime_hrs\n",
    "    print(df_.groupby('batch_id').agg(no_of_sequences=('id', len), predicted_runtime=('weight', 'sum')))\n",
    "    return df_\n",
    "\n",
    "df_ = alphafold3_predictions_batches(ids=['dusp6_mapk1', 'mapk1_dusp6'], batch_runtime_hrs=1)\n",
    "dispall(df_[['id', 'tokens', 'tokens_check', 'weight', 'weight_cumsum', 'batch_id']])"
   ]
  },
  {
   "cell_type": "code",
   "execution_count": 4,
   "metadata": {
    "vscode": {
     "languageId": "shellscript"
    }
   },
   "outputs": [],
   "source": [
    "df_.to_csv('alphafold3_predmultb.tsv', index=False, header=True, sep='\\t')"
   ]
  }
 ],
 "metadata": {
  "kernelspec": {
   "display_name": "af2genomics-env",
   "language": "python",
   "name": "python3"
  },
  "language_info": {
   "codemirror_mode": {
    "name": "ipython",
    "version": 3
   },
   "file_extension": ".py",
   "mimetype": "text/x-python",
   "name": "python",
   "nbconvert_exporter": "python",
   "pygments_lexer": "ipython3",
   "version": "3.9.18"
  }
 },
 "nbformat": 4,
 "nbformat_minor": 2
}
