{
 "cells": [
  {
   "cell_type": "code",
   "execution_count": 1,
   "metadata": {
    "vscode": {
     "languageId": "shellscript"
    }
   },
   "outputs": [],
   "source": [
    "cd -P ~/batch-infer\n",
    "#mkdir -p results/alphafold3_multibatch_example/alphafold3_msas/\n",
    "#cp results/alphafold3_examples/alphafold3_msas/dusp6_data.json.gz results/alphafold3_multibatch_example/alphafold3_msas/\n",
    "#cp results/alphafold3_examples/alphafold3_msas/mapk1_data.json.gz results/alphafold3_multibatch_example/alphafold3_msas/"
   ]
  },
  {
   "cell_type": "code",
   "execution_count": null,
   "metadata": {
    "vscode": {
     "languageId": "shellscript"
    }
   },
   "outputs": [
    {
     "name": "stdout",
     "output_type": "stream",
     "text": [
      "Submitted batch job 29010935\n",
      "   JOBID  PARTITION    NAME                                                          STATE       TIME  TIME_LIMIT  NODELIST(REASON)\n",
      "29010935  normal.120h  batch-infer:alphafold3_predmulti=results-alphafold3_predmult  PENDING     0:00  7-00:00:00  (Priority)\n",
      "29003434  normal.120h  batch-infer:alphafold3_msas_only=projects-af3_mgen            RUNNING  1:41:41  7-00:00:00  eu-g5-025-3\n",
      "29003395  normal.24h   code                                                          RUNNING    49:37     8:00:00  eu-a2p-057\n",
      "29003480  normal.4h    alphafold3_msas:id=aac71258.1                                 RUNNING  1:39:57     4:00:00  eu-a2p-141\n"
     ]
    }
   ],
   "source": [
    "#./batch-infer alphafold3_predmulti results/alphafold3_predmulti | sbatch\n",
    "my_squeue"
   ]
  },
  {
   "cell_type": "code",
   "execution_count": 3,
   "metadata": {
    "vscode": {
     "languageId": "shellscript"
    }
   },
   "outputs": [
    {
     "name": "stdout",
     "output_type": "stream",
     "text": [
      "{\n",
      "  \"dialect\": \"alphafold3\",\n",
      "  \"version\": 2,\n",
      "  \"name\": \"mapk1_dusp6\",\n",
      "  \"sequences\": [\n",
      "    {\n",
      "      \"protein\": {\n",
      "        \"id\": \"B\",\n"
     ]
    }
   ],
   "source": [
    "gunzip -c results/alphafold3_predmulti/alphafold3_msasm/mapk1_dusp6_data.json.gz | head -n 8"
   ]
  },
  {
   "cell_type": "code",
   "execution_count": 4,
   "metadata": {
    "vscode": {
     "languageId": "shellscript"
    }
   },
   "outputs": [
    {
     "name": "stdout",
     "output_type": "stream",
     "text": [
      "{\n",
      "  \"dialect\": \"alphafold3\",\n",
      "  \"version\": 2,\n",
      "  \"name\": \"mapk1_dusp6\",\n",
      "  \"sequences\": [\n",
      "    {\n",
      "      \"protein\": {\n",
      "        \"id\": \"B\",\n"
     ]
    }
   ],
   "source": [
    "gunzip -c results/alphafold3_examples/alphafold3_msas/mapk1_dusp6_data.json.gz | head -n 8"
   ]
  },
  {
   "cell_type": "code",
   "execution_count": 5,
   "metadata": {
    "vscode": {
     "languageId": "shellscript"
    }
   },
   "outputs": [],
   "source": [
    "diff <(gunzip -c results/alphafold3_examples/alphafold3_msas/mapk1_dusp6_data.json.gz) \\\n",
    "     <(gunzip -c results/alphafold3_predmulti/alphafold3_msasm/mapk1_dusp6_data.json.gz)"
   ]
  },
  {
   "cell_type": "code",
   "execution_count": null,
   "metadata": {
    "vscode": {
     "languageId": "shellscript"
    }
   },
   "outputs": [],
   "source": []
  }
 ],
 "metadata": {
  "kernelspec": {
   "display_name": "Bash",
   "language": "bash",
   "name": "bash"
  },
  "language_info": {
   "codemirror_mode": "shell",
   "file_extension": ".sh",
   "mimetype": "text/x-sh",
   "name": "bash"
  }
 },
 "nbformat": 4,
 "nbformat_minor": 2
}
