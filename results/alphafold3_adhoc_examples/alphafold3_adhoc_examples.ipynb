{
 "cells": [
  {
   "cell_type": "code",
   "execution_count": 1,
   "metadata": {
    "vscode": {
     "languageId": "shellscript"
    }
   },
   "outputs": [
    {
     "name": "stdout",
     "output_type": "stream",
     "text": [
      "Cloning into 'batch-infer'...\n",
      "remote: Enumerating objects: 1261, done.        \n",
      "remote: Counting objects: 100% (213/213), done.        \n",
      "remote: Compressing objects: 100% (118/118), done.        \n",
      "remote: Total 1261 (delta 140), reused 162 (delta 95), pack-reused 1048 (from 1)        \n",
      "Receiving objects: 100% (1261/1261), 599.19 KiB | 1.20 MiB/s, done.\n",
      "Resolving deltas: 100% (731/731), done.\n",
      "Submodule 'batch-infer/software/smk-simple-slurm-eu' (https://github.com/jurgjn/smk-simple-slurm-eu.git) registered for path 'software/smk-simple-slurm-eu'\n",
      "Cloning into '/cluster/scratch/jjaenes/batch-infer/software/smk-simple-slurm-eu'...\n",
      "remote: Enumerating objects: 569, done.        \n",
      "remote: Counting objects: 100% (138/138), done.        \n",
      "remote: Compressing objects: 100% (53/53), done.        \n",
      "remote: Total 569 (delta 106), reused 96 (delta 85), pack-reused 431 (from 1)        \n",
      "Receiving objects: 100% (569/569), 96.98 KiB | 232.00 KiB/s, done.\n",
      "Resolving deltas: 100% (287/287), done.\n",
      "Submodule path 'software/smk-simple-slurm-eu': checked out '48ff51581ac2c95daa96583cc8c7888fa2214c37'\n"
     ]
    }
   ],
   "source": [
    "# Clone the repository\n",
    "cd /cluster/scratch/$USER\n",
    "git clone --recurse-submodules https://github.com/jurgjn/batch-infer.git\n",
    "cd batch-infer"
   ]
  },
  {
   "cell_type": "code",
   "execution_count": 3,
   "metadata": {
    "vscode": {
     "languageId": "shellscript"
    }
   },
   "outputs": [
    {
     "name": "stdout",
     "output_type": "stream",
     "text": [
      "results/alphafold3_adhoc_examples/alphafold3_jsons/atox1.json\n",
      "results/alphafold3_adhoc_examples/alphafold3_jsons/dusp6.json\n",
      "results/alphafold3_adhoc_examples/alphafold3_jsons/example_2pv7.json\n",
      "results/alphafold3_adhoc_examples/alphafold3_jsons/mapk1_dusp6.json\n",
      "results/alphafold3_adhoc_examples/alphafold3_jsons/mapk1.json\n"
     ]
    }
   ],
   "source": [
    "# Directory results/alphafold3_adhoc_examples contains:\n",
    "# - subdirectory alphafold3_jsons with the input .json files\n",
    "# - config.yaml with the location of the model weights\n",
    "ls -1 results/alphafold3_adhoc_examples/alphafold3_jsons/*"
   ]
  },
  {
   "cell_type": "code",
   "execution_count": null,
   "metadata": {
    "vscode": {
     "languageId": "shellscript"
    }
   },
   "outputs": [
    {
     "name": "stdout",
     "output_type": "stream",
     "text": [
      "{\n",
      "  \"name\": \"example_2pv7\",\n",
      "  \"sequences\": [\n",
      "    {\n",
      "      \"protein\": {\n",
      "        \"id\": [\"A\", \"B\"],\n",
      "        \"sequence\": \"GMRESYANENQFGFKTINSDIHKIVIVGGYGKLGGLFARYLRASGYPISILDREDWAVAESILANADVVIVSVPINLTLETIERLKPYLTENMLLADLTSVKREPLAKMLEVHTGAVLGLHPMFGADIASMAKQVVVRCDGRFPERYEWLLEQIQIWGAKIYQTNATEHDHNMTYIQALRHFSTFANGLHLSKQPINLANLLALSSPIYRLELAMIGRLFAQDAELYADIIMDKSENLAVIETLKQTYDEALTFFENNDRQGFIDAFHKVRDWFGDYSEQFLKESRQLLQQANDLKQG\"\n",
      "      }\n",
      "    }\n",
      "  ],\n",
      "  \"modelSeeds\": [1],\n",
      "  \"dialect\": \"alphafold3\",\n",
      "  \"version\": 1\n",
      "}\n"
     ]
    }
   ],
   "source": [
    "# Every input .json has a 'name' field which has to match the file name.\n",
    "# It's also restricted to lowercase ASCII, numbers, underscore (_), hyphen (-) and dot (.) characters\n",
    "# https://github.com/google-deepmind/alphafold3/blob/main/src/alphafold3/common/folding_input.py#L919-L923\n",
    "cat results/alphafold3_adhoc_examples/alphafold3_jsons/example_2pv7.json"
   ]
  },
  {
   "cell_type": "code",
   "execution_count": 5,
   "metadata": {
    "vscode": {
     "languageId": "shellscript"
    }
   },
   "outputs": [
    {
     "name": "stdout",
     "output_type": "stream",
     "text": [
      "# Edit to specify location of your AF3 model parameters (example location below will not work)\n",
      "alphafold3_models: /cluster/work/beltrao/jjaenes/24.11.13_af3_models\n"
     ]
    }
   ],
   "source": [
    "# Edit config.yaml to specify location of model weights\n",
    "cat results/alphafold3_adhoc_examples/config.yaml"
   ]
  },
  {
   "cell_type": "code",
   "execution_count": 38,
   "metadata": {
    "vscode": {
     "languageId": "shellscript"
    }
   },
   "outputs": [
    {
     "name": "stdout",
     "output_type": "stream",
     "text": [
      "\n",
      "alphafold3_databases: /cluster/project/alphafold/alphafold3\n",
      "#alphafold3_databases: /cluster/work/beltrao/jjaenes/24.11.11_af3_databases\n",
      "alphafold3_docker: /cluster/project/beltrao/shared/alphafold3/images/alphafold3-v3.0.1.sif\n",
      "\n"
     ]
    }
   ],
   "source": [
    "# For additional options such as the AF3 docker image, see the defaults in workflow/config/defaults.yaml\n",
    "head -n 5 workflow/config/defaults.yaml"
   ]
  },
  {
   "cell_type": "code",
   "execution_count": 14,
   "metadata": {
    "vscode": {
     "languageId": "shellscript"
    }
   },
   "outputs": [
    {
     "name": "stdout",
     "output_type": "stream",
     "text": [
      "Submitted batch job 33649572\n"
     ]
    }
   ],
   "source": [
    "# Start the pipeline with the following arguments\n",
    "# - `alphafold3_onegpu` target runs data pipeline steps as separate jobs, and then all structure predictions as a single GPU job\n",
    "# - `results/alphafold3_adhoc_examples` specifies the directory with inputs (alphafold3_jsons), and the config file (config.yaml)\n",
    "./batch-infer alphafold3_onegpu results/alphafold3_adhoc_examples | sbatch"
   ]
  },
  {
   "cell_type": "code",
   "execution_count": 15,
   "metadata": {
    "vscode": {
     "languageId": "shellscript"
    }
   },
   "outputs": [
    {
     "name": "stdout",
     "output_type": "stream",
     "text": [
      "   JOBID  PARTITION    NAME                                      STATE    TIME  TIME_LIMIT  NODELIST(REASON)\n",
      "33649359  normal.120h  batch-infer:alphafold3_onegpu=results-al  RUNNING  3:38  7-00:00:00  eu-g5-048-2\n",
      "33649365  normal.4h    alphafold3_msas:id=mapk1                  RUNNING  3:24     4:00:00  eu-g5-023-1\n",
      "33649364  normal.4h    alphafold3_msas:id=dusp6                  RUNNING  3:25     4:00:00  eu-g5-021-1\n",
      "33649363  normal.4h    alphafold3_msas:id=mapk1_dusp6            RUNNING  3:26     4:00:00  eu-g5-017-1\n",
      "33649362  normal.4h    alphafold3_msas:id=example_2pv7           RUNNING  3:28     4:00:00  eu-g5-015-4\n",
      "33649361  normal.4h    alphafold3_msas:id=atox1                  RUNNING  3:29     4:00:00  eu-g5-007-4\n"
     ]
    }
   ],
   "source": [
    "# This will start the main snakemake job (batch-infer), and one MSA job per input json (alphafold3_msas)\n",
    "squeue --format=\"%.18i %.12P %.40j %.8T %.16M %.16l %40R\" | column -t --table-right 1,5,6"
   ]
  },
  {
   "cell_type": "code",
   "execution_count": null,
   "metadata": {
    "vscode": {
     "languageId": "shellscript"
    }
   },
   "outputs": [
    {
     "name": "stdout",
     "output_type": "stream",
     "text": [
      "atox1_data.json.gz\n",
      "dusp6_data.json.gz\n",
      "example_2pv7_data.json.gz\n"
     ]
    }
   ],
   "source": [
    "# Data pipeline output appears under the alphafold3_msas-subdirectory:\n",
    "ls -1 results/alphafold3_adhoc_examples/alphafold3_msas"
   ]
  },
  {
   "cell_type": "code",
   "execution_count": 50,
   "metadata": {
    "vscode": {
     "languageId": "shellscript"
    }
   },
   "outputs": [
    {
     "name": "stdout",
     "output_type": "stream",
     "text": [
      "   JOBID  PARTITION    NAME                                      STATE       TIME  TIME_LIMIT  NODELIST(REASON)\n",
      "33664955  gpupr.120h   alphafold3_predictions:                   PENDING     0:00  3-00:00:00  (Resources)\n",
      "33649359  normal.120h  batch-infer:alphafold3_onegpu=results-al  RUNNING  1:33:02  7-00:00:00  eu-g5-048-2\n"
     ]
    }
   ],
   "source": [
    "# After all MSAs have finished the structure prediction job (alphafold3_predictions) will start\n",
    "squeue --format=\"%.18i %.12P %.40j %.8T %.16M %.16l %40R\" | column -t --table-right 1,5,6"
   ]
  },
  {
   "cell_type": "code",
   "execution_count": 57,
   "metadata": {
    "vscode": {
     "languageId": "shellscript"
    }
   },
   "outputs": [
    {
     "name": "stdout",
     "output_type": "stream",
     "text": [
      "atox1\n",
      "dusp6\n",
      "example_2pv7\n",
      "mapk1\n",
      "mapk1_dusp6\n"
     ]
    }
   ],
   "source": [
    "# Structure prediction appears under the alphafold3_predictions-subdirectory: \n",
    "ls -1 results/alphafold3_adhoc_examples/alphafold3_predictions"
   ]
  },
  {
   "cell_type": "code",
   "execution_count": 58,
   "metadata": {
    "vscode": {
     "languageId": "shellscript"
    }
   },
   "outputs": [
    {
     "name": "stdout",
     "output_type": "stream",
     "text": [
      "atox1_confidences.json.gz\n",
      "atox1_data.json.gz\n",
      "atox1_model.cif.gz\n",
      "atox1_summary_confidences.json.gz\n",
      "ranking_scores.csv.gz\n",
      "seed-1_sample-0\n",
      "seed-1_sample-1\n",
      "seed-1_sample-2\n",
      "seed-1_sample-3\n",
      "seed-1_sample-4\n",
      "TERMS_OF_USE.md.gz\n"
     ]
    }
   ],
   "source": [
    "ls -1 results/alphafold3_adhoc_examples/alphafold3_predictions/atox1"
   ]
  },
  {
   "cell_type": "code",
   "execution_count": 54,
   "metadata": {
    "vscode": {
     "languageId": "shellscript"
    }
   },
   "outputs": [
    {
     "name": "stdout",
     "output_type": "stream",
     "text": [
      " Wall-clock                      : 00:28:15\n",
      " Wall-clock                      : 01:01:34\n",
      " Wall-clock                      : 01:31:51\n"
     ]
    }
   ],
   "source": [
    "# Runtimes for some MSAs - dusp6, mapk1, interaction (mapk1_dusp6)\n",
    "cat results/alphafold3_adhoc_examples/.snakemake-eu/myjobs/33649364.txt | grep \"Wall-clock\"\n",
    "cat results/alphafold3_adhoc_examples/.snakemake-eu/myjobs/33649365.txt | grep \"Wall-clock\"\n",
    "cat results/alphafold3_adhoc_examples/.snakemake-eu/myjobs/33649363.txt | grep \"Wall-clock\""
   ]
  },
  {
   "cell_type": "code",
   "execution_count": 56,
   "metadata": {
    "vscode": {
     "languageId": "shellscript"
    }
   },
   "outputs": [
    {
     "name": "stdout",
     "output_type": "stream",
     "text": [
      " Wall-clock                      : 00:05:18\n"
     ]
    }
   ],
   "source": [
    "# Runtime for structure prediction\n",
    "cat results/alphafold3_adhoc_examples/.snakemake-eu/myjobs/33664955.txt | grep \"Wall-clock\""
   ]
  }
 ],
 "metadata": {
  "kernelspec": {
   "display_name": "Bash",
   "language": "bash",
   "name": "bash"
  },
  "language_info": {
   "codemirror_mode": "shell",
   "file_extension": ".sh",
   "mimetype": "text/x-sh",
   "name": "bash"
  }
 },
 "nbformat": 4,
 "nbformat_minor": 2
}
