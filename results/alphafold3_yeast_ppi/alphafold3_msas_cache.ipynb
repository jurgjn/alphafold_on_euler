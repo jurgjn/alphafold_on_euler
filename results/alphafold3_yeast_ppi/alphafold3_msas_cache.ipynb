{
 "cells": [
  {
   "cell_type": "code",
   "execution_count": null,
   "metadata": {
    "vscode": {
     "languageId": "shellscript"
    }
   },
   "outputs": [],
   "source": [
    "# Change to directory with the batch-infer script\n",
    "cd ~/batch-infer"
   ]
  },
  {
   "cell_type": "code",
   "execution_count": null,
   "metadata": {
    "vscode": {
     "languageId": "shellscript"
    }
   },
   "outputs": [],
   "source": [
    "# Generate multimer MSAs using monomer cache specified with alphafold3_msas_cache in config.yaml\n",
    "./batch-infer alphafold3_msas_cache results/alphafold3_yeast_ppi | sbatch"
   ]
  },
  {
   "cell_type": "code",
   "execution_count": null,
   "metadata": {
    "vscode": {
     "languageId": "shellscript"
    }
   },
   "outputs": [],
   "source": [
    "# Single job generates the multimer outputs\n",
    "my_squeue"
   ]
  },
  {
   "cell_type": "code",
   "execution_count": null,
   "metadata": {
    "vscode": {
     "languageId": "shellscript"
    }
   },
   "outputs": [],
   "source": [
    "ls -1 results/alphafold3_yeast/alphafold3_msas/*.json.gz | wc -l\n",
    "ls -1 results/alphafold3_yeast_ppi/alphafold3_msas/*.json.gz | wc -l"
   ]
  },
  {
   "cell_type": "code",
   "execution_count": null,
   "metadata": {
    "vscode": {
     "languageId": "shellscript"
    }
   },
   "outputs": [],
   "source": [
    "# Run the prediction step on the generated multimer outputs\n",
    "./batch-infer alphafold3_onegpu results/alphafold3_yeast_ppi | sbatch"
   ]
  },
  {
   "cell_type": "code",
   "execution_count": null,
   "metadata": {
    "vscode": {
     "languageId": "shellscript"
    }
   },
   "outputs": [],
   "source": [
    "my_squeue"
   ]
  }
 ],
 "metadata": {
  "kernelspec": {
   "display_name": "Bash",
   "language": "bash",
   "name": "bash"
  },
  "language_info": {
   "codemirror_mode": "shell",
   "file_extension": ".sh",
   "mimetype": "text/x-sh",
   "name": "bash"
  }
 },
 "nbformat": 4,
 "nbformat_minor": 2
}
