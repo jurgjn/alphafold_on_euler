{
 "cells": [
  {
   "cell_type": "code",
   "execution_count": 3,
   "metadata": {
    "vscode": {
     "languageId": "shellscript"
    }
   },
   "outputs": [
    {
     "name": "stdout",
     "output_type": "stream",
     "text": [
      "(prody-venv) \n"
     ]
    }
   ],
   "source": [
    "source ../../software/venvs/prody-venv/bin/activate"
   ]
  },
  {
   "cell_type": "code",
   "execution_count": 9,
   "metadata": {
    "vscode": {
     "languageId": "shellscript"
    }
   },
   "outputs": [
    {
     "name": "stdout",
     "output_type": "stream",
     "text": [
      "(prody-venv) \n",
      "(prody-venv) \n",
      "(prody-venv) \n",
      "/cluster/project/beltrao/jjaenes/22.05.30_alphafold_on_euler/batch-infer/results/example_ensemble\n",
      "(prody-venv) \n"
     ]
    }
   ],
   "source": [
    "cd colabfold_predictions_\n",
    "#ls -l *.pdb | wc -l\n",
    "prody align *.pdb\n",
    "cd -"
   ]
  },
  {
   "cell_type": "code",
   "execution_count": 10,
   "metadata": {
    "vscode": {
     "languageId": "shellscript"
    }
   },
   "outputs": [
    {
     "name": "stdout",
     "output_type": "stream",
     "text": [
      "(prody-venv) \n",
      "(prody-venv) \n",
      "(prody-venv) \n"
     ]
    }
   ],
   "source": [
    "mkdir -p colabfold_predictions_aligned\n",
    "cp colabfold_predictions_/*_rank_001_*.pdb colabfold_predictions_aligned/\n",
    "mv colabfold_predictions_/*_aligned.pdb colabfold_predictions_aligned/"
   ]
  },
  {
   "cell_type": "code",
   "execution_count": 13,
   "metadata": {
    "vscode": {
     "languageId": "shellscript"
    }
   },
   "outputs": [
    {
     "name": "stdout",
     "output_type": "stream",
     "text": [
      "501\n",
      "(prody-venv) \n"
     ]
    }
   ],
   "source": [
    "ls -l colabfold_predictions_aligned | wc -l"
   ]
  },
  {
   "cell_type": "code",
   "execution_count": null,
   "metadata": {
    "vscode": {
     "languageId": "shellscript"
    }
   },
   "outputs": [],
   "source": []
  }
 ],
 "metadata": {
  "kernelspec": {
   "display_name": "Bash",
   "language": "bash",
   "name": "bash"
  },
  "language_info": {
   "codemirror_mode": "shell",
   "file_extension": ".sh",
   "mimetype": "text/x-sh",
   "name": "bash"
  }
 },
 "nbformat": 4,
 "nbformat_minor": 2
}
