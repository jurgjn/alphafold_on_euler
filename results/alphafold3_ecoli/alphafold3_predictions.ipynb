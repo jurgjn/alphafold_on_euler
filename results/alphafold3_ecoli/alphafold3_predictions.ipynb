{
 "cells": [
  {
   "cell_type": "code",
   "execution_count": 1,
   "id": "08f9a616",
   "metadata": {
    "vscode": {
     "languageId": "shellscript"
    }
   },
   "outputs": [
    {
     "name": "stdout",
     "output_type": "stream",
     "text": [
      "/cluster/scratch/jjaenes/batch-infer-dev\n"
     ]
    }
   ],
   "source": [
    "# Change to directory with the batch-infer script\n",
    "cd ../..\n",
    "pwd"
   ]
  },
  {
   "cell_type": "code",
   "execution_count": null,
   "id": "6a23cb97",
   "metadata": {
    "vscode": {
     "languageId": "shellscript"
    }
   },
   "outputs": [
    {
     "name": "stdout",
     "output_type": "stream",
     "text": [
      "Submitted batch job 33515250\n"
     ]
    }
   ],
   "source": [
    "# Generate grouping table with a dry run\n",
    "./batch-infer alphafold3_predictions_multigpu results/alphafold3_ecoli --dry-run | sbatch"
   ]
  },
  {
   "cell_type": "code",
   "execution_count": 8,
   "id": "892c6a2a",
   "metadata": {
    "vscode": {
     "languageId": "shellscript"
    }
   },
   "outputs": [
    {
     "name": "stdout",
     "output_type": "stream",
     "text": [
      "id\tjson\ttokens\tpred\ttokens_check\tpred_isfile\tweight\tweight_cumsum\tbatch_id\n",
      "p0dse9\talphafold3_jsons/p0dse9.json\t17\talphafold3_predictions/p0dse9/p0dse9_model.cif.gz\tTrue\tFalse\t0.014411569816117223\t0.014411569816117223\t0\n",
      "p0dv23\talphafold3_jsons/p0dv23.json\t17\talphafold3_predictions/p0dv23/p0dv23_model.cif.gz\tTrue\tFalse\t0.014411569816117223\t0.028823139632234446\t0\n",
      "p0dv19\talphafold3_jsons/p0dv19.json\t17\talphafold3_predictions/p0dv19/p0dv19_model.cif.gz\tTrue\tFalse\t0.014411569816117223\t0.04323470944835167\t0\n",
      "c1p621\talphafold3_jsons/c1p621.json\t17\talphafold3_predictions/c1p621/c1p621_model.cif.gz\tTrue\tFalse\t0.014411569816117223\t0.05764627926446889\t0\n",
      "p0dsh0\talphafold3_jsons/p0dsh0.json\t17\talphafold3_predictions/p0dsh0/p0dsh0_model.cif.gz\tTrue\tFalse\t0.014411569816117223\t0.07205784908058611\t0\n",
      "e2jky7\talphafold3_jsons/e2jky7.json\t17\talphafold3_predictions/e2jky7/e2jky7_model.cif.gz\tTrue\tFalse\t0.014411569816117223\t0.08646941889670334\t0\n",
      "p0dv20\talphafold3_jsons/p0dv20.json\t18\talphafold3_predictions/p0dv20/p0dv20_model.cif.gz\tTrue\tFalse\t0.014380123830264446\t0.10084954272696779\t0\n",
      "p0dv21\talphafold3_jsons/p0dv21.json\t18\talphafold3_predictions/p0dv21/p0dv21_model.cif.gz\tTrue\tFalse\t0.014380123830264446\t0.11522966655723224\t0\n",
      "p0dsh7\talphafold3_jsons/p0dsh7.json\t18\talphafold3_predictions/p0dsh7/p0dsh7_model.cif.gz\tTrue\tFalse\t0.014380123830264446\t0.12960979038749668\t0\n",
      "p0dse5\talphafold3_jsons/p0dse5.json\t18\talphafold3_predictions/p0dse5/p0dse5_model.cif.gz\tTrue\tFalse\t0.014380123830264446\t0.1439899142177611\t0\n",
      "c1p608\talphafold3_jsons/c1p608.json\t18\talphafold3_predictions/c1p608/c1p608_model.cif.gz\tTrue\tFalse\t0.014380123830264446\t0.15837003804802555\t0\n",
      "p0dsh5\talphafold3_jsons/p0dsh5.json\t19\talphafold3_predictions/p0dsh5/p0dsh5_model.cif.gz\tTrue\tFalse\t0.014348758095188334\t0.1727187961432139\t0\n",
      "c1p607\talphafold3_jsons/c1p607.json\t19\talphafold3_predictions/c1p607/c1p607_model.cif.gz\tTrue\tFalse\t0.014348758095188334\t0.18706755423840224\t0\n",
      "a5a621\talphafold3_jsons/a5a621.json\t19\talphafold3_predictions/a5a621/a5a621_model.cif.gz\tTrue\tFalse\t0.014348758095188334\t0.20141631233359059\t0\n",
      "c1p615\talphafold3_jsons/c1p615.json\t19\talphafold3_predictions/c1p615/c1p615_model.cif.gz\tTrue\tFalse\t0.014348758095188334\t0.21576507042877893\t0\n",
      "p0dse7\talphafold3_jsons/p0dse7.json\t19\talphafold3_predictions/p0dse7/p0dse7_model.cif.gz\tTrue\tFalse\t0.014348758095188334\t0.23011382852396728\t0\n",
      "p0duw1\talphafold3_jsons/p0duw1.json\t19\talphafold3_predictions/p0duw1/p0duw1_model.cif.gz\tTrue\tFalse\t0.014348758095188334\t0.24446258661915563\t0\n",
      "c1p616\talphafold3_jsons/c1p616.json\t19\talphafold3_predictions/c1p616/c1p616_model.cif.gz\tTrue\tFalse\t0.014348758095188334\t0.25881134471434397\t0\n",
      "c1p617\talphafold3_jsons/c1p617.json\t19\talphafold3_predictions/c1p617/c1p617_model.cif.gz\tTrue\tFalse\t0.014348758095188334\t0.2731601028095323\t0\n"
     ]
    }
   ],
   "source": [
    "# Check grouping table\n",
    "head -n 20 results/alphafold3_ecoli/alphafold3_predictions_multigpu.tsv"
   ]
  },
  {
   "cell_type": "code",
   "execution_count": 9,
   "id": "7d32480a",
   "metadata": {
    "vscode": {
     "languageId": "shellscript"
    }
   },
   "outputs": [
    {
     "name": "stdout",
     "output_type": "stream",
     "text": [
      "Submitted batch job 33515755\n"
     ]
    }
   ],
   "source": [
    "# Start batched GPU jobs\n",
    "./batch-infer alphafold3_predictions_multigpu results/alphafold3_ecoli | sbatch"
   ]
  },
  {
   "cell_type": "code",
   "execution_count": null,
   "id": "79c2dbeb",
   "metadata": {
    "vscode": {
     "languageId": "shellscript"
    }
   },
   "outputs": [
    {
     "name": "stdout",
     "output_type": "stream",
     "text": [
      "   JOBID  PARTITION    NAME                                                          STATE    TIME  TIME_LIMIT  NODELIST(REASON)\n",
      "33516271  gpupr.4h     alphafold3_predictions_batch15_10:                            PENDING  0:00     4:00:00  (Priority)\n",
      "33516266  gpupr.4h     alphafold3_predictions_batch0_219:                            PENDING  0:00     4:00:00  (Priority)\n",
      "33516261  gpupr.4h     alphafold3_predictions_batch3_265:                            PENDING  0:00     4:00:00  (Priority)\n",
      "33516256  gpupr.4h     alphafold3_predictions_batch8_341:                            PENDING  0:00     4:00:00  (Priority)\n",
      "33516249  gpupr.4h     alphafold3_predictions_batch6_312:                            PENDING  0:00     4:00:00  (Priority)\n",
      "33516244  gpupr.4h     alphafold3_predictions_batch4_281:                            PENDING  0:00     4:00:00  (Resources)\n",
      "33516170  gpupr.4h     alphafold3_predictions_batch1_238:                            RUNNING  0:09     4:00:00  eu-a65-06\n",
      "33516222  gpupr.4h     alphafold3_predictions_batch13_274:                           RUNNING  0:09     4:00:00  eu-a65-06\n",
      "33516227  gpupr.4h     alphafold3_predictions_batch14_136:                           RUNNING  0:09     4:00:00  eu-a65-06\n",
      "33516232  gpupr.4h     alphafold3_predictions_batch10_361:                           RUNNING  0:09     4:00:00  eu-a65-06\n",
      "33516240  gpupr.4h     alphafold3_predictions_batch2_251:                            RUNNING  0:09     4:00:00  eu-a65-06\n",
      "33516163  gpupr.4h     alphafold3_predictions_batch11_363:                           RUNNING  0:43     4:00:00  eu-a65-05\n",
      "33516158  gpupr.4h     alphafold3_predictions_batch9_352:                            RUNNING  0:46     4:00:00  eu-a65-05\n",
      "33516152  gpupr.4h     alphafold3_predictions_batch7_327:                            RUNNING  0:50     4:00:00  eu-a65-05\n",
      "33516145  gpupr.4h     alphafold3_predictions_batch5_297:                            RUNNING  0:53     4:00:00  eu-a65-07\n",
      "33516137  gpupr.4h     alphafold3_predictions_batch12_349:                           RUNNING  0:56     4:00:00  eu-a65-07\n",
      "33515755  normal.120h  batch-infer:alphafold3_predictions_multigpu=results-alphafol  RUNNING  1:37  7-00:00:00  eu-g5-021-2\n"
     ]
    }
   ],
   "source": [
    "# Check jobs are submitted/running\n",
    "my_squeue"
   ]
  },
  {
   "cell_type": "code",
   "execution_count": null,
   "id": "b42dd68e",
   "metadata": {
    "vscode": {
     "languageId": "shellscript"
    }
   },
   "outputs": [
    {
     "name": "stdout",
     "output_type": "stream",
     "text": [
      "4102\n"
     ]
    }
   ],
   "source": [
    "# Number of finished models - one job had a timeout, will need to re-run\n",
    "ls -1 results/alphafold3_ecoli/alphafold3_predictions/*/*_model.cif.gz | wc -l"
   ]
  },
  {
   "cell_type": "code",
   "execution_count": null,
   "id": "f96d40de",
   "metadata": {
    "vscode": {
     "languageId": "shellscript"
    }
   },
   "outputs": [],
   "source": []
  }
 ],
 "metadata": {
  "kernelspec": {
   "display_name": "Bash",
   "language": "bash",
   "name": "bash"
  },
  "language_info": {
   "codemirror_mode": "shell",
   "file_extension": ".sh",
   "mimetype": "text/x-sh",
   "name": "bash"
  }
 },
 "nbformat": 4,
 "nbformat_minor": 5
}
