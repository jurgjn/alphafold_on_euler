{
 "cells": [
  {
   "cell_type": "code",
   "execution_count": null,
   "id": "1fcdd764",
   "metadata": {},
   "outputs": [],
   "source": [
    "%run ../../workflow/rules/common.py\n",
    "# Table of canonical ecoli protein sequences from Uniprot\n",
    "#url_ = 'https://rest.uniprot.org/uniprotkb/stream?compressed=true&fields=accession%2Cid%2Csequence&format=tsv&query=%28%28proteome%3AUP000000625%29%29'\n",
    "#!wget -O ecoli_sequences.tsv.gz '{url_}'"
   ]
  },
  {
   "cell_type": "code",
   "execution_count": null,
   "id": "1c169cad",
   "metadata": {},
   "outputs": [
    {
     "data": {
      "text/html": [
       "<div>\n",
       "<style scoped>\n",
       "    .dataframe tbody tr th:only-of-type {\n",
       "        vertical-align: middle;\n",
       "    }\n",
       "\n",
       "    .dataframe tbody tr th {\n",
       "        vertical-align: top;\n",
       "    }\n",
       "\n",
       "    .dataframe thead th {\n",
       "        text-align: right;\n",
       "    }\n",
       "</style>\n",
       "<table border=\"1\" class=\"dataframe\">\n",
       "  <thead>\n",
       "    <tr style=\"text-align: right;\">\n",
       "      <th></th>\n",
       "      <th>Entry</th>\n",
       "      <th>Entry Name</th>\n",
       "      <th>Sequence</th>\n",
       "      <th>af3_id</th>\n",
       "    </tr>\n",
       "  </thead>\n",
       "  <tbody>\n",
       "    <tr>\n",
       "      <th>0</th>\n",
       "      <td>A5A616</td>\n",
       "      <td>MGTS_ECOLI</td>\n",
       "      <td>MLGNMNVFMAVLGIILFSGFLAAYFSHKWDD</td>\n",
       "      <td>a5a616</td>\n",
       "    </tr>\n",
       "    <tr>\n",
       "      <th>1</th>\n",
       "      <td>O32583</td>\n",
       "      <td>THIS_ECOLI</td>\n",
       "      <td>MQILFNDQAMQCAAGQTVHELLEQLDQRQAGAALAINQQIVPREQW...</td>\n",
       "      <td>o32583</td>\n",
       "    </tr>\n",
       "    <tr>\n",
       "      <th>2</th>\n",
       "      <td>P00350</td>\n",
       "      <td>6PGD_ECOLI</td>\n",
       "      <td>MSKQQIGVVGMAVMGRNLALNIESRGYTVSIFNRSREKTEEVIAEN...</td>\n",
       "      <td>p00350</td>\n",
       "    </tr>\n",
       "    <tr>\n",
       "      <th>3</th>\n",
       "      <td>P00363</td>\n",
       "      <td>FRDA_ECOLI</td>\n",
       "      <td>MQTFQADLAIVGAGGAGLRAAIAAAQANPNAKIALISKVYPMRSHT...</td>\n",
       "      <td>p00363</td>\n",
       "    </tr>\n",
       "    <tr>\n",
       "      <th>4</th>\n",
       "      <td>P00370</td>\n",
       "      <td>DHE4_ECOLI</td>\n",
       "      <td>MDQTYSLESFLNHVQKRDPNQTEFAQAVREVMTTLWPFLEQNPKYR...</td>\n",
       "      <td>p00370</td>\n",
       "    </tr>\n",
       "    <tr>\n",
       "      <th>...</th>\n",
       "      <td>...</td>\n",
       "      <td>...</td>\n",
       "      <td>...</td>\n",
       "      <td>...</td>\n",
       "    </tr>\n",
       "    <tr>\n",
       "      <th>4397</th>\n",
       "      <td>Q7DFV3</td>\n",
       "      <td>YMGG_ECOLI</td>\n",
       "      <td>MKKKILAFGLISALFCSTPAMADMNRTTKGALLGAGVGLLTGNGVN...</td>\n",
       "      <td>q7dfv3</td>\n",
       "    </tr>\n",
       "    <tr>\n",
       "      <th>4398</th>\n",
       "      <td>Q7DFV4</td>\n",
       "      <td>YMDE_ECOLI</td>\n",
       "      <td>MEDGVQAMRDYLAGLDIASPEHQVLMNVTAKSEVAPSIIKENLSLH...</td>\n",
       "      <td>q7dfv4</td>\n",
       "    </tr>\n",
       "    <tr>\n",
       "      <th>4399</th>\n",
       "      <td>Q9XB42</td>\n",
       "      <td>YKFH_ECOLI</td>\n",
       "      <td>MKIISKRRAMTIYRQHPESRIFRYCTGKYQWHGSVCHYTGRDVPDI...</td>\n",
       "      <td>q9xb42</td>\n",
       "    </tr>\n",
       "    <tr>\n",
       "      <th>4400</th>\n",
       "      <td>Q9Z3A0</td>\n",
       "      <td>YJGW_ECOLI</td>\n",
       "      <td>MIRKNKWLRFQTVCRYIPLSLKNHNRLVIFVCQRIEWRYIFSTNTG...</td>\n",
       "      <td>q9z3a0</td>\n",
       "    </tr>\n",
       "    <tr>\n",
       "      <th>4401</th>\n",
       "      <td>V9HVX0</td>\n",
       "      <td>YPAA_ECOLI</td>\n",
       "      <td>MTIAERLRQEGHQIGWQEGKLEGLHEQAIKIALRMLEQGFDRDQVL...</td>\n",
       "      <td>v9hvx0</td>\n",
       "    </tr>\n",
       "  </tbody>\n",
       "</table>\n",
       "<p>4402 rows × 4 columns</p>\n",
       "</div>"
      ],
      "text/plain": [
       "       Entry  Entry Name                                           Sequence  \\\n",
       "0     A5A616  MGTS_ECOLI                    MLGNMNVFMAVLGIILFSGFLAAYFSHKWDD   \n",
       "1     O32583  THIS_ECOLI  MQILFNDQAMQCAAGQTVHELLEQLDQRQAGAALAINQQIVPREQW...   \n",
       "2     P00350  6PGD_ECOLI  MSKQQIGVVGMAVMGRNLALNIESRGYTVSIFNRSREKTEEVIAEN...   \n",
       "3     P00363  FRDA_ECOLI  MQTFQADLAIVGAGGAGLRAAIAAAQANPNAKIALISKVYPMRSHT...   \n",
       "4     P00370  DHE4_ECOLI  MDQTYSLESFLNHVQKRDPNQTEFAQAVREVMTTLWPFLEQNPKYR...   \n",
       "...      ...         ...                                                ...   \n",
       "4397  Q7DFV3  YMGG_ECOLI  MKKKILAFGLISALFCSTPAMADMNRTTKGALLGAGVGLLTGNGVN...   \n",
       "4398  Q7DFV4  YMDE_ECOLI  MEDGVQAMRDYLAGLDIASPEHQVLMNVTAKSEVAPSIIKENLSLH...   \n",
       "4399  Q9XB42  YKFH_ECOLI  MKIISKRRAMTIYRQHPESRIFRYCTGKYQWHGSVCHYTGRDVPDI...   \n",
       "4400  Q9Z3A0  YJGW_ECOLI  MIRKNKWLRFQTVCRYIPLSLKNHNRLVIFVCQRIEWRYIFSTNTG...   \n",
       "4401  V9HVX0  YPAA_ECOLI  MTIAERLRQEGHQIGWQEGKLEGLHEQAIKIALRMLEQGFDRDQVL...   \n",
       "\n",
       "      af3_id  \n",
       "0     a5a616  \n",
       "1     o32583  \n",
       "2     p00350  \n",
       "3     p00363  \n",
       "4     p00370  \n",
       "...      ...  \n",
       "4397  q7dfv3  \n",
       "4398  q7dfv4  \n",
       "4399  q9xb42  \n",
       "4400  q9z3a0  \n",
       "4401  v9hvx0  \n",
       "\n",
       "[4402 rows x 4 columns]"
      ]
     },
     "execution_count": 2,
     "metadata": {},
     "output_type": "execute_result"
    }
   ],
   "source": [
    "# Read table, generate AF3-sanitised identifiers from uniprot id-s\n",
    "df_ = pd.read_csv('ecoli_sequences.tsv.gz', sep='\\t')\n",
    "df_['af3_id'] = df_['Entry'].map(alphafold3_jobname)\n",
    "df_"
   ]
  },
  {
   "cell_type": "code",
   "execution_count": 4,
   "id": "2ffc9d33",
   "metadata": {},
   "outputs": [
    {
     "name": "stdout",
     "output_type": "stream",
     "text": [
      "4402\n"
     ]
    }
   ],
   "source": [
    "# Write input .json-s for every monomer\n",
    "!mkdir -p alphafold3_jsons\n",
    "print(len(list(map(alphafold3_write_monomer, df_['af3_id'], df_['Sequence']))))"
   ]
  },
  {
   "cell_type": "code",
   "execution_count": 6,
   "id": "d9c48239",
   "metadata": {},
   "outputs": [
    {
     "name": "stdout",
     "output_type": "stream",
     "text": [
      "4402\n"
     ]
    }
   ],
   "source": [
    "# Check number of input .json-s equals number of sequences in the proteome table\n",
    "!ls -1 alphafold3_jsons/*.json | wc -l"
   ]
  }
 ],
 "metadata": {
  "kernelspec": {
   "display_name": "af2genomics-env2",
   "language": "python",
   "name": "python3"
  },
  "language_info": {
   "codemirror_mode": {
    "name": "ipython",
    "version": 3
   },
   "file_extension": ".py",
   "mimetype": "text/x-python",
   "name": "python",
   "nbconvert_exporter": "python",
   "pygments_lexer": "ipython3",
   "version": "3.12.7"
  }
 },
 "nbformat": 4,
 "nbformat_minor": 5
}
