{
 "cells": [
  {
   "cell_type": "code",
   "execution_count": 5,
   "metadata": {
    "vscode": {
     "languageId": "shellscript"
    }
   },
   "outputs": [
    {
     "name": "stdout",
     "output_type": "stream",
     "text": [
      "/cluster/scratch/jjaenes/batch-infer\n"
     ]
    }
   ],
   "source": [
    "# Change to directory with the batch-infer script\n",
    "cd ../..\n",
    "pwd"
   ]
  },
  {
   "cell_type": "code",
   "execution_count": null,
   "metadata": {
    "vscode": {
     "languageId": "shellscript"
    }
   },
   "outputs": [
    {
     "name": "stdout",
     "output_type": "stream",
     "text": [
      "Submitted batch job 33675149\n"
     ]
    }
   ],
   "source": [
    "# Start all data pipeline jobs exactly as before\n",
    "./batch-infer alphafold3_msas_only results/alphafold3_ecoli | sbatch"
   ]
  },
  {
   "cell_type": "code",
   "execution_count": null,
   "metadata": {
    "vscode": {
     "languageId": "shellscript"
    }
   },
   "outputs": [
    {
     "name": "stdout",
     "output_type": "stream",
     "text": [
      "   JOBID  PARTITION    NAME                                                       STATE     TIME  TIME_LIMIT  NODELIST(REASON)\n",
      "33675149  normal.120h  batch-infer:alphafold3_msas_only=results-alphafold3_ecoli  RUNNING  15:17  7-00:00:00  eu-g5-013-2\n",
      "33675674  normal.4h    alphafold3_msas:id=a5a624                                  RUNNING  13:35     4:00:00  eu-g5-040-3\n",
      "33675668  normal.4h    alphafold3_msas:id=p0dpn7                                  RUNNING  13:37     4:00:00  eu-g5-038-2\n",
      "33675661  normal.4h    alphafold3_msas:id=p0ad72                                  RUNNING  13:39     4:00:00  eu-g5-039-4\n"
     ]
    }
   ],
   "source": [
    "# Pipeline will only run for the three small proteins that did not finish during the first pass\n",
    "my_squeue"
   ]
  },
  {
   "cell_type": "code",
   "execution_count": 3,
   "metadata": {
    "vscode": {
     "languageId": "shellscript"
    }
   },
   "outputs": [],
   "source": [
    "scancel 33675149 33675674 33675668 33675661"
   ]
  },
  {
   "cell_type": "code",
   "execution_count": null,
   "metadata": {
    "vscode": {
     "languageId": "shellscript"
    }
   },
   "outputs": [
    {
     "name": "stdout",
     "output_type": "stream",
     "text": [
      "  File \"/app/alphafold/run_alphafold.py\", line 803, in <module>\n",
      "    app.run(main)\n",
      "  File \"/alphafold3_venv/lib/python3.11/site-packages/absl/app.py\", line 308, in run\n",
      "    _run_main(main, args)\n",
      "  File \"/alphafold3_venv/lib/python3.11/site-packages/absl/app.py\", line 254, in _run_main\n",
      "    sys.exit(main(argv))\n",
      "             ^^^^^^^^^^\n",
      "  File \"/app/alphafold/run_alphafold.py\", line 786, in main\n",
      "    process_fold_input(\n",
      "  File \"/app/alphafold/run_alphafold.py\", line 613, in process_fold_input\n",
      "    fold_input = pipeline.DataPipeline(data_pipeline_config).process(fold_input)\n",
      "                 ^^^^^^^^^^^^^^^^^^^^^^^^^^^^^^^^^^^^^^^^^^^^^^^^^^^^^^^^^^^^^^^\n",
      "  File \"/alphafold3_venv/lib/python3.11/site-packages/alphafold3/data/pipeline.py\", line 540, in process\n",
      "    processed_chains.append(self.process_protein_chain(chain))\n",
      "                            ^^^^^^^^^^^^^^^^^^^^^^^^^^^^^^^^^\n",
      "  File \"/alphafold3_venv/lib/python3.11/site-packages/alphafold3/data/pipeline.py\", line 423, in process_protein_chain\n",
      "    unpaired_msa, paired_msa, template_hits = _get_protein_msa_and_templates(\n",
      "                                              ^^^^^^^^^^^^^^^^^^^^^^^^^^^^^^^\n",
      "  File \"/alphafold3_venv/lib/python3.11/site-packages/alphafold3/data/pipeline.py\", line 143, in _get_protein_msa_and_templates\n",
      "    protein_templates = _get_protein_templates(\n",
      "                        ^^^^^^^^^^^^^^^^^^^^^^^\n",
      "  File \"/alphafold3_venv/lib/python3.11/site-packages/alphafold3/data/pipeline.py\", line 41, in _get_protein_templates\n",
      "    protein_templates = templates_lib.Templates.from_seq_and_a3m(\n",
      "                        ^^^^^^^^^^^^^^^^^^^^^^^^^^^^^^^^^^^^^^^^^\n",
      "  File \"/alphafold3_venv/lib/python3.11/site-packages/alphafold3/data/templates.py\", line 469, in from_seq_and_a3m\n",
      "    hmmsearch_a3m = run_hmmsearch_with_a3m(\n",
      "                    ^^^^^^^^^^^^^^^^^^^^^^^\n",
      "  File \"/alphafold3_venv/lib/python3.11/site-packages/alphafold3/data/templates.py\", line 970, in run_hmmsearch_with_a3m\n",
      "    return searcher.query_with_sto(sto, model_construction='hand')\n",
      "           ^^^^^^^^^^^^^^^^^^^^^^^^^^^^^^^^^^^^^^^^^^^^^^^^^^^^^^^\n",
      "  File \"/alphafold3_venv/lib/python3.11/site-packages/alphafold3/data/tools/hmmsearch.py\", line 149, in query_with_sto\n",
      "    return self.query_with_hmm(hmm)\n",
      "           ^^^^^^^^^^^^^^^^^^^^^^^^\n",
      "  File \"/alphafold3_venv/lib/python3.11/site-packages/alphafold3/data/tools/hmmsearch.py\", line 128, in query_with_hmm\n",
      "    a3m_out = parsers.convert_stockholm_to_a3m(\n",
      "              ^^^^^^^^^^^^^^^^^^^^^^^^^^^^^^^^^\n",
      "  File \"/alphafold3_venv/lib/python3.11/site-packages/alphafold3/data/parsers.py\", line 154, in convert_stockholm_to_a3m\n",
      "    query_sequence = next(iter(sequences.values()))\n",
      "                     ^^^^^^^^^^^^^^^^^^^^^^^^^^^^^^\n",
      "StopIteration\n"
     ]
    }
   ],
   "source": [
    "# Template search fails probably due to the short sequence?\n",
    "tail -n 40 results/alphafold3_ecoli/.snakemake-eu/logs/25-06-02/alphafold3_msas/alphafold3_msas:id=a5a624-33675674.txt"
   ]
  }
 ],
 "metadata": {
  "kernelspec": {
   "display_name": "Bash",
   "language": "bash",
   "name": "bash"
  },
  "language_info": {
   "codemirror_mode": "shell",
   "file_extension": ".sh",
   "mimetype": "text/x-sh",
   "name": "bash"
  }
 },
 "nbformat": 4,
 "nbformat_minor": 2
}
