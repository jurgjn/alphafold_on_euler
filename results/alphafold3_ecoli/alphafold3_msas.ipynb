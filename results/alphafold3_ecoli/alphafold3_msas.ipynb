{
 "cells": [
  {
   "cell_type": "code",
   "execution_count": 1,
   "metadata": {
    "vscode": {
     "languageId": "shellscript"
    }
   },
   "outputs": [
    {
     "name": "stdout",
     "output_type": "stream",
     "text": [
      "/cluster/scratch/jjaenes/batch-infer-dev\n"
     ]
    }
   ],
   "source": [
    "# Change to directory with the batch-infer script\n",
    "cd ../..\n",
    "pwd"
   ]
  },
  {
   "cell_type": "code",
   "execution_count": null,
   "metadata": {
    "vscode": {
     "languageId": "shellscript"
    }
   },
   "outputs": [
    {
     "name": "stdout",
     "output_type": "stream",
     "text": [
      "Submitted batch job 33163225\n"
     ]
    }
   ],
   "source": [
    "# Start all data pipeline jobs\n",
    "./batch-infer alphafold3_msas_only results/alphafold3_ecoli | sbatch"
   ]
  },
  {
   "cell_type": "code",
   "execution_count": null,
   "metadata": {
    "vscode": {
     "languageId": "shellscript"
    }
   },
   "outputs": [
    {
     "name": "stdout",
     "output_type": "stream",
     "text": [
      "    501      RUNNING\n"
     ]
    }
   ],
   "source": [
    "# ~500 data pipeline jobs running at the same time\n",
    "my_scounts"
   ]
  },
  {
   "cell_type": "code",
   "execution_count": 7,
   "metadata": {
    "vscode": {
     "languageId": "shellscript"
    }
   },
   "outputs": [
    {
     "name": "stdout",
     "output_type": "stream",
     "text": [
      "4399\n",
      "4402\n"
     ]
    }
   ],
   "source": [
    "# 2150 of 4402 data pipeline jobs finished\n",
    "ls -1 results/alphafold3_ecoli/alphafold3_msas/*.json.gz | wc -l\n",
    "ls -1 results/alphafold3_ecoli/alphafold3_jsons/*.json | wc -l"
   ]
  },
  {
   "cell_type": "code",
   "execution_count": 8,
   "metadata": {
    "vscode": {
     "languageId": "shellscript"
    }
   },
   "outputs": [
    {
     "name": "stdout",
     "output_type": "stream",
     "text": [
      " Shareholder group               : es_biol\n",
      " Slurm partition (queue)         : normal.120h\n",
      " Command                         : sbatch\n",
      " Working directory               : /cluster/scratch/jjaenes/batch-infer-dev\n",
      "Requested resources\n",
      " Requested runtime               : 7-00:00:00\n",
      " Requested cores (total)         : 1\n",
      " Requested nodes                 : 1\n",
      " Requested memory (total)        : 16384 MiB\n",
      "Job history\n",
      " Submitted at                    : 2025-05-27T15:16:50\n",
      " Started at                      : 2025-05-27T15:16:57\n",
      " Queue waiting time              : 7 s \n",
      "Resource usage\n",
      " Wall-clock                      : 2-01:42:00\n",
      " Total CPU time                  : 01:39:58\n",
      " CPU utilization                 : 3.35%\n",
      " Total resident memory           : 206.68 MiB\n",
      " Resident memory utilization     : 1.26%\n",
      "\n"
     ]
    }
   ],
   "source": [
    "tail -n 20 results/alphafold3_ecoli/.snakemake-eu/logs/25-05-27/batch-infer:alphafold3_msas_only=results-alphafold3_ecoli-33163225.txt"
   ]
  },
  {
   "cell_type": "code",
   "execution_count": null,
   "metadata": {
    "vscode": {
     "languageId": "shellscript"
    }
   },
   "outputs": [],
   "source": []
  }
 ],
 "metadata": {
  "kernelspec": {
   "display_name": "Bash",
   "language": "bash",
   "name": "bash"
  },
  "language_info": {
   "codemirror_mode": "shell",
   "file_extension": ".sh",
   "mimetype": "text/x-sh",
   "name": "bash"
  }
 },
 "nbformat": 4,
 "nbformat_minor": 2
}
