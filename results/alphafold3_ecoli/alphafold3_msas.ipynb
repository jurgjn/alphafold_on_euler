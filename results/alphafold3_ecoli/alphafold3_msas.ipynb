{
 "cells": [
  {
   "cell_type": "code",
   "execution_count": 1,
   "metadata": {
    "vscode": {
     "languageId": "shellscript"
    }
   },
   "outputs": [
    {
     "name": "stdout",
     "output_type": "stream",
     "text": [
      "/cluster/scratch/jjaenes/batch-infer-dev\n"
     ]
    }
   ],
   "source": [
    "# Change to directory with the batch-infer script\n",
    "cd ../..\n",
    "pwd"
   ]
  },
  {
   "cell_type": "code",
   "execution_count": null,
   "metadata": {
    "vscode": {
     "languageId": "shellscript"
    }
   },
   "outputs": [
    {
     "name": "stdout",
     "output_type": "stream",
     "text": [
      "Submitted batch job 33163225\n"
     ]
    }
   ],
   "source": [
    "# Start all data pipeline jobs\n",
    "./batch-infer alphafold3_msas_only results/alphafold3_ecoli | sbatch"
   ]
  },
  {
   "cell_type": "code",
   "execution_count": null,
   "metadata": {
    "vscode": {
     "languageId": "shellscript"
    }
   },
   "outputs": [
    {
     "name": "stdout",
     "output_type": "stream",
     "text": [
      "    501      RUNNING\n"
     ]
    }
   ],
   "source": [
    "# ~500 data pipeline jobs running at the same time\n",
    "my_scounts"
   ]
  },
  {
   "cell_type": "code",
   "execution_count": 3,
   "metadata": {
    "vscode": {
     "languageId": "shellscript"
    }
   },
   "outputs": [
    {
     "name": "stdout",
     "output_type": "stream",
     "text": [
      "2150\n",
      "4402\n"
     ]
    }
   ],
   "source": [
    "# 2150 of 4402 data pipeline jobs finished\n",
    "ls -1 results/alphafold3_ecoli/alphafold3_msas/*.json.gz | wc -l\n",
    "ls -1 results/alphafold3_ecoli/alphafold3_jsons/*.json | wc -l"
   ]
  }
 ],
 "metadata": {
  "kernelspec": {
   "display_name": "Bash",
   "language": "bash",
   "name": "bash"
  },
  "language_info": {
   "codemirror_mode": "shell",
   "file_extension": ".sh",
   "mimetype": "text/x-sh",
   "name": "bash"
  }
 },
 "nbformat": 4,
 "nbformat_minor": 2
}
