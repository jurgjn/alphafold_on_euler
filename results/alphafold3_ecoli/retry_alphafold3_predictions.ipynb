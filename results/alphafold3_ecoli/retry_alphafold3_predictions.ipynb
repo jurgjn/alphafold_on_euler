{
 "cells": [
  {
   "cell_type": "code",
   "execution_count": 1,
   "id": "08f9a616",
   "metadata": {
    "vscode": {
     "languageId": "shellscript"
    }
   },
   "outputs": [
    {
     "name": "stdout",
     "output_type": "stream",
     "text": [
      "/cluster/scratch/jjaenes/batch-infer\n"
     ]
    }
   ],
   "source": [
    "# Change to directory with the batch-infer script\n",
    "cd ../..\n",
    "pwd"
   ]
  },
  {
   "cell_type": "code",
   "execution_count": 5,
   "id": "6a23cb97",
   "metadata": {
    "vscode": {
     "languageId": "shellscript"
    }
   },
   "outputs": [
    {
     "name": "stdout",
     "output_type": "stream",
     "text": [
      "Submitted batch job 33682884\n"
     ]
    }
   ],
   "source": [
    "# Re-generate grouping table with a dry run\n",
    "./batch-infer alphafold3_predictions_multigpu results/alphafold3_ecoli --dry-run | sbatch"
   ]
  },
  {
   "cell_type": "code",
   "execution_count": 6,
   "id": "892c6a2a",
   "metadata": {
    "vscode": {
     "languageId": "shellscript"
    }
   },
   "outputs": [
    {
     "name": "stdout",
     "output_type": "stream",
     "text": [
      "head:\n",
      "id\tjson\ttokens\tpred\ttokens_check\tpred_isfile\tweight\tweight_cumsum\tbatch_id\n",
      "p39830\talphafold3_jsons/p39830.json\t558\talphafold3_predictions/p39830/p39830_model.cif.gz\tTrue\tFalse\t0.009121522417464445\t0.009121522417464445\t0\n",
      "p37659\talphafold3_jsons/p37659.json\t559\talphafold3_predictions/p37659/p37659_model.cif.gz\tTrue\tFalse\t0.009133492101788335\t0.01825501451925278\t0\n",
      "p0afr2\talphafold3_jsons/p0afr2.json\t559\talphafold3_predictions/p0afr2/p0afr2_model.cif.gz\tTrue\tFalse\t0.009133492101788335\t0.027388506621041114\t0\n",
      "p76041\talphafold3_jsons/p76041.json\t559\talphafold3_predictions/p76041/p76041_model.cif.gz\tTrue\tFalse\t0.009133492101788335\t0.03652199872282945\t0\n",
      "tail:\n",
      "p0a9m0\talphafold3_jsons/p0a9m0.json\t784\talphafold3_predictions/p0a9m0/p0a9m0_model.cif.gz\tTrue\tFalse\t0.013867047071413336\t2.9317728820335005\t2\n",
      "p31554\talphafold3_jsons/p31554.json\t784\talphafold3_predictions/p31554/p31554_model.cif.gz\tTrue\tFalse\t0.013867047071413336\t2.945639929104914\t2\n",
      "p31827\talphafold3_jsons/p31827.json\t790\talphafold3_predictions/p31827/p31827_model.cif.gz\tTrue\tFalse\t0.014048888992166669\t2.9596888180970806\t2\n",
      "p23538\talphafold3_jsons/p23538.json\t792\talphafold3_predictions/p23538/p23538_model.cif.gz\tTrue\tFalse\t0.014110144971964445\t2.973798963069045\t2\n",
      "p45420\talphafold3_jsons/p45420.json\t793\talphafold3_predictions/p45420/p45420_model.cif.gz\tTrue\tFalse\t0.014140893338028334\t2.987939856407073\t2\n"
     ]
    }
   ],
   "source": [
    "# Check grouping table\n",
    "echo 'head:'\n",
    "head -n 5 results/alphafold3_ecoli/alphafold3_predictions_multigpu.tsv\n",
    "echo 'tail:'\n",
    "tail -n 5 results/alphafold3_ecoli/alphafold3_predictions_multigpu.tsv"
   ]
  },
  {
   "cell_type": "code",
   "execution_count": 7,
   "id": "7d32480a",
   "metadata": {
    "vscode": {
     "languageId": "shellscript"
    }
   },
   "outputs": [
    {
     "name": "stdout",
     "output_type": "stream",
     "text": [
      "Submitted batch job 33683291\n"
     ]
    }
   ],
   "source": [
    "# Start batched GPU jobs (three batches)\n",
    "./batch-infer alphafold3_predictions_multigpu results/alphafold3_ecoli | sbatch"
   ]
  },
  {
   "cell_type": "code",
   "execution_count": 8,
   "id": "79c2dbeb",
   "metadata": {
    "vscode": {
     "languageId": "shellscript"
    }
   },
   "outputs": [
    {
     "name": "stdout",
     "output_type": "stream",
     "text": [
      "   JOBID  PARTITION    NAME                                                          STATE    TIME  TIME_LIMIT  NODELIST(REASON)\n",
      "33683340  gpupr.4h     alphafold3_predictions_batch1_92:                             RUNNING  1:25     4:00:00  eu-ts-01\n",
      "33683334  gpupr.4h     alphafold3_predictions_batch2_77:                             RUNNING  1:27     4:00:00  eu-ts-02\n",
      "33683330  gpupr.4h     alphafold3_predictions_batch0_105:                            RUNNING  1:29     4:00:00  eu-ts-02\n",
      "33683291  normal.120h  batch-infer:alphafold3_predictions_multigpu=results-alphafol  RUNNING  1:43  7-00:00:00  eu-g5-022-1\n"
     ]
    }
   ],
   "source": [
    "# Check jobs are submitted/running\n",
    "my_squeue"
   ]
  },
  {
   "cell_type": "code",
   "execution_count": 2,
   "id": "b42dd68e",
   "metadata": {
    "vscode": {
     "languageId": "shellscript"
    }
   },
   "outputs": [
    {
     "name": "stdout",
     "output_type": "stream",
     "text": [
      "4402\n",
      "4399\n",
      "4376\n"
     ]
    }
   ],
   "source": [
    "# Show number of inputs, data pipeline, structure prediction outputs:\n",
    "# - Data pipeline failed for three short sequences\n",
    "# - Structure prediction was successful for all input\n",
    "ls -1 results/alphafold3_ecoli/alphafold3_jsons/*.json | wc -l\n",
    "ls -1 results/alphafold3_ecoli/alphafold3_msas/*.json.gz | wc -l\n",
    "ls -1 results/alphafold3_ecoli/alphafold3_predictions/*/*_model.cif.gz | wc -l"
   ]
  },
  {
   "cell_type": "code",
   "execution_count": 10,
   "id": "d9a4c8c2",
   "metadata": {
    "vscode": {
     "languageId": "shellscript"
    }
   },
   "outputs": [
    {
     "name": "stdout",
     "output_type": "stream",
     "text": [
      "Many modules are hidden in this stack. Use \"module --show_hidden spider SOFTWARE\" if you are not able to find the required software\n",
      "Using profiles /cluster/scratch/jjaenes/batch-infer/software/smk-simple-slurm-eu and workflow specific profile workflow/profiles/default for setting default command line arguments.\n",
      "alphafold3_read_predictions_multigpu: 4,399 data pipeline outputs\n",
      "4,376 of 4,399 (99.48%) data pipeline outputs with sequences between 16 and 6000 residues\n",
      "4,376 of 4,399 (99.48%) data pipeline outputs structure predictions finished\n"
     ]
    }
   ],
   "source": [
    "# Re-generate grouping table to check that 23 (4399-4376) structure prediction jobs were skipped due to sequence length\n",
    "#rm results/alphafold3_ecoli/alphafold3_predictions_multigpu.tsv\n",
    "#./batch-infer alphafold3_predictions_multigpu results/alphafold3_ecoli --dry-run | sbatch\n",
    "head -n 5 results/alphafold3_ecoli/.snakemake-eu/logs/25-06-03/batch-infer:alphafold3_predictions_multigpu=results-alphafold3_ecoli-33784438.txt"
   ]
  }
 ],
 "metadata": {
  "kernelspec": {
   "display_name": "Bash",
   "language": "bash",
   "name": "bash"
  },
  "language_info": {
   "codemirror_mode": "shell",
   "file_extension": ".sh",
   "mimetype": "text/x-sh",
   "name": "bash"
  }
 },
 "nbformat": 4,
 "nbformat_minor": 5
}
