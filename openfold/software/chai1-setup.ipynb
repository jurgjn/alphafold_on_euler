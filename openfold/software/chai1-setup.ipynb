{
 "cells": [
  {
   "cell_type": "code",
   "execution_count": null,
   "metadata": {},
   "outputs": [],
   "source": [
    "#$ mamba create -n chai-env 'python==3.11'\n",
    "#$ conda activate chai-env\n",
    "#$ pip install git+https://github.com/chaidiscovery/chai-lab.git\n",
    "#eu-login-13 $ srun --ntasks=4 --mem-per-cpu=16G --time=1-0 --gpus=rtx_4090:1 --gres=gpumem:24g --pty bash -l\n",
    "#$ module load eth_proxy\n",
    "#$ python predict_structure_nolong.py"
   ]
  }
 ],
 "metadata": {
  "language_info": {
   "name": "python"
  }
 },
 "nbformat": 4,
 "nbformat_minor": 2
}
